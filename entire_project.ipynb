{
 "cells": [
  {
   "cell_type": "markdown",
   "metadata": {},
   "source": [
    "# Predicting review ranking on specific conditions of Drugs.com\n",
    "\n",
    "## Introduction\n",
    "The goal for this project is to study the overall data set regarding the drug name and the conditions as well as the prediction of the rating for the reviews written by the patients. We do the latter by performing Machine Learning techniques and by analyzing the rating of the reviews of drug experience for the four mostly reviewed conditions.\n",
    "\n",
    "### Data Set Information:\n",
    "In this Capstone project, the goal is to understand Drug Rating from the analysis of the text from the review feature of the drug data set available on drugs.com. We extract over 200000 records of drug data with 6 features, including drug names, condition of the disease and patient reviews on specific drugs along with related conditions on a 10 star rating reflecting patient satisfaction. The data set provided by drugs.com came in two portions of test and train sets, a 75% train set and a 25% test set partition, which we had to combine in order to get the full data set so we could start cleaning."
   ]
  },
  {
   "cell_type": "code",
   "execution_count": 4,
   "metadata": {},
   "outputs": [],
   "source": [
    "import pandas as pd\n",
    "import seaborn as sns\n",
    "import numpy as np\n",
    "import matplotlib.pyplot as plt\n",
    "import scipy.stats as stats\n",
    "import sklearn\n",
    "import scipy as sp\n",
    "import math\n",
    "import matplotlib.pyplot as plt\n",
    "pd.options.display.max_colwidth = 200\n",
    "%matplotlib inline\n",
    "#import contractions\n",
    "import unicodedata\n",
    "from numpy.random import seed\n",
    "from numpy.random import randn\n",
    "from statsmodels.graphics.gofplots import qqplot\n",
    "#from matplotlib import pyplot\n",
    "import pylab\n",
    "from statsmodels.distributions.empirical_distribution import ECDF\n",
    "from scipy.stats import norm\n",
    "from scipy import stats\n",
    "from statsmodels.stats.weightstats import ztest\n",
    "from matplotlib import rcParams\n",
    "import xlrd\n",
    "import csv  \n",
    "import os"
   ]
  },
  {
   "cell_type": "code",
   "execution_count": 7,
   "metadata": {},
   "outputs": [],
   "source": [
    "df = open(os.path.expanduser('~/Downloads/drugsCom_raw/drugsComTest_raw.tsv'))  \n",
    "df1 = open(os.path.expanduser('~/Downloads/drugsCom_raw/drugsComTrain_raw.tsv'))  \n"
   ]
  },
  {
   "cell_type": "code",
   "execution_count": 10,
   "metadata": {},
   "outputs": [],
   "source": [
    "df = pd.read_csv(df, sep=\"\\t\")\n",
    "df1 = pd.read_csv(df1, sep=\"\\t\")"
   ]
  },
  {
   "cell_type": "code",
   "execution_count": 11,
   "metadata": {},
   "outputs": [
    {
     "data": {
      "text/plain": [
       "['Unnamed: 0',\n",
       " 'drugName',\n",
       " 'condition',\n",
       " 'review',\n",
       " 'rating',\n",
       " 'date',\n",
       " 'usefulCount']"
      ]
     },
     "execution_count": 11,
     "metadata": {},
     "output_type": "execute_result"
    }
   ],
   "source": [
    "df2 = df.append(df1)\n",
    "list(df2)"
   ]
  },
  {
   "cell_type": "markdown",
   "metadata": {},
   "source": [
    "+ On the cleaning phase, it was basically the merging and re_indexing of the data that is the main thing and the rest of the data was pretty clean in other aspects.\n"
   ]
  },
  {
   "cell_type": "code",
   "execution_count": 12,
   "metadata": {},
   "outputs": [
    {
     "data": {
      "text/html": [
       "<div>\n",
       "<style scoped>\n",
       "    .dataframe tbody tr th:only-of-type {\n",
       "        vertical-align: middle;\n",
       "    }\n",
       "\n",
       "    .dataframe tbody tr th {\n",
       "        vertical-align: top;\n",
       "    }\n",
       "\n",
       "    .dataframe thead th {\n",
       "        text-align: right;\n",
       "    }\n",
       "</style>\n",
       "<table border=\"1\" class=\"dataframe\">\n",
       "  <thead>\n",
       "    <tr style=\"text-align: right;\">\n",
       "      <th></th>\n",
       "      <th>Unnamed: 0</th>\n",
       "      <th>drugName</th>\n",
       "      <th>condition</th>\n",
       "      <th>review</th>\n",
       "      <th>rating</th>\n",
       "      <th>date</th>\n",
       "      <th>usefulCount</th>\n",
       "    </tr>\n",
       "  </thead>\n",
       "  <tbody>\n",
       "    <tr>\n",
       "      <th>0</th>\n",
       "      <td>163740</td>\n",
       "      <td>Mirtazapine</td>\n",
       "      <td>Depression</td>\n",
       "      <td>\"I&amp;#039;ve tried a few antidepressants over the years (citalopram, fluoxetine, amitriptyline), but none of those helped with my depression, insomnia &amp;amp; anxiety. My doctor suggested and changed ...</td>\n",
       "      <td>10.0</td>\n",
       "      <td>February 28, 2012</td>\n",
       "      <td>22</td>\n",
       "    </tr>\n",
       "    <tr>\n",
       "      <th>1</th>\n",
       "      <td>206473</td>\n",
       "      <td>Mesalamine</td>\n",
       "      <td>Crohn's Disease, Maintenance</td>\n",
       "      <td>\"My son has Crohn&amp;#039;s disease and has done very well on the Asacol.  He has no complaints and shows no side effects.  He has taken as many as nine tablets per day at one time.  I&amp;#039;ve been v...</td>\n",
       "      <td>8.0</td>\n",
       "      <td>May 17, 2009</td>\n",
       "      <td>17</td>\n",
       "    </tr>\n",
       "    <tr>\n",
       "      <th>2</th>\n",
       "      <td>159672</td>\n",
       "      <td>Bactrim</td>\n",
       "      <td>Urinary Tract Infection</td>\n",
       "      <td>\"Quick reduction of symptoms\"</td>\n",
       "      <td>9.0</td>\n",
       "      <td>September 29, 2017</td>\n",
       "      <td>3</td>\n",
       "    </tr>\n",
       "    <tr>\n",
       "      <th>3</th>\n",
       "      <td>39293</td>\n",
       "      <td>Contrave</td>\n",
       "      <td>Weight Loss</td>\n",
       "      <td>\"Contrave combines drugs that were used for alcohol, smoking, and opioid cessation. People lose weight on it because it also helps control over-eating. I have no doubt that most obesity is caused ...</td>\n",
       "      <td>9.0</td>\n",
       "      <td>March 5, 2017</td>\n",
       "      <td>35</td>\n",
       "    </tr>\n",
       "    <tr>\n",
       "      <th>4</th>\n",
       "      <td>97768</td>\n",
       "      <td>Cyclafem 1 / 35</td>\n",
       "      <td>Birth Control</td>\n",
       "      <td>\"I have been on this birth control for one cycle. After reading some of the reviews on this type and similar birth controls I was a bit apprehensive to start. Im giving this birth control a 9 out ...</td>\n",
       "      <td>9.0</td>\n",
       "      <td>October 22, 2015</td>\n",
       "      <td>4</td>\n",
       "    </tr>\n",
       "  </tbody>\n",
       "</table>\n",
       "</div>"
      ],
      "text/plain": [
       "   Unnamed: 0         drugName                     condition  \\\n",
       "0      163740      Mirtazapine                    Depression   \n",
       "1      206473       Mesalamine  Crohn's Disease, Maintenance   \n",
       "2      159672          Bactrim       Urinary Tract Infection   \n",
       "3       39293         Contrave                   Weight Loss   \n",
       "4       97768  Cyclafem 1 / 35                 Birth Control   \n",
       "\n",
       "                                                                                                                                                                                                    review  \\\n",
       "0  \"I&#039;ve tried a few antidepressants over the years (citalopram, fluoxetine, amitriptyline), but none of those helped with my depression, insomnia &amp; anxiety. My doctor suggested and changed ...   \n",
       "1  \"My son has Crohn&#039;s disease and has done very well on the Asacol.  He has no complaints and shows no side effects.  He has taken as many as nine tablets per day at one time.  I&#039;ve been v...   \n",
       "2                                                                                                                                                                            \"Quick reduction of symptoms\"   \n",
       "3  \"Contrave combines drugs that were used for alcohol, smoking, and opioid cessation. People lose weight on it because it also helps control over-eating. I have no doubt that most obesity is caused ...   \n",
       "4  \"I have been on this birth control for one cycle. After reading some of the reviews on this type and similar birth controls I was a bit apprehensive to start. Im giving this birth control a 9 out ...   \n",
       "\n",
       "   rating                date  usefulCount  \n",
       "0    10.0   February 28, 2012           22  \n",
       "1     8.0        May 17, 2009           17  \n",
       "2     9.0  September 29, 2017            3  \n",
       "3     9.0       March 5, 2017           35  \n",
       "4     9.0    October 22, 2015            4  "
      ]
     },
     "execution_count": 12,
     "metadata": {},
     "output_type": "execute_result"
    }
   ],
   "source": [
    "df2.reset_index(drop=True).head()"
   ]
  },
  {
   "cell_type": "markdown",
   "metadata": {},
   "source": [
    "### Exploratory Data Analysis\n",
    "Here, we are getting to know our data set in terms of its associated features. We explore the data types of each feature as well as counts of different drug names and conditions."
   ]
  },
  {
   "cell_type": "code",
   "execution_count": 13,
   "metadata": {},
   "outputs": [
    {
     "data": {
      "text/plain": [
       "Index(['Unnamed: 0', 'drugName', 'condition', 'review', 'rating', 'date',\n",
       "       'usefulCount'],\n",
       "      dtype='object')"
      ]
     },
     "execution_count": 13,
     "metadata": {},
     "output_type": "execute_result"
    }
   ],
   "source": [
    "df2.columns"
   ]
  },
  {
   "cell_type": "code",
   "execution_count": 14,
   "metadata": {},
   "outputs": [
    {
     "data": {
      "text/plain": [
       "Unnamed: 0       int64\n",
       "drugName        object\n",
       "condition       object\n",
       "review          object\n",
       "rating         float64\n",
       "date            object\n",
       "usefulCount      int64\n",
       "dtype: object"
      ]
     },
     "execution_count": 14,
     "metadata": {},
     "output_type": "execute_result"
    }
   ],
   "source": [
    "df2.dtypes"
   ]
  },
  {
   "cell_type": "code",
   "execution_count": 15,
   "metadata": {},
   "outputs": [
    {
     "data": {
      "text/plain": [
       "Unnamed: 0       int64\n",
       "drugName        object\n",
       "condition       object\n",
       "review          object\n",
       "rating         float64\n",
       "date            object\n",
       "usefulCount      int64\n",
       "dtype: object"
      ]
     },
     "execution_count": 15,
     "metadata": {},
     "output_type": "execute_result"
    }
   ],
   "source": [
    "df1.dtypes"
   ]
  },
  {
   "cell_type": "code",
   "execution_count": 16,
   "metadata": {},
   "outputs": [
    {
     "data": {
      "text/plain": [
       "Unnamed: 0       int64\n",
       "drugName        object\n",
       "condition       object\n",
       "review          object\n",
       "rating         float64\n",
       "date            object\n",
       "usefulCount      int64\n",
       "dtype: object"
      ]
     },
     "execution_count": 16,
     "metadata": {},
     "output_type": "execute_result"
    }
   ],
   "source": [
    "df.dtypes"
   ]
  },
  {
   "cell_type": "code",
   "execution_count": 17,
   "metadata": {},
   "outputs": [
    {
     "data": {
      "text/plain": [
       "Levonorgestrel                        1273\n",
       "Etonogestrel                          1085\n",
       "Ethinyl estradiol / norethindrone      903\n",
       "Nexplanon                              736\n",
       "Ethinyl estradiol / norgestimate       673\n",
       "Ethinyl estradiol / levonorgestrel     615\n",
       "Phentermine                            542\n",
       "Sertraline                             508\n",
       "Escitalopram                           455\n",
       "Mirena                                 431\n",
       "Implanon                               404\n",
       "Gabapentin                             368\n",
       "Bupropion                              347\n",
       "Miconazole                             344\n",
       "Duloxetine                             322\n",
       "Name: drugName, dtype: int64"
      ]
     },
     "execution_count": 17,
     "metadata": {},
     "output_type": "execute_result"
    }
   ],
   "source": [
    "df.drugName.value_counts().head(15)"
   ]
  },
  {
   "cell_type": "code",
   "execution_count": 18,
   "metadata": {},
   "outputs": [
    {
     "data": {
      "text/plain": [
       "Birth Control      9648\n",
       "Depression         3095\n",
       "Pain               2100\n",
       "Anxiety            1908\n",
       "Acne               1847\n",
       "Bipolar Disorde    1380\n",
       "Weight Loss        1248\n",
       "Insomnia           1231\n",
       "Obesity            1189\n",
       "ADHD               1126\n",
       "Name: condition, dtype: int64"
      ]
     },
     "execution_count": 18,
     "metadata": {},
     "output_type": "execute_result"
    }
   ],
   "source": [
    "df['condition'].value_counts()[:10]"
   ]
  },
  {
   "cell_type": "code",
   "execution_count": 19,
   "metadata": {},
   "outputs": [
    {
     "data": {
      "text/plain": [
       "Birth Control      28788\n",
       "Depression          9069\n",
       "Pain                6145\n",
       "Anxiety             5904\n",
       "Acne                5588\n",
       "Bipolar Disorde     4224\n",
       "Insomnia            3673\n",
       "Weight Loss         3609\n",
       "Obesity             3568\n",
       "ADHD                3383\n",
       "Name: condition, dtype: int64"
      ]
     },
     "execution_count": 19,
     "metadata": {},
     "output_type": "execute_result"
    }
   ],
   "source": [
    "df1['condition'].value_counts()[:10]"
   ]
  },
  {
   "cell_type": "code",
   "execution_count": 20,
   "metadata": {},
   "outputs": [
    {
     "data": {
      "text/plain": [
       "Birth Control      38436\n",
       "Depression         12164\n",
       "Pain                8245\n",
       "Anxiety             7812\n",
       "Acne                7435\n",
       "Bipolar Disorde     5604\n",
       "Insomnia            4904\n",
       "Weight Loss         4857\n",
       "Obesity             4757\n",
       "ADHD                4509\n",
       "Name: condition, dtype: int64"
      ]
     },
     "execution_count": 20,
     "metadata": {},
     "output_type": "execute_result"
    }
   ],
   "source": [
    "df2['condition'].value_counts()[:10]"
   ]
  },
  {
   "cell_type": "markdown",
   "metadata": {},
   "source": [
    "+ Investigating the ratio of Birth Control in the test, train and the entire data set.\n"
   ]
  },
  {
   "cell_type": "code",
   "execution_count": 21,
   "metadata": {},
   "outputs": [],
   "source": [
    "df2t = len(df2.condition)"
   ]
  },
  {
   "cell_type": "code",
   "execution_count": 22,
   "metadata": {},
   "outputs": [],
   "source": [
    "cbc = len(df2[df2['condition'] == 'Birth Control'] )\n",
    "#df2[df2['condition']=='Birth Control']"
   ]
  },
  {
   "cell_type": "code",
   "execution_count": 23,
   "metadata": {},
   "outputs": [
    {
     "name": "stdout",
     "output_type": "stream",
     "text": [
      "Ratio of the number of Birth Control to the entire data set: 0.1787197239878547\n"
     ]
    }
   ],
   "source": [
    "print(\"Ratio of the number of Birth Control to the entire data set: \" + str(cbc/df2t))"
   ]
  },
  {
   "cell_type": "code",
   "execution_count": 24,
   "metadata": {},
   "outputs": [
    {
     "name": "stdout",
     "output_type": "stream",
     "text": [
      "Ratio of the number of Birth Control to the entire data set: 0.1784782110020645\n"
     ]
    }
   ],
   "source": [
    "df1t = len(df1.condition)\n",
    "cbc1 = len(df1[df1['condition'] == 'Birth Control'] )\n",
    "print(\"Ratio of the number of Birth Control to the entire data set: \" + str(cbc1/df1t))"
   ]
  },
  {
   "cell_type": "code",
   "execution_count": 25,
   "metadata": {},
   "outputs": [
    {
     "name": "stdout",
     "output_type": "stream",
     "text": [
      "Ratio of the number of Birth Control to the entire data set: 0.17944425845329762\n"
     ]
    }
   ],
   "source": [
    "dft = len(df.condition)\n",
    "cbc0 = len(df[df['condition'] == 'Birth Control'] )\n",
    "print(\"Ratio of the number of Birth Control to the entire data set: \" + str(cbc0/dft))"
   ]
  },
  {
   "cell_type": "markdown",
   "metadata": {},
   "source": [
    "+ Checking to see the Drug names counts in the test and the entire data set:\n"
   ]
  },
  {
   "cell_type": "code",
   "execution_count": 26,
   "metadata": {},
   "outputs": [
    {
     "data": {
      "text/plain": [
       "Levonorgestrel                        3657\n",
       "Etonogestrel                          3336\n",
       "Ethinyl estradiol / norethindrone     2850\n",
       "Nexplanon                             2156\n",
       "Ethinyl estradiol / norgestimate      2117\n",
       "Ethinyl estradiol / levonorgestrel    1888\n",
       "Phentermine                           1543\n",
       "Sertraline                            1360\n",
       "Escitalopram                          1292\n",
       "Mirena                                1242\n",
       "Implanon                              1102\n",
       "Gabapentin                            1047\n",
       "Bupropion                             1022\n",
       "Venlafaxine                           1016\n",
       "Miconazole                            1000\n",
       "Name: drugName, dtype: int64"
      ]
     },
     "execution_count": 26,
     "metadata": {},
     "output_type": "execute_result"
    }
   ],
   "source": [
    "df1.drugName.value_counts().head(15)"
   ]
  },
  {
   "cell_type": "code",
   "execution_count": 27,
   "metadata": {},
   "outputs": [
    {
     "data": {
      "text/plain": [
       "Levonorgestrel                        4930\n",
       "Etonogestrel                          4421\n",
       "Ethinyl estradiol / norethindrone     3753\n",
       "Nexplanon                             2892\n",
       "Ethinyl estradiol / norgestimate      2790\n",
       "Ethinyl estradiol / levonorgestrel    2503\n",
       "Phentermine                           2085\n",
       "Sertraline                            1868\n",
       "Escitalopram                          1747\n",
       "Mirena                                1673\n",
       "Implanon                              1506\n",
       "Gabapentin                            1415\n",
       "Bupropion                             1369\n",
       "Miconazole                            1344\n",
       "Venlafaxine                           1338\n",
       "Name: drugName, dtype: int64"
      ]
     },
     "execution_count": 27,
     "metadata": {},
     "output_type": "execute_result"
    }
   ],
   "source": [
    "df2.drugName.value_counts().head(15)"
   ]
  },
  {
   "cell_type": "code",
   "execution_count": 28,
   "metadata": {},
   "outputs": [
    {
     "data": {
      "text/plain": [
       "Birth Control                38436\n",
       "Depression                   12164\n",
       "Pain                          8245\n",
       "Anxiety                       7812\n",
       "Acne                          7435\n",
       "Bipolar Disorde               5604\n",
       "Insomnia                      4904\n",
       "Weight Loss                   4857\n",
       "Obesity                       4757\n",
       "ADHD                          4509\n",
       "Diabetes, Type 2              3362\n",
       "Emergency Contraception       3290\n",
       "High Blood Pressure           3104\n",
       "Vaginal Yeast Infection       3085\n",
       "Abnormal Uterine Bleeding     2744\n",
       "Name: condition, dtype: int64"
      ]
     },
     "execution_count": 28,
     "metadata": {},
     "output_type": "execute_result"
    }
   ],
   "source": [
    "df2.condition.value_counts().head(15)"
   ]
  },
  {
   "cell_type": "markdown",
   "metadata": {},
   "source": [
    "+ As we can see, the rating of the Drugs seems to be bi-modal; namely, it is mostly populated in the 9 and 10 ratings as well as 1. This means that patients review drugs either when they really like a certain drug or completely dislike it."
   ]
  },
  {
   "cell_type": "code",
   "execution_count": 29,
   "metadata": {},
   "outputs": [
    {
     "data": {
      "text/plain": [
       "<matplotlib.axes._subplots.AxesSubplot at 0x7fd0d84676d8>"
      ]
     },
     "execution_count": 29,
     "metadata": {},
     "output_type": "execute_result"
    },
    {
     "data": {
      "image/png": "[encoded data removed]",
      "text/plain": [
       "<Figure size 432x288 with 1 Axes>"
      ]
     },
     "metadata": {
      "needs_background": "light"
     },
     "output_type": "display_data"
    }
   ],
   "source": [
    "# Histogram of Rating: \n",
    "\n",
    "df2['rating'].plot(kind = 'hist')"
   ]
  },
  {
   "cell_type": "code",
   "execution_count": 30,
   "metadata": {},
   "outputs": [
    {
     "data": {
      "text/plain": [
       "count    215063.000000\n",
       "mean         28.001004\n",
       "std          36.346069\n",
       "min           0.000000\n",
       "25%           6.000000\n",
       "50%          16.000000\n",
       "75%          36.000000\n",
       "max        1291.000000\n",
       "Name: usefulCount, dtype: float64"
      ]
     },
     "execution_count": 30,
     "metadata": {},
     "output_type": "execute_result"
    }
   ],
   "source": [
    "df2.usefulCount.describe()  #is the count here the number of rows? 215063? yes\n"
   ]
  },
  {
   "cell_type": "code",
   "execution_count": 32,
   "metadata": {},
   "outputs": [
    {
     "data": {
      "text/html": [
       "<div>\n",
       "<style scoped>\n",
       "    .dataframe tbody tr th:only-of-type {\n",
       "        vertical-align: middle;\n",
       "    }\n",
       "\n",
       "    .dataframe tbody tr th {\n",
       "        vertical-align: top;\n",
       "    }\n",
       "\n",
       "    .dataframe thead th {\n",
       "        text-align: right;\n",
       "    }\n",
       "</style>\n",
       "<table border=\"1\" class=\"dataframe\">\n",
       "  <thead>\n",
       "    <tr style=\"text-align: right;\">\n",
       "      <th></th>\n",
       "      <th>Unnamed: 0</th>\n",
       "      <th>drugName</th>\n",
       "      <th>condition</th>\n",
       "      <th>review</th>\n",
       "      <th>rating</th>\n",
       "      <th>date</th>\n",
       "      <th>usefulCount</th>\n",
       "    </tr>\n",
       "  </thead>\n",
       "  <tbody>\n",
       "    <tr>\n",
       "      <th>0</th>\n",
       "      <td>163740</td>\n",
       "      <td>Mirtazapine</td>\n",
       "      <td>Depression</td>\n",
       "      <td>\"I&amp;#039;ve tried a few antidepressants over the years (citalopram, fluoxetine, amitriptyline), but none of those helped with my depression, insomnia &amp;amp; anxiety. My doctor suggested and changed ...</td>\n",
       "      <td>10.0</td>\n",
       "      <td>February 28, 2012</td>\n",
       "      <td>22</td>\n",
       "    </tr>\n",
       "    <tr>\n",
       "      <th>1</th>\n",
       "      <td>206473</td>\n",
       "      <td>Mesalamine</td>\n",
       "      <td>Crohn's Disease, Maintenance</td>\n",
       "      <td>\"My son has Crohn&amp;#039;s disease and has done very well on the Asacol.  He has no complaints and shows no side effects.  He has taken as many as nine tablets per day at one time.  I&amp;#039;ve been v...</td>\n",
       "      <td>8.0</td>\n",
       "      <td>May 17, 2009</td>\n",
       "      <td>17</td>\n",
       "    </tr>\n",
       "    <tr>\n",
       "      <th>2</th>\n",
       "      <td>159672</td>\n",
       "      <td>Bactrim</td>\n",
       "      <td>Urinary Tract Infection</td>\n",
       "      <td>\"Quick reduction of symptoms\"</td>\n",
       "      <td>9.0</td>\n",
       "      <td>September 29, 2017</td>\n",
       "      <td>3</td>\n",
       "    </tr>\n",
       "    <tr>\n",
       "      <th>3</th>\n",
       "      <td>39293</td>\n",
       "      <td>Contrave</td>\n",
       "      <td>Weight Loss</td>\n",
       "      <td>\"Contrave combines drugs that were used for alcohol, smoking, and opioid cessation. People lose weight on it because it also helps control over-eating. I have no doubt that most obesity is caused ...</td>\n",
       "      <td>9.0</td>\n",
       "      <td>March 5, 2017</td>\n",
       "      <td>35</td>\n",
       "    </tr>\n",
       "    <tr>\n",
       "      <th>4</th>\n",
       "      <td>97768</td>\n",
       "      <td>Cyclafem 1 / 35</td>\n",
       "      <td>Birth Control</td>\n",
       "      <td>\"I have been on this birth control for one cycle. After reading some of the reviews on this type and similar birth controls I was a bit apprehensive to start. Im giving this birth control a 9 out ...</td>\n",
       "      <td>9.0</td>\n",
       "      <td>October 22, 2015</td>\n",
       "      <td>4</td>\n",
       "    </tr>\n",
       "  </tbody>\n",
       "</table>\n",
       "</div>"
      ],
      "text/plain": [
       "   Unnamed: 0         drugName                     condition  \\\n",
       "0      163740      Mirtazapine                    Depression   \n",
       "1      206473       Mesalamine  Crohn's Disease, Maintenance   \n",
       "2      159672          Bactrim       Urinary Tract Infection   \n",
       "3       39293         Contrave                   Weight Loss   \n",
       "4       97768  Cyclafem 1 / 35                 Birth Control   \n",
       "\n",
       "                                                                                                                                                                                                    review  \\\n",
       "0  \"I&#039;ve tried a few antidepressants over the years (citalopram, fluoxetine, amitriptyline), but none of those helped with my depression, insomnia &amp; anxiety. My doctor suggested and changed ...   \n",
       "1  \"My son has Crohn&#039;s disease and has done very well on the Asacol.  He has no complaints and shows no side effects.  He has taken as many as nine tablets per day at one time.  I&#039;ve been v...   \n",
       "2                                                                                                                                                                            \"Quick reduction of symptoms\"   \n",
       "3  \"Contrave combines drugs that were used for alcohol, smoking, and opioid cessation. People lose weight on it because it also helps control over-eating. I have no doubt that most obesity is caused ...   \n",
       "4  \"I have been on this birth control for one cycle. After reading some of the reviews on this type and similar birth controls I was a bit apprehensive to start. Im giving this birth control a 9 out ...   \n",
       "\n",
       "   rating                date  usefulCount  \n",
       "0    10.0   February 28, 2012           22  \n",
       "1     8.0        May 17, 2009           17  \n",
       "2     9.0  September 29, 2017            3  \n",
       "3     9.0       March 5, 2017           35  \n",
       "4     9.0    October 22, 2015            4  "
      ]
     },
     "execution_count": 32,
     "metadata": {},
     "output_type": "execute_result"
    }
   ],
   "source": [
    "df2[df2['usefulCount']!= 0].head()"
   ]
  },
  {
   "cell_type": "code",
   "execution_count": 33,
   "metadata": {},
   "outputs": [
    {
     "data": {
      "text/plain": [
       "<matplotlib.axes._subplots.AxesSubplot at 0x7fd0b8dfd748>"
      ]
     },
     "execution_count": 33,
     "metadata": {},
     "output_type": "execute_result"
    },
    {
     "data": {
      "image/png": "[encoded data removed]",
      "text/plain": [
       "<Figure size 432x288 with 1 Axes>"
      ]
     },
     "metadata": {
      "needs_background": "light"
     },
     "output_type": "display_data"
    }
   ],
   "source": [
    "#'number of users who found review useful' \n",
    "#We need to plot graph of rating vs usefulcount to see any correlation \n",
    "\n",
    "df2['usefulCount'].plot(kind = 'hist')"
   ]
  },
  {
   "cell_type": "code",
   "execution_count": 34,
   "metadata": {},
   "outputs": [
    {
     "data": {
      "text/plain": [
       "206661"
      ]
     },
     "execution_count": 34,
     "metadata": {},
     "output_type": "execute_result"
    }
   ],
   "source": [
    "len(df2['usefulCount'][df2['usefulCount']>0])\n"
   ]
  },
  {
   "cell_type": "code",
   "execution_count": 35,
   "metadata": {},
   "outputs": [
    {
     "data": {
      "text/plain": [
       "8402"
      ]
     },
     "execution_count": 35,
     "metadata": {},
     "output_type": "execute_result"
    }
   ],
   "source": [
    "len(df2['usefulCount'][df2['usefulCount'] == 0])\n"
   ]
  },
  {
   "cell_type": "code",
   "execution_count": 36,
   "metadata": {},
   "outputs": [
    {
     "data": {
      "text/plain": [
       "215063"
      ]
     },
     "execution_count": 36,
     "metadata": {},
     "output_type": "execute_result"
    }
   ],
   "source": [
    "len(df2['usefulCount'])\n"
   ]
  },
  {
   "cell_type": "code",
   "execution_count": 37,
   "metadata": {},
   "outputs": [
    {
     "data": {
      "text/plain": [
       "8402"
      ]
     },
     "execution_count": 37,
     "metadata": {},
     "output_type": "execute_result"
    }
   ],
   "source": [
    "# so we zeros for the userCount\n",
    "len(df2['usefulCount']) - len(df2['usefulCount'][df2['usefulCount']>0])\n"
   ]
  },
  {
   "cell_type": "markdown",
   "metadata": {},
   "source": [
    "+ Logarithm of number of people who found a review useful is noramlly distributed.\n"
   ]
  },
  {
   "cell_type": "code",
   "execution_count": 38,
   "metadata": {},
   "outputs": [
    {
     "data": {
      "image/png": "[encoded data removed]",
      "text/plain": [
       "<Figure size 432x288 with 1 Axes>"
      ]
     },
     "metadata": {
      "needs_background": "light"
     },
     "output_type": "display_data"
    }
   ],
   "source": [
    "plt.hist(np.log(df2['usefulCount'][df2['usefulCount']>0])) #when in doubt take a log! lol \n",
    "                                                            # and it's a normal distribution!\n",
    "    # the usegful count by itself is very skewed but the log tranform of it makes it noraml distributed\n",
    "plt.title(\"Log of number of People found a review useful\")\n",
    "plt.xlabel(\"useful counts of a review\") \n",
    "plt.ylabel(\"Frequencey\")\n",
    "plt.show()"
   ]
  },
  {
   "cell_type": "markdown",
   "metadata": {},
   "source": [
    "+ Histogram of less than 100 useful count (people who find a review useful) on a review:\n"
   ]
  },
  {
   "cell_type": "code",
   "execution_count": 39,
   "metadata": {},
   "outputs": [
    {
     "data": {
      "text/plain": [
       "<matplotlib.axes._subplots.AxesSubplot at 0x7fd0f8799080>"
      ]
     },
     "execution_count": 39,
     "metadata": {},
     "output_type": "execute_result"
    },
    {
     "data": {
      "image/png": "[encoded data removed]",
      "text/plain": [
       "<Figure size 432x288 with 1 Axes>"
      ]
     },
     "metadata": {
      "needs_background": "light"
     },
     "output_type": "display_data"
    }
   ],
   "source": [
    "df2[df2['usefulCount']<100]['usefulCount'].plot(kind='hist') \n",
    "#df2['usefulCount'][df2['usefulCount']<100].plot(kind='hist') either works are these 2 lines always give identical answers?"
   ]
  },
  {
   "cell_type": "code",
   "execution_count": 40,
   "metadata": {},
   "outputs": [
    {
     "data": {
      "text/plain": [
       "<matplotlib.axes._subplots.AxesSubplot at 0x7fd0d8506470>"
      ]
     },
     "execution_count": 40,
     "metadata": {},
     "output_type": "execute_result"
    },
    {
     "data": {
      "image/png": "[encoded data removed]",
      "text/plain": [
       "<Figure size 432x288 with 1 Axes>"
      ]
     },
     "metadata": {
      "needs_background": "light"
     },
     "output_type": "display_data"
    }
   ],
   "source": [
    "df2['usefulCount'][df2['usefulCount']<100].plot(kind='hist')"
   ]
  },
  {
   "cell_type": "code",
   "execution_count": 41,
   "metadata": {},
   "outputs": [
    {
     "data": {
      "text/html": [
       "<div>\n",
       "<style scoped>\n",
       "    .dataframe tbody tr th:only-of-type {\n",
       "        vertical-align: middle;\n",
       "    }\n",
       "\n",
       "    .dataframe tbody tr th {\n",
       "        vertical-align: top;\n",
       "    }\n",
       "\n",
       "    .dataframe thead th {\n",
       "        text-align: right;\n",
       "    }\n",
       "</style>\n",
       "<table border=\"1\" class=\"dataframe\">\n",
       "  <thead>\n",
       "    <tr style=\"text-align: right;\">\n",
       "      <th></th>\n",
       "      <th>usefulCount</th>\n",
       "      <th>rating</th>\n",
       "    </tr>\n",
       "  </thead>\n",
       "  <tbody>\n",
       "    <tr>\n",
       "      <th>0</th>\n",
       "      <td>22</td>\n",
       "      <td>10.0</td>\n",
       "    </tr>\n",
       "    <tr>\n",
       "      <th>1</th>\n",
       "      <td>17</td>\n",
       "      <td>8.0</td>\n",
       "    </tr>\n",
       "    <tr>\n",
       "      <th>2</th>\n",
       "      <td>3</td>\n",
       "      <td>9.0</td>\n",
       "    </tr>\n",
       "    <tr>\n",
       "      <th>3</th>\n",
       "      <td>35</td>\n",
       "      <td>9.0</td>\n",
       "    </tr>\n",
       "    <tr>\n",
       "      <th>4</th>\n",
       "      <td>4</td>\n",
       "      <td>9.0</td>\n",
       "    </tr>\n",
       "  </tbody>\n",
       "</table>\n",
       "</div>"
      ],
      "text/plain": [
       "   usefulCount  rating\n",
       "0           22    10.0\n",
       "1           17     8.0\n",
       "2            3     9.0\n",
       "3           35     9.0\n",
       "4            4     9.0"
      ]
     },
     "execution_count": 41,
     "metadata": {},
     "output_type": "execute_result"
    }
   ],
   "source": [
    "df2[['usefulCount', 'rating']][df2['usefulCount']<200].head()  #.plot(kind='scatter', x = df2.rating, y = 'usefulCount')"
   ]
  },
  {
   "cell_type": "markdown",
   "metadata": {},
   "source": [
    "This is a graph of Rating of the reviews on the reviews that the users found useful. We chose a section of the count (less than 200) to make the graph less cluttered and more informative. Although it really didn't help much."
   ]
  },
  {
   "cell_type": "code",
   "execution_count": 42,
   "metadata": {},
   "outputs": [
    {
     "data": {
      "image/png": "[encoded data removed]",
      "text/plain": [
       "<Figure size 432x288 with 1 Axes>"
      ]
     },
     "metadata": {
      "needs_background": "light"
     },
     "output_type": "display_data"
    }
   ],
   "source": [
    "df3 = df2[['usefulCount', 'rating']][df2['usefulCount']<200]\n",
    "plt.scatter( y = df3.usefulCount, x= df3.rating)\n",
    "plt.xlabel('Rating')\n",
    "plt.ylabel('Users found Reviews Useful')\n",
    "plt.show()"
   ]
  },
  {
   "cell_type": "markdown",
   "metadata": {},
   "source": [
    "People who have found a review useful seems to be more populated around very good review ratings (8 through 10)\n",
    "\n"
   ]
  },
  {
   "cell_type": "code",
   "execution_count": 43,
   "metadata": {},
   "outputs": [
    {
     "data": {
      "image/png": "[encoded data removed]",
      "text/plain": [
       "<Figure size 432x288 with 1 Axes>"
      ]
     },
     "metadata": {
      "needs_background": "light"
     },
     "output_type": "display_data"
    }
   ],
   "source": [
    "plt.scatter('rating', 'usefulCount',  data= df2) \n",
    "plt.xlabel('Rating')\n",
    "plt.ylabel('Users found Reviews Useful')\n",
    "plt.show()"
   ]
  },
  {
   "cell_type": "markdown",
   "metadata": {},
   "source": [
    "The following is various violin plots for the rating of the drugs and the number of people who found them useful.\n",
    "\n"
   ]
  },
  {
   "cell_type": "code",
   "execution_count": 44,
   "metadata": {},
   "outputs": [
    {
     "data": {
      "image/png": "[encoded data removed]",
      "text/plain": [
       "<Figure size 432x288 with 1 Axes>"
      ]
     },
     "metadata": {
      "needs_background": "light"
     },
     "output_type": "display_data"
    }
   ],
   "source": [
    "#sns.set(style=\"whitegrid\")   \n",
    "ax = sns.violinplot(x=\"rating\", y = \"usefulCount\" , data=df2)"
   ]
  },
  {
   "cell_type": "code",
   "execution_count": 45,
   "metadata": {},
   "outputs": [
    {
     "data": {
      "image/png": "[encoded data removed]",
      "text/plain": [
       "<Figure size 432x288 with 1 Axes>"
      ]
     },
     "metadata": {
      "needs_background": "light"
     },
     "output_type": "display_data"
    }
   ],
   "source": [
    "#df3 = df2[['usefulCount', 'rating']][df2['usefulCount']<200]\n",
    "sns.violinplot( y = df3.usefulCount, x= df3.rating)\n",
    "plt.xlabel('Rating')\n",
    "plt.ylabel('Users found Reviews Useful')\n",
    "plt.show()"
   ]
  },
  {
   "cell_type": "code",
   "execution_count": 46,
   "metadata": {},
   "outputs": [
    {
     "data": {
      "text/plain": [
       "<matplotlib.axes._subplots.AxesSubplot at 0x7fd108d66550>"
      ]
     },
     "execution_count": 46,
     "metadata": {},
     "output_type": "execute_result"
    },
    {
     "data": {
      "image/png": "[encoded data removed]",
      "text/plain": [
       "<Figure size 432x288 with 1 Axes>"
      ]
     },
     "metadata": {
      "needs_background": "light"
     },
     "output_type": "display_data"
    }
   ],
   "source": [
    "useful = df2[df2['usefulCount']<100]  # <50\n",
    "type(useful)\n",
    "sns.violinplot(x=\"rating\", y = useful.usefulCount , data=useful)"
   ]
  },
  {
   "cell_type": "markdown",
   "metadata": {},
   "source": [
    "##### In this part of the exploratory data analysis, we are visualizing the counts for drug names, the fisrt 40 drugs, first 10 drugs, etc.¶\n"
   ]
  },
  {
   "cell_type": "code",
   "execution_count": 47,
   "metadata": {},
   "outputs": [
    {
     "data": {
      "text/plain": [
       "<matplotlib.axes._subplots.AxesSubplot at 0x7fd108d708d0>"
      ]
     },
     "execution_count": 47,
     "metadata": {},
     "output_type": "execute_result"
    },
    {
     "data": {
      "image/png": "[encoded data removed]",
      "text/plain": [
       "<Figure size 432x288 with 1 Axes>"
      ]
     },
     "metadata": {
      "needs_background": "light"
     },
     "output_type": "display_data"
    }
   ],
   "source": [
    "df2['drugName'].value_counts()[:10].plot(kind='barh')\n"
   ]
  },
  {
   "cell_type": "code",
   "execution_count": 48,
   "metadata": {},
   "outputs": [
    {
     "data": {
      "text/plain": [
       "<matplotlib.axes._subplots.AxesSubplot at 0x7fd0b967dfd0>"
      ]
     },
     "execution_count": 48,
     "metadata": {},
     "output_type": "execute_result"
    },
    {
     "data": {
      "image/png": "[encoded data removed]",
      "text/plain": [
       "<Figure size 432x288 with 1 Axes>"
      ]
     },
     "metadata": {
      "needs_background": "light"
     },
     "output_type": "display_data"
    }
   ],
   "source": [
    "df2['drugName'].value_counts()[10:20].plot(kind='barh')\n"
   ]
  },
  {
   "cell_type": "code",
   "execution_count": 49,
   "metadata": {},
   "outputs": [
    {
     "data": {
      "text/plain": [
       "<matplotlib.axes._subplots.AxesSubplot at 0x7fd0e8e24ef0>"
      ]
     },
     "execution_count": 49,
     "metadata": {},
     "output_type": "execute_result"
    },
    {
     "data": {
      "image/png": "[encoded data removed]",
      "text/plain": [
       "<Figure size 432x288 with 1 Axes>"
      ]
     },
     "metadata": {
      "needs_background": "light"
     },
     "output_type": "display_data"
    }
   ],
   "source": [
    "df2['drugName'].value_counts()[20:30].plot(kind='barh')\n"
   ]
  },
  {
   "cell_type": "code",
   "execution_count": 50,
   "metadata": {},
   "outputs": [
    {
     "data": {
      "text/plain": [
       "<matplotlib.axes._subplots.AxesSubplot at 0x7fd1383d2710>"
      ]
     },
     "execution_count": 50,
     "metadata": {},
     "output_type": "execute_result"
    },
    {
     "data": {
      "image/png": "[encoded data removed]",
      "text/plain": [
       "<Figure size 432x288 with 1 Axes>"
      ]
     },
     "metadata": {
      "needs_background": "light"
     },
     "output_type": "display_data"
    }
   ],
   "source": [
    "df2['drugName'].value_counts()[30:40].plot(kind='barh')\n"
   ]
  },
  {
   "cell_type": "code",
   "execution_count": 51,
   "metadata": {},
   "outputs": [
    {
     "data": {
      "text/plain": [
       "<matplotlib.axes._subplots.AxesSubplot at 0x7fd0fae77a58>"
      ]
     },
     "execution_count": 51,
     "metadata": {},
     "output_type": "execute_result"
    },
    {
     "data": {
      "image/png": "[encoded data removed]",
      "text/plain": [
       "<Figure size 432x288 with 1 Axes>"
      ]
     },
     "metadata": {
      "needs_background": "light"
     },
     "output_type": "display_data"
    }
   ],
   "source": [
    "df2['drugName'].value_counts()[40:50].plot(kind='barh')\n"
   ]
  },
  {
   "cell_type": "markdown",
   "metadata": {},
   "source": [
    "\n",
    "##### In this part of the exploratory data analysis, we are visualizing the counts for the conditions in the data set.\n",
    "As we can see, Birth Control is the highest count for the conditions, followed by Depression, Pain and Anxiety."
   ]
  },
  {
   "cell_type": "code",
   "execution_count": 52,
   "metadata": {},
   "outputs": [
    {
     "data": {
      "text/plain": [
       "<matplotlib.axes._subplots.AxesSubplot at 0x7fd0eb1418d0>"
      ]
     },
     "execution_count": 52,
     "metadata": {},
     "output_type": "execute_result"
    },
    {
     "data": {
      "image/png": "[encoded data removed]",
      "text/plain": [
       "<Figure size 432x288 with 1 Axes>"
      ]
     },
     "metadata": {
      "needs_background": "light"
     },
     "output_type": "display_data"
    }
   ],
   "source": [
    "df2['condition'].value_counts()[:20].plot(kind='barh')\n"
   ]
  },
  {
   "cell_type": "code",
   "execution_count": 53,
   "metadata": {},
   "outputs": [
    {
     "data": {
      "text/plain": [
       "<matplotlib.axes._subplots.AxesSubplot at 0x7fd0f91fde80>"
      ]
     },
     "execution_count": 53,
     "metadata": {},
     "output_type": "execute_result"
    },
    {
     "data": {
      "image/png": "[encoded data removed]",
      "text/plain": [
       "<Figure size 432x288 with 1 Axes>"
      ]
     },
     "metadata": {
      "needs_background": "light"
     },
     "output_type": "display_data"
    }
   ],
   "source": [
    "df2['condition'].value_counts()[20:40].plot(kind='barh')\n"
   ]
  },
  {
   "cell_type": "code",
   "execution_count": 54,
   "metadata": {},
   "outputs": [
    {
     "data": {
      "text/plain": [
       "Birth Control      38436\n",
       "Depression         12164\n",
       "Pain                8245\n",
       "Anxiety             7812\n",
       "Acne                7435\n",
       "Bipolar Disorde     5604\n",
       "Insomnia            4904\n",
       "Weight Loss         4857\n",
       "Obesity             4757\n",
       "ADHD                4509\n",
       "Name: condition, dtype: int64"
      ]
     },
     "execution_count": 54,
     "metadata": {},
     "output_type": "execute_result"
    }
   ],
   "source": [
    "df2['condition'].value_counts()[:10]"
   ]
  },
  {
   "cell_type": "markdown",
   "metadata": {},
   "source": [
    "### What are the first 10 drug names for Birth Control?\n",
    "In order to find the first 10 mostly used for Birth Contrl, we first perform a little bit of ETA on the Birth Control condition in our data set and then we go about listing the first 10 mostly used Birth Control drugs."
   ]
  },
  {
   "cell_type": "code",
   "execution_count": 55,
   "metadata": {},
   "outputs": [
    {
     "name": "stdout",
     "output_type": "stream",
     "text": [
      "    Unnamed: 0                          drugName      condition  \\\n",
      "4        97768                   Cyclafem 1 / 35  Birth Control   \n",
      "6       215892                            Copper  Birth Control   \n",
      "9        71428                            Levora  Birth Control   \n",
      "30       79865                 Blisovi Fe 1 / 20  Birth Control   \n",
      "37       60341                          NuvaRing  Birth Control   \n",
      "43      101371                             Aubra  Birth Control   \n",
      "45       17957  Ethinyl estradiol / etonogestrel  Birth Control   \n",
      "46      219567           Microgestin Fe 1.5 / 30  Birth Control   \n",
      "50      143003                      Etonogestrel  Birth Control   \n",
      "53      226299                      Etonogestrel  Birth Control   \n",
      "\n",
      "                                                                                                                                                                                                     review  \\\n",
      "4   \"I have been on this birth control for one cycle. After reading some of the reviews on this type and similar birth controls I was a bit apprehensive to start. Im giving this birth control a 9 out ...   \n",
      "6   \"I&#039;ve had the copper coil for about 3 months now. I was really excited at the thought of not taking hormones. I&#039;m good with pain however I nearly fainted with insertion, couldn&#039;t be...   \n",
      "9   \"I was on this pill for almost two years. It does work as far as not getting pregnant however my experience at first was it didn&#039;t make a huge difference then 6 or 7 months into it my sex dri...   \n",
      "30  \"I absolutely love this product and recommend to everyone. I know everyone&#039;s body is different, so it is not for everyone, but it is not the medicines fault. I have NO negative symptoms since...   \n",
      "37  \"I was on this for 5 years (and birth control pills for about 12 years), and would have told you how fabulous it was.  &lt;List all the benefits everyone else has listed, here.&gt;  Then a friend ...   \n",
      "43  \"I&#039;m absolutely DONE taking this horrible birth control! I&#039;ve  been taking Aubra for a month and a half... I&#039;m moody, irritable, depressed, hungry, bitchy... vaginal discharge has c...   \n",
      "45  \"I started on the oral contraceptive pill but got horrible nausea and vomiting, so this was my next option. NuvaRing has been fantastic, it has a fraction of the hormones and I get no nausea. Inse...   \n",
      "46  \"About two months ago I had to switch from LoLestrin Fe to microgestin due to my insurance and pharmacy. Since starting microgestin I&#039;ve noticed insane bloating and nausea and weird discharge...   \n",
      "50  \"I&#039;ve had this birth control for a year now and at first things were going good, I only had a period once and never had one since but now I have super bad anxiety, I would constantly think I ...   \n",
      "53  \"So I first got the nexplanon in July of 2014, for the first 5 months I was fine, I didn&#039;t get my period and if I did it was random spotting (very light) but around January I noticed I was ve...   \n",
      "\n",
      "    rating               date  usefulCount  \n",
      "4      9.0   October 22, 2015            4  \n",
      "6      6.0       June 6, 2016            1  \n",
      "9      2.0     April 16, 2011            3  \n",
      "30    10.0   November 3, 2017            4  \n",
      "37     7.0      June 17, 2011            0  \n",
      "43     1.0  December 13, 2015            6  \n",
      "45    10.0  December 13, 2012            4  \n",
      "46     1.0   October 31, 2016            4  \n",
      "50     3.0    August 15, 2017            0  \n",
      "53     5.0    August 28, 2015            7  \n"
     ]
    }
   ],
   "source": [
    "cond_bc = df2[df2['condition']=='Birth Control'] \n",
    "print(cond_bc.head(10))"
   ]
  },
  {
   "cell_type": "code",
   "execution_count": 56,
   "metadata": {},
   "outputs": [
    {
     "data": {
      "text/plain": [
       "Index(['Unnamed: 0', 'drugName', 'condition', 'review', 'rating', 'date',\n",
       "       'usefulCount'],\n",
       "      dtype='object')"
      ]
     },
     "execution_count": 56,
     "metadata": {},
     "output_type": "execute_result"
    }
   ],
   "source": [
    "cond_bc.columns"
   ]
  },
  {
   "cell_type": "code",
   "execution_count": 57,
   "metadata": {},
   "outputs": [
    {
     "data": {
      "text/plain": [
       "pandas.core.frame.DataFrame"
      ]
     },
     "execution_count": 57,
     "metadata": {},
     "output_type": "execute_result"
    }
   ],
   "source": [
    "type(cond_bc)"
   ]
  },
  {
   "cell_type": "markdown",
   "metadata": {},
   "source": [
    "#### The first 10 drug names for birth control are:"
   ]
  },
  {
   "cell_type": "code",
   "execution_count": 58,
   "metadata": {},
   "outputs": [
    {
     "data": {
      "text/plain": [
       "Etonogestrel                          4394\n",
       "Ethinyl estradiol / norethindrone     3081\n",
       "Levonorgestrel                        2884\n",
       "Nexplanon                             2883\n",
       "Ethinyl estradiol / levonorgestrel    2107\n",
       "Ethinyl estradiol / norgestimate      2097\n",
       "Implanon                              1496\n",
       "Mirena                                1320\n",
       "Skyla                                 1074\n",
       "Lo Loestrin Fe                         896\n",
       "Name: drugName, dtype: int64"
      ]
     },
     "execution_count": 58,
     "metadata": {},
     "output_type": "execute_result"
    }
   ],
   "source": [
    "cond_bc.drugName.value_counts()[:10]"
   ]
  },
  {
   "cell_type": "code",
   "execution_count": 59,
   "metadata": {},
   "outputs": [
    {
     "data": {
      "image/png": "[encoded data removed]",
      "text/plain": [
       "<Figure size 432x288 with 1 Axes>"
      ]
     },
     "metadata": {
      "needs_background": "light"
     },
     "output_type": "display_data"
    }
   ],
   "source": [
    "cond_bc.drugName.value_counts()[:10].plot(kind='barh') #plot of the first 10 most used birth control\n",
    "#plt.xlabel('')\n",
    "#plt.ylabel('')\n",
    "plt.title(\"Plot of the first 10 most used Birth Controls\")\n",
    "plt.show()"
   ]
  },
  {
   "cell_type": "markdown",
   "metadata": {},
   "source": [
    "The following is sorting the Birth Control condition by rating for the fist 20 birth controls (high to low rating)\n",
    "\n"
   ]
  },
  {
   "cell_type": "code",
   "execution_count": 60,
   "metadata": {},
   "outputs": [
    {
     "data": {
      "text/html": [
       "<div>\n",
       "<style scoped>\n",
       "    .dataframe tbody tr th:only-of-type {\n",
       "        vertical-align: middle;\n",
       "    }\n",
       "\n",
       "    .dataframe tbody tr th {\n",
       "        vertical-align: top;\n",
       "    }\n",
       "\n",
       "    .dataframe thead th {\n",
       "        text-align: right;\n",
       "    }\n",
       "</style>\n",
       "<table border=\"1\" class=\"dataframe\">\n",
       "  <thead>\n",
       "    <tr style=\"text-align: right;\">\n",
       "      <th></th>\n",
       "      <th>Unnamed: 0</th>\n",
       "      <th>drugName</th>\n",
       "      <th>condition</th>\n",
       "      <th>review</th>\n",
       "      <th>rating</th>\n",
       "      <th>date</th>\n",
       "      <th>usefulCount</th>\n",
       "    </tr>\n",
       "  </thead>\n",
       "  <tbody>\n",
       "    <tr>\n",
       "      <th>28751</th>\n",
       "      <td>131155</td>\n",
       "      <td>Levonorgestrel</td>\n",
       "      <td>Birth Control</td>\n",
       "      <td>\"I love my Mirena. I&amp;#039;ve recommended it to several friends. I&amp;#039;m 43 and have 2 kids and wanted something to simplify my life. Insertion was not at all painful or even uncomfortable. I had ...</td>\n",
       "      <td>10.0</td>\n",
       "      <td>October 1, 2008</td>\n",
       "      <td>505</td>\n",
       "    </tr>\n",
       "    <tr>\n",
       "      <th>106472</th>\n",
       "      <td>215953</td>\n",
       "      <td>Copper</td>\n",
       "      <td>Birth Control</td>\n",
       "      <td>\"I had my Paragard inserted about 3 weeks ago without pre-medicating (I was suggested to take 600-800 mg of ibuprofen beforehand, but I forgot, DO NOT MAKE THIS MISTAKE). I think I have a high pai...</td>\n",
       "      <td>10.0</td>\n",
       "      <td>April 25, 2016</td>\n",
       "      <td>9</td>\n",
       "    </tr>\n",
       "    <tr>\n",
       "      <th>86026</th>\n",
       "      <td>6450</td>\n",
       "      <td>Ocella</td>\n",
       "      <td>Birth Control</td>\n",
       "      <td>\"I LOVE OCELLA! I was on a generic form of Seasonale and it was HORRIBLE had the worst depression/mood swings ever and breakthrough bleeding EVERYDAY. So I switched to Ocella and love it. Acne has...</td>\n",
       "      <td>10.0</td>\n",
       "      <td>December 11, 2009</td>\n",
       "      <td>6</td>\n",
       "    </tr>\n",
       "    <tr>\n",
       "      <th>33652</th>\n",
       "      <td>227728</td>\n",
       "      <td>Etonogestrel</td>\n",
       "      <td>Birth Control</td>\n",
       "      <td>\"I was on the pill (Yaz) for 3 years and it wasn&amp;#039;t too bad but I am terrible at remembering to take it so I decided to switch to something more permanent for a while and I&amp;#039;m glad I went ...</td>\n",
       "      <td>10.0</td>\n",
       "      <td>January 19, 2012</td>\n",
       "      <td>1</td>\n",
       "    </tr>\n",
       "    <tr>\n",
       "      <th>106498</th>\n",
       "      <td>107279</td>\n",
       "      <td>Implanon</td>\n",
       "      <td>Birth Control</td>\n",
       "      <td>\"I have an issue with needles, so working up the nerve to get this took me a while. Aside from the initial burn of the numbing medicine I felt nothing. It was actually really cool to watch. The im...</td>\n",
       "      <td>10.0</td>\n",
       "      <td>January 7, 2012</td>\n",
       "      <td>1</td>\n",
       "    </tr>\n",
       "    <tr>\n",
       "      <th>106479</th>\n",
       "      <td>188562</td>\n",
       "      <td>ParaGard</td>\n",
       "      <td>Birth Control</td>\n",
       "      <td>\"I recommend Paraguard 200%!  I am sharing my experience everywhere I can, because after my second child, when researching getting paraguard online, all I saw were negative reviews (because typica...</td>\n",
       "      <td>10.0</td>\n",
       "      <td>November 17, 2016</td>\n",
       "      <td>25</td>\n",
       "    </tr>\n",
       "    <tr>\n",
       "      <th>86030</th>\n",
       "      <td>9166</td>\n",
       "      <td>Lo Loestrin Fe</td>\n",
       "      <td>Birth Control</td>\n",
       "      <td>\"I have been on this birth control for 4 months and it has been great. I had breakthrough bleeding the first couple months but now I don&amp;#039;t have any bleeding or period. I have lost 10 pounds b...</td>\n",
       "      <td>10.0</td>\n",
       "      <td>July 15, 2017</td>\n",
       "      <td>8</td>\n",
       "    </tr>\n",
       "    <tr>\n",
       "      <th>33631</th>\n",
       "      <td>167614</td>\n",
       "      <td>Levonorgestrel</td>\n",
       "      <td>Birth Control</td>\n",
       "      <td>\"I&amp;#039;m a 20yr old woman who has never had kids and I&amp;#039;m here to tell you how to get an IUD so you don&amp;#039;t have a terrible experience like some of the people who rate this drug badly\\nDon...</td>\n",
       "      <td>10.0</td>\n",
       "      <td>February 2, 2016</td>\n",
       "      <td>35</td>\n",
       "    </tr>\n",
       "    <tr>\n",
       "      <th>33624</th>\n",
       "      <td>129910</td>\n",
       "      <td>Levonorgestrel</td>\n",
       "      <td>Birth Control</td>\n",
       "      <td>\"Mirena is an awesome option for birth control. I don&amp;#039;t even have to think about taking a pill or remembering to replace a patch. It was easy to get inserted and it is barely noticeable that ...</td>\n",
       "      <td>10.0</td>\n",
       "      <td>April 7, 2015</td>\n",
       "      <td>3</td>\n",
       "    </tr>\n",
       "    <tr>\n",
       "      <th>132338</th>\n",
       "      <td>138079</td>\n",
       "      <td>Ortho Evra</td>\n",
       "      <td>Birth Control</td>\n",
       "      <td>\"I&amp;#039;ve been on the patch for 3 weeks now, I am now on my patch free week, and I think it&amp;#039;s great. There&amp;#039;s no itching or Reddening at the placement site and I alternate between placem...</td>\n",
       "      <td>10.0</td>\n",
       "      <td>May 29, 2013</td>\n",
       "      <td>18</td>\n",
       "    </tr>\n",
       "    <tr>\n",
       "      <th>49116</th>\n",
       "      <td>165436</td>\n",
       "      <td>Levonorgestrel</td>\n",
       "      <td>Birth Control</td>\n",
       "      <td>\"I got Skyla inserted April 10th, just after my period ended. My period before BC lasted around 6-8 days with pretty heavy bleeding and clots. I had pretty bad cramps, bloating and PMS during the ...</td>\n",
       "      <td>10.0</td>\n",
       "      <td>June 6, 2017</td>\n",
       "      <td>1</td>\n",
       "    </tr>\n",
       "    <tr>\n",
       "      <th>75650</th>\n",
       "      <td>110075</td>\n",
       "      <td>Nexplanon</td>\n",
       "      <td>Birth Control</td>\n",
       "      <td>\"I have had my nexplanon now for almost 5 months, I love it. I bled off and on for the complete first month but haven&amp;#039;t had a period since. I had acne especially  back acne before but since h...</td>\n",
       "      <td>10.0</td>\n",
       "      <td>April 25, 2016</td>\n",
       "      <td>5</td>\n",
       "    </tr>\n",
       "    <tr>\n",
       "      <th>132370</th>\n",
       "      <td>98670</td>\n",
       "      <td>Nexplanon</td>\n",
       "      <td>Birth Control</td>\n",
       "      <td>\"I got my Nexplanon in October 2013. My first period was normal 7 days very light. My second period was about 3 days real light. And my third was a week light as well then 2 weeks after I spotted ...</td>\n",
       "      <td>10.0</td>\n",
       "      <td>March 4, 2014</td>\n",
       "      <td>16</td>\n",
       "    </tr>\n",
       "    <tr>\n",
       "      <th>132373</th>\n",
       "      <td>198909</td>\n",
       "      <td>Depo-Provera</td>\n",
       "      <td>Birth Control</td>\n",
       "      <td>\"I&amp;#039;ve been on the shot almost 2 months and loving it since reading all the bad reviews ever since I&amp;#039;ve got it I&amp;#039;ve watched what I&amp;#039;ve been eating and started swimming 5 days a w...</td>\n",
       "      <td>10.0</td>\n",
       "      <td>August 9, 2016</td>\n",
       "      <td>7</td>\n",
       "    </tr>\n",
       "    <tr>\n",
       "      <th>132390</th>\n",
       "      <td>57450</td>\n",
       "      <td>Ethinyl estradiol / ethynodiol</td>\n",
       "      <td>Birth Control</td>\n",
       "      <td>\"Took Demulen 1/35 brand only from 1999-2007. It&amp;#039;s been all downhill from there trying to find something that was amazing as this was. Fuller breast, great skin, no more cramps, period perfec...</td>\n",
       "      <td>10.0</td>\n",
       "      <td>August 4, 2015</td>\n",
       "      <td>2</td>\n",
       "    </tr>\n",
       "    <tr>\n",
       "      <th>10835</th>\n",
       "      <td>198941</td>\n",
       "      <td>Depo-Provera</td>\n",
       "      <td>Birth Control</td>\n",
       "      <td>\"I&amp;#039;ve had this medication for a couple of days and my period stopped like normal! I haven&amp;#039;t had any bleeding what so ever yet or any of the bad side effects emotionally at all! I think t...</td>\n",
       "      <td>10.0</td>\n",
       "      <td>July 11, 2016</td>\n",
       "      <td>6</td>\n",
       "    </tr>\n",
       "    <tr>\n",
       "      <th>75640</th>\n",
       "      <td>100045</td>\n",
       "      <td>Desogestrel / ethinyl estradiol</td>\n",
       "      <td>Birth Control</td>\n",
       "      <td>\"I was on Ortho Cept for three years it was the first pill I tried since I was on the Depo-Provera for 8 years. I loved it!! Even though I loved the depo shot they don&amp;rsquo;t recommend it over a ...</td>\n",
       "      <td>10.0</td>\n",
       "      <td>October 12, 2017</td>\n",
       "      <td>0</td>\n",
       "    </tr>\n",
       "    <tr>\n",
       "      <th>75636</th>\n",
       "      <td>228123</td>\n",
       "      <td>Etonogestrel</td>\n",
       "      <td>Birth Control</td>\n",
       "      <td>\"I&amp;#039;ve been using Implanon since June 2009, after being on the Depo shot for 2 years. I love Implanon even more than I loved the shot. There&amp;#039;s no checking its placement-as you have to do ...</td>\n",
       "      <td>10.0</td>\n",
       "      <td>April 18, 2010</td>\n",
       "      <td>6</td>\n",
       "    </tr>\n",
       "    <tr>\n",
       "      <th>132392</th>\n",
       "      <td>130423</td>\n",
       "      <td>Levonorgestrel</td>\n",
       "      <td>Birth Control</td>\n",
       "      <td>\"I am 23, and I have had Mirena for the past 5 yrs. It was placed in a month after my son was born and I now have gotten it removed and a new one inserted! I LOVED it the first time I occasionally...</td>\n",
       "      <td>10.0</td>\n",
       "      <td>April 16, 2013</td>\n",
       "      <td>28</td>\n",
       "    </tr>\n",
       "    <tr>\n",
       "      <th>132393</th>\n",
       "      <td>227476</td>\n",
       "      <td>Etonogestrel</td>\n",
       "      <td>Birth Control</td>\n",
       "      <td>\"I love my Implanon! Have had Implanon in for about a year and its been great! I&amp;#039;ve gained a bit of weight and have found it a bit harder to lose any extra but if you exercise and eat healthy...</td>\n",
       "      <td>10.0</td>\n",
       "      <td>March 12, 2013</td>\n",
       "      <td>10</td>\n",
       "    </tr>\n",
       "  </tbody>\n",
       "</table>\n",
       "</div>"
      ],
      "text/plain": [
       "        Unnamed: 0                         drugName      condition  \\\n",
       "28751       131155                   Levonorgestrel  Birth Control   \n",
       "106472      215953                           Copper  Birth Control   \n",
       "86026         6450                           Ocella  Birth Control   \n",
       "33652       227728                     Etonogestrel  Birth Control   \n",
       "106498      107279                         Implanon  Birth Control   \n",
       "106479      188562                         ParaGard  Birth Control   \n",
       "86030         9166                   Lo Loestrin Fe  Birth Control   \n",
       "33631       167614                   Levonorgestrel  Birth Control   \n",
       "33624       129910                   Levonorgestrel  Birth Control   \n",
       "132338      138079                       Ortho Evra  Birth Control   \n",
       "49116       165436                   Levonorgestrel  Birth Control   \n",
       "75650       110075                        Nexplanon  Birth Control   \n",
       "132370       98670                        Nexplanon  Birth Control   \n",
       "132373      198909                     Depo-Provera  Birth Control   \n",
       "132390       57450   Ethinyl estradiol / ethynodiol  Birth Control   \n",
       "10835       198941                     Depo-Provera  Birth Control   \n",
       "75640       100045  Desogestrel / ethinyl estradiol  Birth Control   \n",
       "75636       228123                     Etonogestrel  Birth Control   \n",
       "132392      130423                   Levonorgestrel  Birth Control   \n",
       "132393      227476                     Etonogestrel  Birth Control   \n",
       "\n",
       "                                                                                                                                                                                                         review  \\\n",
       "28751   \"I love my Mirena. I&#039;ve recommended it to several friends. I&#039;m 43 and have 2 kids and wanted something to simplify my life. Insertion was not at all painful or even uncomfortable. I had ...   \n",
       "106472  \"I had my Paragard inserted about 3 weeks ago without pre-medicating (I was suggested to take 600-800 mg of ibuprofen beforehand, but I forgot, DO NOT MAKE THIS MISTAKE). I think I have a high pai...   \n",
       "86026   \"I LOVE OCELLA! I was on a generic form of Seasonale and it was HORRIBLE had the worst depression/mood swings ever and breakthrough bleeding EVERYDAY. So I switched to Ocella and love it. Acne has...   \n",
       "33652   \"I was on the pill (Yaz) for 3 years and it wasn&#039;t too bad but I am terrible at remembering to take it so I decided to switch to something more permanent for a while and I&#039;m glad I went ...   \n",
       "106498  \"I have an issue with needles, so working up the nerve to get this took me a while. Aside from the initial burn of the numbing medicine I felt nothing. It was actually really cool to watch. The im...   \n",
       "106479  \"I recommend Paraguard 200%!  I am sharing my experience everywhere I can, because after my second child, when researching getting paraguard online, all I saw were negative reviews (because typica...   \n",
       "86030   \"I have been on this birth control for 4 months and it has been great. I had breakthrough bleeding the first couple months but now I don&#039;t have any bleeding or period. I have lost 10 pounds b...   \n",
       "33631   \"I&#039;m a 20yr old woman who has never had kids and I&#039;m here to tell you how to get an IUD so you don&#039;t have a terrible experience like some of the people who rate this drug badly\\nDon...   \n",
       "33624   \"Mirena is an awesome option for birth control. I don&#039;t even have to think about taking a pill or remembering to replace a patch. It was easy to get inserted and it is barely noticeable that ...   \n",
       "132338  \"I&#039;ve been on the patch for 3 weeks now, I am now on my patch free week, and I think it&#039;s great. There&#039;s no itching or Reddening at the placement site and I alternate between placem...   \n",
       "49116   \"I got Skyla inserted April 10th, just after my period ended. My period before BC lasted around 6-8 days with pretty heavy bleeding and clots. I had pretty bad cramps, bloating and PMS during the ...   \n",
       "75650   \"I have had my nexplanon now for almost 5 months, I love it. I bled off and on for the complete first month but haven&#039;t had a period since. I had acne especially  back acne before but since h...   \n",
       "132370  \"I got my Nexplanon in October 2013. My first period was normal 7 days very light. My second period was about 3 days real light. And my third was a week light as well then 2 weeks after I spotted ...   \n",
       "132373  \"I&#039;ve been on the shot almost 2 months and loving it since reading all the bad reviews ever since I&#039;ve got it I&#039;ve watched what I&#039;ve been eating and started swimming 5 days a w...   \n",
       "132390  \"Took Demulen 1/35 brand only from 1999-2007. It&#039;s been all downhill from there trying to find something that was amazing as this was. Fuller breast, great skin, no more cramps, period perfec...   \n",
       "10835   \"I&#039;ve had this medication for a couple of days and my period stopped like normal! I haven&#039;t had any bleeding what so ever yet or any of the bad side effects emotionally at all! I think t...   \n",
       "75640   \"I was on Ortho Cept for three years it was the first pill I tried since I was on the Depo-Provera for 8 years. I loved it!! Even though I loved the depo shot they don&rsquo;t recommend it over a ...   \n",
       "75636   \"I&#039;ve been using Implanon since June 2009, after being on the Depo shot for 2 years. I love Implanon even more than I loved the shot. There&#039;s no checking its placement-as you have to do ...   \n",
       "132392  \"I am 23, and I have had Mirena for the past 5 yrs. It was placed in a month after my son was born and I now have gotten it removed and a new one inserted! I LOVED it the first time I occasionally...   \n",
       "132393  \"I love my Implanon! Have had Implanon in for about a year and its been great! I&#039;ve gained a bit of weight and have found it a bit harder to lose any extra but if you exercise and eat healthy...   \n",
       "\n",
       "        rating               date  usefulCount  \n",
       "28751     10.0    October 1, 2008          505  \n",
       "106472    10.0     April 25, 2016            9  \n",
       "86026     10.0  December 11, 2009            6  \n",
       "33652     10.0   January 19, 2012            1  \n",
       "106498    10.0    January 7, 2012            1  \n",
       "106479    10.0  November 17, 2016           25  \n",
       "86030     10.0      July 15, 2017            8  \n",
       "33631     10.0   February 2, 2016           35  \n",
       "33624     10.0      April 7, 2015            3  \n",
       "132338    10.0       May 29, 2013           18  \n",
       "49116     10.0       June 6, 2017            1  \n",
       "75650     10.0     April 25, 2016            5  \n",
       "132370    10.0      March 4, 2014           16  \n",
       "132373    10.0     August 9, 2016            7  \n",
       "132390    10.0     August 4, 2015            2  \n",
       "10835     10.0      July 11, 2016            6  \n",
       "75640     10.0   October 12, 2017            0  \n",
       "75636     10.0     April 18, 2010            6  \n",
       "132392    10.0     April 16, 2013           28  \n",
       "132393    10.0     March 12, 2013           10  "
      ]
     },
     "execution_count": 60,
     "metadata": {},
     "output_type": "execute_result"
    }
   ],
   "source": [
    "df2[df2['condition']=='Birth Control'].sort_values(by = 'rating', ascending=False)[:20]  "
   ]
  },
  {
   "cell_type": "code",
   "execution_count": 61,
   "metadata": {},
   "outputs": [
    {
     "data": {
      "text/html": [
       "<div>\n",
       "<style scoped>\n",
       "    .dataframe tbody tr th:only-of-type {\n",
       "        vertical-align: middle;\n",
       "    }\n",
       "\n",
       "    .dataframe tbody tr th {\n",
       "        vertical-align: top;\n",
       "    }\n",
       "\n",
       "    .dataframe thead th {\n",
       "        text-align: right;\n",
       "    }\n",
       "</style>\n",
       "<table border=\"1\" class=\"dataframe\">\n",
       "  <thead>\n",
       "    <tr style=\"text-align: right;\">\n",
       "      <th></th>\n",
       "      <th>Unnamed: 0</th>\n",
       "      <th>rating</th>\n",
       "      <th>usefulCount</th>\n",
       "    </tr>\n",
       "  </thead>\n",
       "  <tbody>\n",
       "    <tr>\n",
       "      <th>count</th>\n",
       "      <td>40.000000</td>\n",
       "      <td>40.0</td>\n",
       "      <td>40.000000</td>\n",
       "    </tr>\n",
       "    <tr>\n",
       "      <th>mean</th>\n",
       "      <td>125554.075000</td>\n",
       "      <td>10.0</td>\n",
       "      <td>22.300000</td>\n",
       "    </tr>\n",
       "    <tr>\n",
       "      <th>std</th>\n",
       "      <td>67362.838713</td>\n",
       "      <td>0.0</td>\n",
       "      <td>78.768144</td>\n",
       "    </tr>\n",
       "    <tr>\n",
       "      <th>min</th>\n",
       "      <td>6450.000000</td>\n",
       "      <td>10.0</td>\n",
       "      <td>0.000000</td>\n",
       "    </tr>\n",
       "    <tr>\n",
       "      <th>25%</th>\n",
       "      <td>96695.750000</td>\n",
       "      <td>10.0</td>\n",
       "      <td>2.750000</td>\n",
       "    </tr>\n",
       "    <tr>\n",
       "      <th>50%</th>\n",
       "      <td>129991.000000</td>\n",
       "      <td>10.0</td>\n",
       "      <td>7.500000</td>\n",
       "    </tr>\n",
       "    <tr>\n",
       "      <th>75%</th>\n",
       "      <td>172851.000000</td>\n",
       "      <td>10.0</td>\n",
       "      <td>18.000000</td>\n",
       "    </tr>\n",
       "    <tr>\n",
       "      <th>max</th>\n",
       "      <td>228123.000000</td>\n",
       "      <td>10.0</td>\n",
       "      <td>505.000000</td>\n",
       "    </tr>\n",
       "  </tbody>\n",
       "</table>\n",
       "</div>"
      ],
      "text/plain": [
       "          Unnamed: 0  rating  usefulCount\n",
       "count      40.000000    40.0    40.000000\n",
       "mean   125554.075000    10.0    22.300000\n",
       "std     67362.838713     0.0    78.768144\n",
       "min      6450.000000    10.0     0.000000\n",
       "25%     96695.750000    10.0     2.750000\n",
       "50%    129991.000000    10.0     7.500000\n",
       "75%    172851.000000    10.0    18.000000\n",
       "max    228123.000000    10.0   505.000000"
      ]
     },
     "execution_count": 61,
     "metadata": {},
     "output_type": "execute_result"
    }
   ],
   "source": [
    "df2[df2['condition']=='Birth Control'].sort_values(by = 'rating', ascending=False)[:40].describe()"
   ]
  },
  {
   "cell_type": "code",
   "execution_count": 62,
   "metadata": {},
   "outputs": [
    {
     "name": "stdout",
     "output_type": "stream",
     "text": [
      "Unnamed: 0        0\n",
      "drugName          0\n",
      "condition      1194\n",
      "review            0\n",
      "rating            0\n",
      "date              0\n",
      "usefulCount       0\n",
      "dtype: int64\n"
     ]
    }
   ],
   "source": [
    "#check the column-wise distribution of null values: \n",
    "print(df2.isnull().sum())                   "
   ]
  },
  {
   "cell_type": "code",
   "execution_count": 63,
   "metadata": {},
   "outputs": [
    {
     "name": "stdout",
     "output_type": "stream",
     "text": [
      "1194\n"
     ]
    }
   ],
   "source": [
    "print(df2.isnull().values.sum()) #total number of missing values in the DataFrame"
   ]
  },
  {
   "cell_type": "markdown",
   "metadata": {},
   "source": [
    "The following is the list of Drug names ordered alphabetically and the associated ratings of them.\n",
    "\n"
   ]
  },
  {
   "cell_type": "code",
   "execution_count": 64,
   "metadata": {},
   "outputs": [
    {
     "data": {
      "text/html": [
       "<div>\n",
       "<style scoped>\n",
       "    .dataframe tbody tr th:only-of-type {\n",
       "        vertical-align: middle;\n",
       "    }\n",
       "\n",
       "    .dataframe tbody tr th {\n",
       "        vertical-align: top;\n",
       "    }\n",
       "\n",
       "    .dataframe thead th {\n",
       "        text-align: right;\n",
       "    }\n",
       "</style>\n",
       "<table border=\"1\" class=\"dataframe\">\n",
       "  <thead>\n",
       "    <tr style=\"text-align: right;\">\n",
       "      <th></th>\n",
       "      <th>count</th>\n",
       "      <th>mean</th>\n",
       "      <th>std</th>\n",
       "      <th>min</th>\n",
       "      <th>25%</th>\n",
       "      <th>50%</th>\n",
       "      <th>75%</th>\n",
       "      <th>max</th>\n",
       "    </tr>\n",
       "    <tr>\n",
       "      <th>drugName</th>\n",
       "      <th></th>\n",
       "      <th></th>\n",
       "      <th></th>\n",
       "      <th></th>\n",
       "      <th></th>\n",
       "      <th></th>\n",
       "      <th></th>\n",
       "      <th></th>\n",
       "    </tr>\n",
       "  </thead>\n",
       "  <tbody>\n",
       "    <tr>\n",
       "      <th>A + D Cracked Skin Relief</th>\n",
       "      <td>1.0</td>\n",
       "      <td>10.000000</td>\n",
       "      <td>NaN</td>\n",
       "      <td>10.0</td>\n",
       "      <td>10.00</td>\n",
       "      <td>10.0</td>\n",
       "      <td>10.00</td>\n",
       "      <td>10.0</td>\n",
       "    </tr>\n",
       "    <tr>\n",
       "      <th>A / B Otic</th>\n",
       "      <td>2.0</td>\n",
       "      <td>10.000000</td>\n",
       "      <td>0.000000</td>\n",
       "      <td>10.0</td>\n",
       "      <td>10.00</td>\n",
       "      <td>10.0</td>\n",
       "      <td>10.00</td>\n",
       "      <td>10.0</td>\n",
       "    </tr>\n",
       "    <tr>\n",
       "      <th>Abacavir / dolutegravir / lamivudine</th>\n",
       "      <td>70.0</td>\n",
       "      <td>8.414286</td>\n",
       "      <td>2.422676</td>\n",
       "      <td>1.0</td>\n",
       "      <td>7.25</td>\n",
       "      <td>10.0</td>\n",
       "      <td>10.00</td>\n",
       "      <td>10.0</td>\n",
       "    </tr>\n",
       "    <tr>\n",
       "      <th>Abacavir / lamivudine</th>\n",
       "      <td>3.0</td>\n",
       "      <td>10.000000</td>\n",
       "      <td>0.000000</td>\n",
       "      <td>10.0</td>\n",
       "      <td>10.00</td>\n",
       "      <td>10.0</td>\n",
       "      <td>10.00</td>\n",
       "      <td>10.0</td>\n",
       "    </tr>\n",
       "    <tr>\n",
       "      <th>Abacavir / lamivudine / zidovudine</th>\n",
       "      <td>1.0</td>\n",
       "      <td>9.000000</td>\n",
       "      <td>NaN</td>\n",
       "      <td>9.0</td>\n",
       "      <td>9.00</td>\n",
       "      <td>9.0</td>\n",
       "      <td>9.00</td>\n",
       "      <td>9.0</td>\n",
       "    </tr>\n",
       "    <tr>\n",
       "      <th>Abatacept</th>\n",
       "      <td>25.0</td>\n",
       "      <td>7.000000</td>\n",
       "      <td>3.316625</td>\n",
       "      <td>1.0</td>\n",
       "      <td>5.00</td>\n",
       "      <td>9.0</td>\n",
       "      <td>10.00</td>\n",
       "      <td>10.0</td>\n",
       "    </tr>\n",
       "    <tr>\n",
       "      <th>Abilify</th>\n",
       "      <td>593.0</td>\n",
       "      <td>6.443508</td>\n",
       "      <td>3.430378</td>\n",
       "      <td>1.0</td>\n",
       "      <td>3.00</td>\n",
       "      <td>8.0</td>\n",
       "      <td>10.00</td>\n",
       "      <td>10.0</td>\n",
       "    </tr>\n",
       "    <tr>\n",
       "      <th>Abilify Discmelt</th>\n",
       "      <td>3.0</td>\n",
       "      <td>8.333333</td>\n",
       "      <td>0.577350</td>\n",
       "      <td>8.0</td>\n",
       "      <td>8.00</td>\n",
       "      <td>8.0</td>\n",
       "      <td>8.50</td>\n",
       "      <td>9.0</td>\n",
       "    </tr>\n",
       "    <tr>\n",
       "      <th>Abilify Maintena</th>\n",
       "      <td>5.0</td>\n",
       "      <td>8.200000</td>\n",
       "      <td>4.024922</td>\n",
       "      <td>1.0</td>\n",
       "      <td>10.00</td>\n",
       "      <td>10.0</td>\n",
       "      <td>10.00</td>\n",
       "      <td>10.0</td>\n",
       "    </tr>\n",
       "    <tr>\n",
       "      <th>Abiraterone</th>\n",
       "      <td>12.0</td>\n",
       "      <td>9.250000</td>\n",
       "      <td>1.712255</td>\n",
       "      <td>4.0</td>\n",
       "      <td>9.00</td>\n",
       "      <td>10.0</td>\n",
       "      <td>10.00</td>\n",
       "      <td>10.0</td>\n",
       "    </tr>\n",
       "    <tr>\n",
       "      <th>AbobotulinumtoxinA</th>\n",
       "      <td>4.0</td>\n",
       "      <td>7.750000</td>\n",
       "      <td>2.061553</td>\n",
       "      <td>5.0</td>\n",
       "      <td>7.25</td>\n",
       "      <td>8.0</td>\n",
       "      <td>8.50</td>\n",
       "      <td>10.0</td>\n",
       "    </tr>\n",
       "    <tr>\n",
       "      <th>Abraxane</th>\n",
       "      <td>4.0</td>\n",
       "      <td>7.500000</td>\n",
       "      <td>4.358899</td>\n",
       "      <td>1.0</td>\n",
       "      <td>7.00</td>\n",
       "      <td>9.5</td>\n",
       "      <td>10.00</td>\n",
       "      <td>10.0</td>\n",
       "    </tr>\n",
       "    <tr>\n",
       "      <th>Abreva</th>\n",
       "      <td>205.0</td>\n",
       "      <td>5.892683</td>\n",
       "      <td>3.936779</td>\n",
       "      <td>1.0</td>\n",
       "      <td>1.00</td>\n",
       "      <td>8.0</td>\n",
       "      <td>10.00</td>\n",
       "      <td>10.0</td>\n",
       "    </tr>\n",
       "    <tr>\n",
       "      <th>Absorbine Jr.</th>\n",
       "      <td>1.0</td>\n",
       "      <td>10.000000</td>\n",
       "      <td>NaN</td>\n",
       "      <td>10.0</td>\n",
       "      <td>10.00</td>\n",
       "      <td>10.0</td>\n",
       "      <td>10.00</td>\n",
       "      <td>10.0</td>\n",
       "    </tr>\n",
       "    <tr>\n",
       "      <th>Absorica</th>\n",
       "      <td>4.0</td>\n",
       "      <td>6.000000</td>\n",
       "      <td>4.242641</td>\n",
       "      <td>1.0</td>\n",
       "      <td>3.25</td>\n",
       "      <td>6.5</td>\n",
       "      <td>9.25</td>\n",
       "      <td>10.0</td>\n",
       "    </tr>\n",
       "    <tr>\n",
       "      <th>Abstral</th>\n",
       "      <td>1.0</td>\n",
       "      <td>4.000000</td>\n",
       "      <td>NaN</td>\n",
       "      <td>4.0</td>\n",
       "      <td>4.00</td>\n",
       "      <td>4.0</td>\n",
       "      <td>4.00</td>\n",
       "      <td>4.0</td>\n",
       "    </tr>\n",
       "    <tr>\n",
       "      <th>Acamprosate</th>\n",
       "      <td>143.0</td>\n",
       "      <td>8.867133</td>\n",
       "      <td>2.007864</td>\n",
       "      <td>1.0</td>\n",
       "      <td>9.00</td>\n",
       "      <td>10.0</td>\n",
       "      <td>10.00</td>\n",
       "      <td>10.0</td>\n",
       "    </tr>\n",
       "    <tr>\n",
       "      <th>Acanya</th>\n",
       "      <td>55.0</td>\n",
       "      <td>7.345455</td>\n",
       "      <td>3.250175</td>\n",
       "      <td>1.0</td>\n",
       "      <td>5.00</td>\n",
       "      <td>9.0</td>\n",
       "      <td>10.00</td>\n",
       "      <td>10.0</td>\n",
       "    </tr>\n",
       "    <tr>\n",
       "      <th>Acarbose</th>\n",
       "      <td>2.0</td>\n",
       "      <td>4.500000</td>\n",
       "      <td>4.949747</td>\n",
       "      <td>1.0</td>\n",
       "      <td>2.75</td>\n",
       "      <td>4.5</td>\n",
       "      <td>6.25</td>\n",
       "      <td>8.0</td>\n",
       "    </tr>\n",
       "    <tr>\n",
       "      <th>Accolate</th>\n",
       "      <td>3.0</td>\n",
       "      <td>10.000000</td>\n",
       "      <td>0.000000</td>\n",
       "      <td>10.0</td>\n",
       "      <td>10.00</td>\n",
       "      <td>10.0</td>\n",
       "      <td>10.00</td>\n",
       "      <td>10.0</td>\n",
       "    </tr>\n",
       "    <tr>\n",
       "      <th>Accupril</th>\n",
       "      <td>1.0</td>\n",
       "      <td>5.000000</td>\n",
       "      <td>NaN</td>\n",
       "      <td>5.0</td>\n",
       "      <td>5.00</td>\n",
       "      <td>5.0</td>\n",
       "      <td>5.00</td>\n",
       "      <td>5.0</td>\n",
       "    </tr>\n",
       "    <tr>\n",
       "      <th>Accutane</th>\n",
       "      <td>441.0</td>\n",
       "      <td>8.421769</td>\n",
       "      <td>2.516108</td>\n",
       "      <td>1.0</td>\n",
       "      <td>8.00</td>\n",
       "      <td>9.0</td>\n",
       "      <td>10.00</td>\n",
       "      <td>10.0</td>\n",
       "    </tr>\n",
       "    <tr>\n",
       "      <th>Acebutolol</th>\n",
       "      <td>2.0</td>\n",
       "      <td>9.500000</td>\n",
       "      <td>0.707107</td>\n",
       "      <td>9.0</td>\n",
       "      <td>9.25</td>\n",
       "      <td>9.5</td>\n",
       "      <td>9.75</td>\n",
       "      <td>10.0</td>\n",
       "    </tr>\n",
       "    <tr>\n",
       "      <th>Acetaminophen</th>\n",
       "      <td>39.0</td>\n",
       "      <td>7.589744</td>\n",
       "      <td>3.168247</td>\n",
       "      <td>1.0</td>\n",
       "      <td>6.50</td>\n",
       "      <td>9.0</td>\n",
       "      <td>10.00</td>\n",
       "      <td>10.0</td>\n",
       "    </tr>\n",
       "    <tr>\n",
       "      <th>Acetaminophen / aspirin</th>\n",
       "      <td>2.0</td>\n",
       "      <td>8.500000</td>\n",
       "      <td>0.707107</td>\n",
       "      <td>8.0</td>\n",
       "      <td>8.25</td>\n",
       "      <td>8.5</td>\n",
       "      <td>8.75</td>\n",
       "      <td>9.0</td>\n",
       "    </tr>\n",
       "    <tr>\n",
       "      <th>Acetaminophen / aspirin / caffeine</th>\n",
       "      <td>113.0</td>\n",
       "      <td>7.592920</td>\n",
       "      <td>3.203339</td>\n",
       "      <td>1.0</td>\n",
       "      <td>6.00</td>\n",
       "      <td>9.0</td>\n",
       "      <td>10.00</td>\n",
       "      <td>10.0</td>\n",
       "    </tr>\n",
       "    <tr>\n",
       "      <th>Acetaminophen / aspirin / caffeine / salicylamide</th>\n",
       "      <td>5.0</td>\n",
       "      <td>8.800000</td>\n",
       "      <td>2.167948</td>\n",
       "      <td>5.0</td>\n",
       "      <td>9.00</td>\n",
       "      <td>10.0</td>\n",
       "      <td>10.00</td>\n",
       "      <td>10.0</td>\n",
       "    </tr>\n",
       "    <tr>\n",
       "      <th>Acetaminophen / butalbital</th>\n",
       "      <td>14.0</td>\n",
       "      <td>9.142857</td>\n",
       "      <td>1.099450</td>\n",
       "      <td>6.0</td>\n",
       "      <td>9.00</td>\n",
       "      <td>9.0</td>\n",
       "      <td>10.00</td>\n",
       "      <td>10.0</td>\n",
       "    </tr>\n",
       "    <tr>\n",
       "      <th>Acetaminophen / butalbital / caffeine</th>\n",
       "      <td>178.0</td>\n",
       "      <td>8.775281</td>\n",
       "      <td>2.418165</td>\n",
       "      <td>1.0</td>\n",
       "      <td>9.00</td>\n",
       "      <td>10.0</td>\n",
       "      <td>10.00</td>\n",
       "      <td>10.0</td>\n",
       "    </tr>\n",
       "    <tr>\n",
       "      <th>Acetaminophen / butalbital / caffeine / codeine</th>\n",
       "      <td>22.0</td>\n",
       "      <td>9.227273</td>\n",
       "      <td>1.306825</td>\n",
       "      <td>5.0</td>\n",
       "      <td>9.00</td>\n",
       "      <td>10.0</td>\n",
       "      <td>10.00</td>\n",
       "      <td>10.0</td>\n",
       "    </tr>\n",
       "    <tr>\n",
       "      <th>...</th>\n",
       "      <td>...</td>\n",
       "      <td>...</td>\n",
       "      <td>...</td>\n",
       "      <td>...</td>\n",
       "      <td>...</td>\n",
       "      <td>...</td>\n",
       "      <td>...</td>\n",
       "      <td>...</td>\n",
       "    </tr>\n",
       "    <tr>\n",
       "      <th>Zostrix Diabetic Foot Pain</th>\n",
       "      <td>1.0</td>\n",
       "      <td>1.000000</td>\n",
       "      <td>NaN</td>\n",
       "      <td>1.0</td>\n",
       "      <td>1.00</td>\n",
       "      <td>1.0</td>\n",
       "      <td>1.00</td>\n",
       "      <td>1.0</td>\n",
       "    </tr>\n",
       "    <tr>\n",
       "      <th>Zosyn</th>\n",
       "      <td>2.0</td>\n",
       "      <td>8.000000</td>\n",
       "      <td>1.414214</td>\n",
       "      <td>7.0</td>\n",
       "      <td>7.50</td>\n",
       "      <td>8.0</td>\n",
       "      <td>8.50</td>\n",
       "      <td>9.0</td>\n",
       "    </tr>\n",
       "    <tr>\n",
       "      <th>Zovia</th>\n",
       "      <td>42.0</td>\n",
       "      <td>5.642857</td>\n",
       "      <td>3.348253</td>\n",
       "      <td>1.0</td>\n",
       "      <td>2.00</td>\n",
       "      <td>6.0</td>\n",
       "      <td>9.00</td>\n",
       "      <td>10.0</td>\n",
       "    </tr>\n",
       "    <tr>\n",
       "      <th>Zovia 1 / 35</th>\n",
       "      <td>6.0</td>\n",
       "      <td>6.500000</td>\n",
       "      <td>4.324350</td>\n",
       "      <td>1.0</td>\n",
       "      <td>2.75</td>\n",
       "      <td>8.5</td>\n",
       "      <td>9.75</td>\n",
       "      <td>10.0</td>\n",
       "    </tr>\n",
       "    <tr>\n",
       "      <th>Zovia 1 / 50</th>\n",
       "      <td>1.0</td>\n",
       "      <td>10.000000</td>\n",
       "      <td>NaN</td>\n",
       "      <td>10.0</td>\n",
       "      <td>10.00</td>\n",
       "      <td>10.0</td>\n",
       "      <td>10.00</td>\n",
       "      <td>10.0</td>\n",
       "    </tr>\n",
       "    <tr>\n",
       "      <th>Zovirax</th>\n",
       "      <td>13.0</td>\n",
       "      <td>8.461538</td>\n",
       "      <td>2.665064</td>\n",
       "      <td>1.0</td>\n",
       "      <td>8.00</td>\n",
       "      <td>10.0</td>\n",
       "      <td>10.00</td>\n",
       "      <td>10.0</td>\n",
       "    </tr>\n",
       "    <tr>\n",
       "      <th>Zovirax Cream</th>\n",
       "      <td>17.0</td>\n",
       "      <td>7.882353</td>\n",
       "      <td>3.257345</td>\n",
       "      <td>1.0</td>\n",
       "      <td>7.00</td>\n",
       "      <td>10.0</td>\n",
       "      <td>10.00</td>\n",
       "      <td>10.0</td>\n",
       "    </tr>\n",
       "    <tr>\n",
       "      <th>Zovirax Ointment</th>\n",
       "      <td>6.0</td>\n",
       "      <td>9.166667</td>\n",
       "      <td>1.169045</td>\n",
       "      <td>7.0</td>\n",
       "      <td>9.00</td>\n",
       "      <td>9.5</td>\n",
       "      <td>10.00</td>\n",
       "      <td>10.0</td>\n",
       "    </tr>\n",
       "    <tr>\n",
       "      <th>Zubsolv</th>\n",
       "      <td>53.0</td>\n",
       "      <td>6.584906</td>\n",
       "      <td>3.723284</td>\n",
       "      <td>1.0</td>\n",
       "      <td>2.00</td>\n",
       "      <td>8.0</td>\n",
       "      <td>10.00</td>\n",
       "      <td>10.0</td>\n",
       "    </tr>\n",
       "    <tr>\n",
       "      <th>Zurampic</th>\n",
       "      <td>2.0</td>\n",
       "      <td>10.000000</td>\n",
       "      <td>0.000000</td>\n",
       "      <td>10.0</td>\n",
       "      <td>10.00</td>\n",
       "      <td>10.0</td>\n",
       "      <td>10.00</td>\n",
       "      <td>10.0</td>\n",
       "    </tr>\n",
       "    <tr>\n",
       "      <th>Zutripro</th>\n",
       "      <td>13.0</td>\n",
       "      <td>10.000000</td>\n",
       "      <td>0.000000</td>\n",
       "      <td>10.0</td>\n",
       "      <td>10.00</td>\n",
       "      <td>10.0</td>\n",
       "      <td>10.00</td>\n",
       "      <td>10.0</td>\n",
       "    </tr>\n",
       "    <tr>\n",
       "      <th>Zyban</th>\n",
       "      <td>79.0</td>\n",
       "      <td>8.822785</td>\n",
       "      <td>2.246133</td>\n",
       "      <td>1.0</td>\n",
       "      <td>9.00</td>\n",
       "      <td>10.0</td>\n",
       "      <td>10.00</td>\n",
       "      <td>10.0</td>\n",
       "    </tr>\n",
       "    <tr>\n",
       "      <th>Zyclara</th>\n",
       "      <td>34.0</td>\n",
       "      <td>7.441176</td>\n",
       "      <td>2.162927</td>\n",
       "      <td>1.0</td>\n",
       "      <td>7.00</td>\n",
       "      <td>8.0</td>\n",
       "      <td>9.00</td>\n",
       "      <td>10.0</td>\n",
       "    </tr>\n",
       "    <tr>\n",
       "      <th>Zylet</th>\n",
       "      <td>5.0</td>\n",
       "      <td>8.400000</td>\n",
       "      <td>1.516575</td>\n",
       "      <td>7.0</td>\n",
       "      <td>7.00</td>\n",
       "      <td>8.0</td>\n",
       "      <td>10.00</td>\n",
       "      <td>10.0</td>\n",
       "    </tr>\n",
       "    <tr>\n",
       "      <th>Zyloprim</th>\n",
       "      <td>1.0</td>\n",
       "      <td>9.000000</td>\n",
       "      <td>NaN</td>\n",
       "      <td>9.0</td>\n",
       "      <td>9.00</td>\n",
       "      <td>9.0</td>\n",
       "      <td>9.00</td>\n",
       "      <td>9.0</td>\n",
       "    </tr>\n",
       "    <tr>\n",
       "      <th>Zymar</th>\n",
       "      <td>5.0</td>\n",
       "      <td>8.200000</td>\n",
       "      <td>2.489980</td>\n",
       "      <td>4.0</td>\n",
       "      <td>8.00</td>\n",
       "      <td>9.0</td>\n",
       "      <td>10.00</td>\n",
       "      <td>10.0</td>\n",
       "    </tr>\n",
       "    <tr>\n",
       "      <th>Zymine</th>\n",
       "      <td>1.0</td>\n",
       "      <td>10.000000</td>\n",
       "      <td>NaN</td>\n",
       "      <td>10.0</td>\n",
       "      <td>10.00</td>\n",
       "      <td>10.0</td>\n",
       "      <td>10.00</td>\n",
       "      <td>10.0</td>\n",
       "    </tr>\n",
       "    <tr>\n",
       "      <th>Zyprexa</th>\n",
       "      <td>212.0</td>\n",
       "      <td>6.490566</td>\n",
       "      <td>3.217975</td>\n",
       "      <td>1.0</td>\n",
       "      <td>4.00</td>\n",
       "      <td>8.0</td>\n",
       "      <td>9.00</td>\n",
       "      <td>10.0</td>\n",
       "    </tr>\n",
       "    <tr>\n",
       "      <th>Zyprexa Intramuscular</th>\n",
       "      <td>1.0</td>\n",
       "      <td>8.000000</td>\n",
       "      <td>NaN</td>\n",
       "      <td>8.0</td>\n",
       "      <td>8.00</td>\n",
       "      <td>8.0</td>\n",
       "      <td>8.00</td>\n",
       "      <td>8.0</td>\n",
       "    </tr>\n",
       "    <tr>\n",
       "      <th>Zyprexa Zydis</th>\n",
       "      <td>17.0</td>\n",
       "      <td>6.882353</td>\n",
       "      <td>3.461978</td>\n",
       "      <td>1.0</td>\n",
       "      <td>5.00</td>\n",
       "      <td>8.0</td>\n",
       "      <td>9.00</td>\n",
       "      <td>10.0</td>\n",
       "    </tr>\n",
       "    <tr>\n",
       "      <th>Zyrtec</th>\n",
       "      <td>102.0</td>\n",
       "      <td>7.245098</td>\n",
       "      <td>3.103611</td>\n",
       "      <td>1.0</td>\n",
       "      <td>5.00</td>\n",
       "      <td>9.0</td>\n",
       "      <td>10.00</td>\n",
       "      <td>10.0</td>\n",
       "    </tr>\n",
       "    <tr>\n",
       "      <th>Zyrtec-D</th>\n",
       "      <td>3.0</td>\n",
       "      <td>9.000000</td>\n",
       "      <td>1.000000</td>\n",
       "      <td>8.0</td>\n",
       "      <td>8.50</td>\n",
       "      <td>9.0</td>\n",
       "      <td>9.50</td>\n",
       "      <td>10.0</td>\n",
       "    </tr>\n",
       "    <tr>\n",
       "      <th>Zyrtec-D 12 Hour</th>\n",
       "      <td>1.0</td>\n",
       "      <td>10.000000</td>\n",
       "      <td>NaN</td>\n",
       "      <td>10.0</td>\n",
       "      <td>10.00</td>\n",
       "      <td>10.0</td>\n",
       "      <td>10.00</td>\n",
       "      <td>10.0</td>\n",
       "    </tr>\n",
       "    <tr>\n",
       "      <th>Zytiga</th>\n",
       "      <td>12.0</td>\n",
       "      <td>9.250000</td>\n",
       "      <td>1.712255</td>\n",
       "      <td>4.0</td>\n",
       "      <td>9.00</td>\n",
       "      <td>10.0</td>\n",
       "      <td>10.00</td>\n",
       "      <td>10.0</td>\n",
       "    </tr>\n",
       "    <tr>\n",
       "      <th>Zyvox</th>\n",
       "      <td>23.0</td>\n",
       "      <td>8.782609</td>\n",
       "      <td>1.444630</td>\n",
       "      <td>5.0</td>\n",
       "      <td>8.00</td>\n",
       "      <td>9.0</td>\n",
       "      <td>10.00</td>\n",
       "      <td>10.0</td>\n",
       "    </tr>\n",
       "    <tr>\n",
       "      <th>ZzzQuil</th>\n",
       "      <td>3.0</td>\n",
       "      <td>2.000000</td>\n",
       "      <td>1.732051</td>\n",
       "      <td>1.0</td>\n",
       "      <td>1.00</td>\n",
       "      <td>1.0</td>\n",
       "      <td>2.50</td>\n",
       "      <td>4.0</td>\n",
       "    </tr>\n",
       "    <tr>\n",
       "      <th>depo-subQ provera 104</th>\n",
       "      <td>2.0</td>\n",
       "      <td>5.500000</td>\n",
       "      <td>6.363961</td>\n",
       "      <td>1.0</td>\n",
       "      <td>3.25</td>\n",
       "      <td>5.5</td>\n",
       "      <td>7.75</td>\n",
       "      <td>10.0</td>\n",
       "    </tr>\n",
       "    <tr>\n",
       "      <th>ella</th>\n",
       "      <td>71.0</td>\n",
       "      <td>7.183099</td>\n",
       "      <td>3.270255</td>\n",
       "      <td>1.0</td>\n",
       "      <td>5.00</td>\n",
       "      <td>9.0</td>\n",
       "      <td>10.00</td>\n",
       "      <td>10.0</td>\n",
       "    </tr>\n",
       "    <tr>\n",
       "      <th>femhrt</th>\n",
       "      <td>6.0</td>\n",
       "      <td>6.500000</td>\n",
       "      <td>4.324350</td>\n",
       "      <td>1.0</td>\n",
       "      <td>2.75</td>\n",
       "      <td>8.5</td>\n",
       "      <td>9.75</td>\n",
       "      <td>10.0</td>\n",
       "    </tr>\n",
       "    <tr>\n",
       "      <th>pHisoHex</th>\n",
       "      <td>1.0</td>\n",
       "      <td>10.000000</td>\n",
       "      <td>NaN</td>\n",
       "      <td>10.0</td>\n",
       "      <td>10.00</td>\n",
       "      <td>10.0</td>\n",
       "      <td>10.00</td>\n",
       "      <td>10.0</td>\n",
       "    </tr>\n",
       "  </tbody>\n",
       "</table>\n",
       "<p>3671 rows × 8 columns</p>\n",
       "</div>"
      ],
      "text/plain": [
       "                                                   count       mean       std  \\\n",
       "drugName                                                                        \n",
       "A + D Cracked Skin Relief                            1.0  10.000000       NaN   \n",
       "A / B Otic                                           2.0  10.000000  0.000000   \n",
       "Abacavir / dolutegravir / lamivudine                70.0   8.414286  2.422676   \n",
       "Abacavir / lamivudine                                3.0  10.000000  0.000000   \n",
       "Abacavir / lamivudine / zidovudine                   1.0   9.000000       NaN   \n",
       "Abatacept                                           25.0   7.000000  3.316625   \n",
       "Abilify                                            593.0   6.443508  3.430378   \n",
       "Abilify Discmelt                                     3.0   8.333333  0.577350   \n",
       "Abilify Maintena                                     5.0   8.200000  4.024922   \n",
       "Abiraterone                                         12.0   9.250000  1.712255   \n",
       "AbobotulinumtoxinA                                   4.0   7.750000  2.061553   \n",
       "Abraxane                                             4.0   7.500000  4.358899   \n",
       "Abreva                                             205.0   5.892683  3.936779   \n",
       "Absorbine Jr.                                        1.0  10.000000       NaN   \n",
       "Absorica                                             4.0   6.000000  4.242641   \n",
       "Abstral                                              1.0   4.000000       NaN   \n",
       "Acamprosate                                        143.0   8.867133  2.007864   \n",
       "Acanya                                              55.0   7.345455  3.250175   \n",
       "Acarbose                                             2.0   4.500000  4.949747   \n",
       "Accolate                                             3.0  10.000000  0.000000   \n",
       "Accupril                                             1.0   5.000000       NaN   \n",
       "Accutane                                           441.0   8.421769  2.516108   \n",
       "Acebutolol                                           2.0   9.500000  0.707107   \n",
       "Acetaminophen                                       39.0   7.589744  3.168247   \n",
       "Acetaminophen / aspirin                              2.0   8.500000  0.707107   \n",
       "Acetaminophen / aspirin / caffeine                 113.0   7.592920  3.203339   \n",
       "Acetaminophen / aspirin / caffeine / salicylamide    5.0   8.800000  2.167948   \n",
       "Acetaminophen / butalbital                          14.0   9.142857  1.099450   \n",
       "Acetaminophen / butalbital / caffeine              178.0   8.775281  2.418165   \n",
       "Acetaminophen / butalbital / caffeine / codeine     22.0   9.227273  1.306825   \n",
       "...                                                  ...        ...       ...   \n",
       "Zostrix Diabetic Foot Pain                           1.0   1.000000       NaN   \n",
       "Zosyn                                                2.0   8.000000  1.414214   \n",
       "Zovia                                               42.0   5.642857  3.348253   \n",
       "Zovia 1 / 35                                         6.0   6.500000  4.324350   \n",
       "Zovia 1 / 50                                         1.0  10.000000       NaN   \n",
       "Zovirax                                             13.0   8.461538  2.665064   \n",
       "Zovirax Cream                                       17.0   7.882353  3.257345   \n",
       "Zovirax Ointment                                     6.0   9.166667  1.169045   \n",
       "Zubsolv                                             53.0   6.584906  3.723284   \n",
       "Zurampic                                             2.0  10.000000  0.000000   \n",
       "Zutripro                                            13.0  10.000000  0.000000   \n",
       "Zyban                                               79.0   8.822785  2.246133   \n",
       "Zyclara                                             34.0   7.441176  2.162927   \n",
       "Zylet                                                5.0   8.400000  1.516575   \n",
       "Zyloprim                                             1.0   9.000000       NaN   \n",
       "Zymar                                                5.0   8.200000  2.489980   \n",
       "Zymine                                               1.0  10.000000       NaN   \n",
       "Zyprexa                                            212.0   6.490566  3.217975   \n",
       "Zyprexa Intramuscular                                1.0   8.000000       NaN   \n",
       "Zyprexa Zydis                                       17.0   6.882353  3.461978   \n",
       "Zyrtec                                             102.0   7.245098  3.103611   \n",
       "Zyrtec-D                                             3.0   9.000000  1.000000   \n",
       "Zyrtec-D 12 Hour                                     1.0  10.000000       NaN   \n",
       "Zytiga                                              12.0   9.250000  1.712255   \n",
       "Zyvox                                               23.0   8.782609  1.444630   \n",
       "ZzzQuil                                              3.0   2.000000  1.732051   \n",
       "depo-subQ provera 104                                2.0   5.500000  6.363961   \n",
       "ella                                                71.0   7.183099  3.270255   \n",
       "femhrt                                               6.0   6.500000  4.324350   \n",
       "pHisoHex                                             1.0  10.000000       NaN   \n",
       "\n",
       "                                                    min    25%   50%    75%  \\\n",
       "drugName                                                                      \n",
       "A + D Cracked Skin Relief                          10.0  10.00  10.0  10.00   \n",
       "A / B Otic                                         10.0  10.00  10.0  10.00   \n",
       "Abacavir / dolutegravir / lamivudine                1.0   7.25  10.0  10.00   \n",
       "Abacavir / lamivudine                              10.0  10.00  10.0  10.00   \n",
       "Abacavir / lamivudine / zidovudine                  9.0   9.00   9.0   9.00   \n",
       "Abatacept                                           1.0   5.00   9.0  10.00   \n",
       "Abilify                                             1.0   3.00   8.0  10.00   \n",
       "Abilify Discmelt                                    8.0   8.00   8.0   8.50   \n",
       "Abilify Maintena                                    1.0  10.00  10.0  10.00   \n",
       "Abiraterone                                         4.0   9.00  10.0  10.00   \n",
       "AbobotulinumtoxinA                                  5.0   7.25   8.0   8.50   \n",
       "Abraxane                                            1.0   7.00   9.5  10.00   \n",
       "Abreva                                              1.0   1.00   8.0  10.00   \n",
       "Absorbine Jr.                                      10.0  10.00  10.0  10.00   \n",
       "Absorica                                            1.0   3.25   6.5   9.25   \n",
       "Abstral                                             4.0   4.00   4.0   4.00   \n",
       "Acamprosate                                         1.0   9.00  10.0  10.00   \n",
       "Acanya                                              1.0   5.00   9.0  10.00   \n",
       "Acarbose                                            1.0   2.75   4.5   6.25   \n",
       "Accolate                                           10.0  10.00  10.0  10.00   \n",
       "Accupril                                            5.0   5.00   5.0   5.00   \n",
       "Accutane                                            1.0   8.00   9.0  10.00   \n",
       "Acebutolol                                          9.0   9.25   9.5   9.75   \n",
       "Acetaminophen                                       1.0   6.50   9.0  10.00   \n",
       "Acetaminophen / aspirin                             8.0   8.25   8.5   8.75   \n",
       "Acetaminophen / aspirin / caffeine                  1.0   6.00   9.0  10.00   \n",
       "Acetaminophen / aspirin / caffeine / salicylamide   5.0   9.00  10.0  10.00   \n",
       "Acetaminophen / butalbital                          6.0   9.00   9.0  10.00   \n",
       "Acetaminophen / butalbital / caffeine               1.0   9.00  10.0  10.00   \n",
       "Acetaminophen / butalbital / caffeine / codeine     5.0   9.00  10.0  10.00   \n",
       "...                                                 ...    ...   ...    ...   \n",
       "Zostrix Diabetic Foot Pain                          1.0   1.00   1.0   1.00   \n",
       "Zosyn                                               7.0   7.50   8.0   8.50   \n",
       "Zovia                                               1.0   2.00   6.0   9.00   \n",
       "Zovia 1 / 35                                        1.0   2.75   8.5   9.75   \n",
       "Zovia 1 / 50                                       10.0  10.00  10.0  10.00   \n",
       "Zovirax                                             1.0   8.00  10.0  10.00   \n",
       "Zovirax Cream                                       1.0   7.00  10.0  10.00   \n",
       "Zovirax Ointment                                    7.0   9.00   9.5  10.00   \n",
       "Zubsolv                                             1.0   2.00   8.0  10.00   \n",
       "Zurampic                                           10.0  10.00  10.0  10.00   \n",
       "Zutripro                                           10.0  10.00  10.0  10.00   \n",
       "Zyban                                               1.0   9.00  10.0  10.00   \n",
       "Zyclara                                             1.0   7.00   8.0   9.00   \n",
       "Zylet                                               7.0   7.00   8.0  10.00   \n",
       "Zyloprim                                            9.0   9.00   9.0   9.00   \n",
       "Zymar                                               4.0   8.00   9.0  10.00   \n",
       "Zymine                                             10.0  10.00  10.0  10.00   \n",
       "Zyprexa                                             1.0   4.00   8.0   9.00   \n",
       "Zyprexa Intramuscular                               8.0   8.00   8.0   8.00   \n",
       "Zyprexa Zydis                                       1.0   5.00   8.0   9.00   \n",
       "Zyrtec                                              1.0   5.00   9.0  10.00   \n",
       "Zyrtec-D                                            8.0   8.50   9.0   9.50   \n",
       "Zyrtec-D 12 Hour                                   10.0  10.00  10.0  10.00   \n",
       "Zytiga                                              4.0   9.00  10.0  10.00   \n",
       "Zyvox                                               5.0   8.00   9.0  10.00   \n",
       "ZzzQuil                                             1.0   1.00   1.0   2.50   \n",
       "depo-subQ provera 104                               1.0   3.25   5.5   7.75   \n",
       "ella                                                1.0   5.00   9.0  10.00   \n",
       "femhrt                                              1.0   2.75   8.5   9.75   \n",
       "pHisoHex                                           10.0  10.00  10.0  10.00   \n",
       "\n",
       "                                                    max  \n",
       "drugName                                                 \n",
       "A + D Cracked Skin Relief                          10.0  \n",
       "A / B Otic                                         10.0  \n",
       "Abacavir / dolutegravir / lamivudine               10.0  \n",
       "Abacavir / lamivudine                              10.0  \n",
       "Abacavir / lamivudine / zidovudine                  9.0  \n",
       "Abatacept                                          10.0  \n",
       "Abilify                                            10.0  \n",
       "Abilify Discmelt                                    9.0  \n",
       "Abilify Maintena                                   10.0  \n",
       "Abiraterone                                        10.0  \n",
       "AbobotulinumtoxinA                                 10.0  \n",
       "Abraxane                                           10.0  \n",
       "Abreva                                             10.0  \n",
       "Absorbine Jr.                                      10.0  \n",
       "Absorica                                           10.0  \n",
       "Abstral                                             4.0  \n",
       "Acamprosate                                        10.0  \n",
       "Acanya                                             10.0  \n",
       "Acarbose                                            8.0  \n",
       "Accolate                                           10.0  \n",
       "Accupril                                            5.0  \n",
       "Accutane                                           10.0  \n",
       "Acebutolol                                         10.0  \n",
       "Acetaminophen                                      10.0  \n",
       "Acetaminophen / aspirin                             9.0  \n",
       "Acetaminophen / aspirin / caffeine                 10.0  \n",
       "Acetaminophen / aspirin / caffeine / salicylamide  10.0  \n",
       "Acetaminophen / butalbital                         10.0  \n",
       "Acetaminophen / butalbital / caffeine              10.0  \n",
       "Acetaminophen / butalbital / caffeine / codeine    10.0  \n",
       "...                                                 ...  \n",
       "Zostrix Diabetic Foot Pain                          1.0  \n",
       "Zosyn                                               9.0  \n",
       "Zovia                                              10.0  \n",
       "Zovia 1 / 35                                       10.0  \n",
       "Zovia 1 / 50                                       10.0  \n",
       "Zovirax                                            10.0  \n",
       "Zovirax Cream                                      10.0  \n",
       "Zovirax Ointment                                   10.0  \n",
       "Zubsolv                                            10.0  \n",
       "Zurampic                                           10.0  \n",
       "Zutripro                                           10.0  \n",
       "Zyban                                              10.0  \n",
       "Zyclara                                            10.0  \n",
       "Zylet                                              10.0  \n",
       "Zyloprim                                            9.0  \n",
       "Zymar                                              10.0  \n",
       "Zymine                                             10.0  \n",
       "Zyprexa                                            10.0  \n",
       "Zyprexa Intramuscular                               8.0  \n",
       "Zyprexa Zydis                                      10.0  \n",
       "Zyrtec                                             10.0  \n",
       "Zyrtec-D                                           10.0  \n",
       "Zyrtec-D 12 Hour                                   10.0  \n",
       "Zytiga                                             10.0  \n",
       "Zyvox                                              10.0  \n",
       "ZzzQuil                                             4.0  \n",
       "depo-subQ provera 104                              10.0  \n",
       "ella                                               10.0  \n",
       "femhrt                                             10.0  \n",
       "pHisoHex                                           10.0  \n",
       "\n",
       "[3671 rows x 8 columns]"
      ]
     },
     "execution_count": 64,
     "metadata": {},
     "output_type": "execute_result"
    }
   ],
   "source": [
    "df2.groupby('drugName')['rating'].describe()\n",
    "#df2.groupby('drugName').describe()"
   ]
  },
  {
   "cell_type": "code",
   "execution_count": 65,
   "metadata": {},
   "outputs": [
    {
     "data": {
      "text/plain": [
       "<pandas.core.groupby.generic.SeriesGroupBy object at 0x7fd0e96ec710>"
      ]
     },
     "execution_count": 65,
     "metadata": {},
     "output_type": "execute_result"
    }
   ],
   "source": [
    "df2.groupby('drugName')['rating']  #remove describe the bottom cell"
   ]
  },
  {
   "cell_type": "code",
   "execution_count": 67,
   "metadata": {},
   "outputs": [
    {
     "name": "stderr",
     "output_type": "stream",
     "text": [
      "/anaconda3/lib/python3.7/site-packages/ipykernel_launcher.py:1: FutureWarning: using a dict on a Series for aggregation\n",
      "is deprecated and will be removed in a future version\n",
      "  \"\"\"Entry point for launching an IPython kernel.\n"
     ]
    },
    {
     "data": {
      "text/html": [
       "<div>\n",
       "<style scoped>\n",
       "    .dataframe tbody tr th:only-of-type {\n",
       "        vertical-align: middle;\n",
       "    }\n",
       "\n",
       "    .dataframe tbody tr th {\n",
       "        vertical-align: top;\n",
       "    }\n",
       "\n",
       "    .dataframe thead th {\n",
       "        text-align: right;\n",
       "    }\n",
       "</style>\n",
       "<table border=\"1\" class=\"dataframe\">\n",
       "  <thead>\n",
       "    <tr style=\"text-align: right;\">\n",
       "      <th></th>\n",
       "      <th>count</th>\n",
       "    </tr>\n",
       "    <tr>\n",
       "      <th>drugName</th>\n",
       "      <th></th>\n",
       "    </tr>\n",
       "  </thead>\n",
       "  <tbody>\n",
       "    <tr>\n",
       "      <th>A + D Cracked Skin Relief</th>\n",
       "      <td>10.0</td>\n",
       "    </tr>\n",
       "    <tr>\n",
       "      <th>A / B Otic</th>\n",
       "      <td>20.0</td>\n",
       "    </tr>\n",
       "    <tr>\n",
       "      <th>Abacavir / dolutegravir / lamivudine</th>\n",
       "      <td>589.0</td>\n",
       "    </tr>\n",
       "    <tr>\n",
       "      <th>Abacavir / lamivudine</th>\n",
       "      <td>30.0</td>\n",
       "    </tr>\n",
       "    <tr>\n",
       "      <th>Abacavir / lamivudine / zidovudine</th>\n",
       "      <td>9.0</td>\n",
       "    </tr>\n",
       "  </tbody>\n",
       "</table>\n",
       "</div>"
      ],
      "text/plain": [
       "                                      count\n",
       "drugName                                   \n",
       "A + D Cracked Skin Relief              10.0\n",
       "A / B Otic                             20.0\n",
       "Abacavir / dolutegravir / lamivudine  589.0\n",
       "Abacavir / lamivudine                  30.0\n",
       "Abacavir / lamivudine / zidovudine      9.0"
      ]
     },
     "execution_count": 67,
     "metadata": {},
     "output_type": "execute_result"
    }
   ],
   "source": [
    "df2.groupby('drugName')['rating'].agg({'count':sum}).head()\n",
    "#what does this do? this count is the numebr or rows"
   ]
  },
  {
   "cell_type": "code",
   "execution_count": 68,
   "metadata": {},
   "outputs": [
    {
     "data": {
      "text/plain": [
       "drugName\n",
       "A + D Cracked Skin Relief                              1\n",
       "A / B Otic                                             2\n",
       "Abacavir / dolutegravir / lamivudine                  70\n",
       "Abacavir / lamivudine                                  3\n",
       "Abacavir / lamivudine / zidovudine                     1\n",
       "Abatacept                                             25\n",
       "Abilify                                              593\n",
       "Abilify Discmelt                                       3\n",
       "Abilify Maintena                                       5\n",
       "Abiraterone                                           12\n",
       "AbobotulinumtoxinA                                     4\n",
       "Abraxane                                               4\n",
       "Abreva                                               205\n",
       "Absorbine Jr.                                          1\n",
       "Absorica                                               4\n",
       "Abstral                                                1\n",
       "Acamprosate                                          143\n",
       "Acanya                                                55\n",
       "Acarbose                                               2\n",
       "Accolate                                               3\n",
       "Accupril                                               1\n",
       "Accutane                                             441\n",
       "Acebutolol                                             2\n",
       "Acetaminophen                                         39\n",
       "Acetaminophen / aspirin                                2\n",
       "Acetaminophen / aspirin / caffeine                   113\n",
       "Acetaminophen / aspirin / caffeine / salicylamide      5\n",
       "Acetaminophen / butalbital                            14\n",
       "Acetaminophen / butalbital / caffeine                178\n",
       "Acetaminophen / butalbital / caffeine / codeine       22\n",
       "                                                    ... \n",
       "Zostrix Diabetic Foot Pain                             1\n",
       "Zosyn                                                  2\n",
       "Zovia                                                 42\n",
       "Zovia 1 / 35                                           6\n",
       "Zovia 1 / 50                                           1\n",
       "Zovirax                                               13\n",
       "Zovirax Cream                                         17\n",
       "Zovirax Ointment                                       6\n",
       "Zubsolv                                               53\n",
       "Zurampic                                               2\n",
       "Zutripro                                              13\n",
       "Zyban                                                 79\n",
       "Zyclara                                               34\n",
       "Zylet                                                  5\n",
       "Zyloprim                                               1\n",
       "Zymar                                                  5\n",
       "Zymine                                                 1\n",
       "Zyprexa                                              212\n",
       "Zyprexa Intramuscular                                  1\n",
       "Zyprexa Zydis                                         17\n",
       "Zyrtec                                               102\n",
       "Zyrtec-D                                               3\n",
       "Zyrtec-D 12 Hour                                       1\n",
       "Zytiga                                                12\n",
       "Zyvox                                                 23\n",
       "ZzzQuil                                                3\n",
       "depo-subQ provera 104                                  2\n",
       "ella                                                  71\n",
       "femhrt                                                 6\n",
       "pHisoHex                                               1\n",
       "Name: rating, Length: 3671, dtype: int64"
      ]
     },
     "execution_count": 68,
     "metadata": {},
     "output_type": "execute_result"
    }
   ],
   "source": [
    "df2.groupby('drugName')['rating'].count()\n"
   ]
  },
  {
   "cell_type": "code",
   "execution_count": 69,
   "metadata": {},
   "outputs": [
    {
     "data": {
      "text/html": [
       "<div>\n",
       "<style scoped>\n",
       "    .dataframe tbody tr th:only-of-type {\n",
       "        vertical-align: middle;\n",
       "    }\n",
       "\n",
       "    .dataframe tbody tr th {\n",
       "        vertical-align: top;\n",
       "    }\n",
       "\n",
       "    .dataframe thead th {\n",
       "        text-align: right;\n",
       "    }\n",
       "</style>\n",
       "<table border=\"1\" class=\"dataframe\">\n",
       "  <thead>\n",
       "    <tr style=\"text-align: right;\">\n",
       "      <th></th>\n",
       "      <th>count</th>\n",
       "      <th>mean</th>\n",
       "      <th>std</th>\n",
       "      <th>min</th>\n",
       "      <th>25%</th>\n",
       "      <th>50%</th>\n",
       "      <th>75%</th>\n",
       "      <th>max</th>\n",
       "    </tr>\n",
       "    <tr>\n",
       "      <th>drugName</th>\n",
       "      <th></th>\n",
       "      <th></th>\n",
       "      <th></th>\n",
       "      <th></th>\n",
       "      <th></th>\n",
       "      <th></th>\n",
       "      <th></th>\n",
       "      <th></th>\n",
       "    </tr>\n",
       "  </thead>\n",
       "  <tbody>\n",
       "    <tr>\n",
       "      <th>Mirtazapine</th>\n",
       "      <td>727.0</td>\n",
       "      <td>7.180193</td>\n",
       "      <td>2.976352</td>\n",
       "      <td>1.0</td>\n",
       "      <td>5.5</td>\n",
       "      <td>8.0</td>\n",
       "      <td>10.0</td>\n",
       "      <td>10.0</td>\n",
       "    </tr>\n",
       "    <tr>\n",
       "      <th>Mesalamine</th>\n",
       "      <td>237.0</td>\n",
       "      <td>7.540084</td>\n",
       "      <td>2.924813</td>\n",
       "      <td>1.0</td>\n",
       "      <td>7.0</td>\n",
       "      <td>9.0</td>\n",
       "      <td>10.0</td>\n",
       "      <td>10.0</td>\n",
       "    </tr>\n",
       "    <tr>\n",
       "      <th>Bactrim</th>\n",
       "      <td>273.0</td>\n",
       "      <td>6.043956</td>\n",
       "      <td>3.619531</td>\n",
       "      <td>1.0</td>\n",
       "      <td>2.0</td>\n",
       "      <td>7.0</td>\n",
       "      <td>10.0</td>\n",
       "      <td>10.0</td>\n",
       "    </tr>\n",
       "    <tr>\n",
       "      <th>Contrave</th>\n",
       "      <td>1215.0</td>\n",
       "      <td>6.781070</td>\n",
       "      <td>3.227222</td>\n",
       "      <td>1.0</td>\n",
       "      <td>4.0</td>\n",
       "      <td>8.0</td>\n",
       "      <td>10.0</td>\n",
       "      <td>10.0</td>\n",
       "    </tr>\n",
       "    <tr>\n",
       "      <th>Cyclafem 1 / 35</th>\n",
       "      <td>11.0</td>\n",
       "      <td>6.090909</td>\n",
       "      <td>2.879394</td>\n",
       "      <td>1.0</td>\n",
       "      <td>4.0</td>\n",
       "      <td>6.0</td>\n",
       "      <td>8.5</td>\n",
       "      <td>10.0</td>\n",
       "    </tr>\n",
       "    <tr>\n",
       "      <th>Zyclara</th>\n",
       "      <td>34.0</td>\n",
       "      <td>7.441176</td>\n",
       "      <td>2.162927</td>\n",
       "      <td>1.0</td>\n",
       "      <td>7.0</td>\n",
       "      <td>8.0</td>\n",
       "      <td>9.0</td>\n",
       "      <td>10.0</td>\n",
       "    </tr>\n",
       "    <tr>\n",
       "      <th>Copper</th>\n",
       "      <td>801.0</td>\n",
       "      <td>7.111111</td>\n",
       "      <td>3.282360</td>\n",
       "      <td>1.0</td>\n",
       "      <td>5.0</td>\n",
       "      <td>9.0</td>\n",
       "      <td>10.0</td>\n",
       "      <td>10.0</td>\n",
       "    </tr>\n",
       "    <tr>\n",
       "      <th>Amitriptyline</th>\n",
       "      <td>921.0</td>\n",
       "      <td>7.817590</td>\n",
       "      <td>2.813275</td>\n",
       "      <td>1.0</td>\n",
       "      <td>7.0</td>\n",
       "      <td>9.0</td>\n",
       "      <td>10.0</td>\n",
       "      <td>10.0</td>\n",
       "    </tr>\n",
       "    <tr>\n",
       "      <th>Methadone</th>\n",
       "      <td>442.0</td>\n",
       "      <td>8.828054</td>\n",
       "      <td>1.976582</td>\n",
       "      <td>1.0</td>\n",
       "      <td>8.0</td>\n",
       "      <td>10.0</td>\n",
       "      <td>10.0</td>\n",
       "      <td>10.0</td>\n",
       "    </tr>\n",
       "    <tr>\n",
       "      <th>Levora</th>\n",
       "      <td>170.0</td>\n",
       "      <td>6.082353</td>\n",
       "      <td>3.142425</td>\n",
       "      <td>1.0</td>\n",
       "      <td>3.0</td>\n",
       "      <td>6.0</td>\n",
       "      <td>9.0</td>\n",
       "      <td>10.0</td>\n",
       "    </tr>\n",
       "    <tr>\n",
       "      <th>Paroxetine</th>\n",
       "      <td>853.0</td>\n",
       "      <td>7.286049</td>\n",
       "      <td>3.019927</td>\n",
       "      <td>1.0</td>\n",
       "      <td>6.0</td>\n",
       "      <td>9.0</td>\n",
       "      <td>10.0</td>\n",
       "      <td>10.0</td>\n",
       "    </tr>\n",
       "    <tr>\n",
       "      <th>Miconazole</th>\n",
       "      <td>1344.0</td>\n",
       "      <td>3.004464</td>\n",
       "      <td>2.936404</td>\n",
       "      <td>1.0</td>\n",
       "      <td>1.0</td>\n",
       "      <td>1.0</td>\n",
       "      <td>5.0</td>\n",
       "      <td>10.0</td>\n",
       "    </tr>\n",
       "    <tr>\n",
       "      <th>Belviq</th>\n",
       "      <td>755.0</td>\n",
       "      <td>7.954967</td>\n",
       "      <td>3.049649</td>\n",
       "      <td>1.0</td>\n",
       "      <td>7.0</td>\n",
       "      <td>10.0</td>\n",
       "      <td>10.0</td>\n",
       "      <td>10.0</td>\n",
       "    </tr>\n",
       "    <tr>\n",
       "      <th>Seroquel</th>\n",
       "      <td>428.0</td>\n",
       "      <td>7.250000</td>\n",
       "      <td>2.914170</td>\n",
       "      <td>1.0</td>\n",
       "      <td>6.0</td>\n",
       "      <td>8.0</td>\n",
       "      <td>9.0</td>\n",
       "      <td>10.0</td>\n",
       "    </tr>\n",
       "    <tr>\n",
       "      <th>Ambien</th>\n",
       "      <td>383.0</td>\n",
       "      <td>7.370757</td>\n",
       "      <td>3.018855</td>\n",
       "      <td>1.0</td>\n",
       "      <td>6.0</td>\n",
       "      <td>9.0</td>\n",
       "      <td>10.0</td>\n",
       "      <td>10.0</td>\n",
       "    </tr>\n",
       "    <tr>\n",
       "      <th>Nuvigil</th>\n",
       "      <td>225.0</td>\n",
       "      <td>7.426667</td>\n",
       "      <td>2.661766</td>\n",
       "      <td>1.0</td>\n",
       "      <td>6.0</td>\n",
       "      <td>8.0</td>\n",
       "      <td>9.0</td>\n",
       "      <td>10.0</td>\n",
       "    </tr>\n",
       "    <tr>\n",
       "      <th>Chantix</th>\n",
       "      <td>862.0</td>\n",
       "      <td>8.805104</td>\n",
       "      <td>2.281384</td>\n",
       "      <td>1.0</td>\n",
       "      <td>9.0</td>\n",
       "      <td>10.0</td>\n",
       "      <td>10.0</td>\n",
       "      <td>10.0</td>\n",
       "    </tr>\n",
       "    <tr>\n",
       "      <th>Microgestin Fe 1 / 20</th>\n",
       "      <td>518.0</td>\n",
       "      <td>5.843629</td>\n",
       "      <td>3.186751</td>\n",
       "      <td>1.0</td>\n",
       "      <td>3.0</td>\n",
       "      <td>6.0</td>\n",
       "      <td>9.0</td>\n",
       "      <td>10.0</td>\n",
       "    </tr>\n",
       "    <tr>\n",
       "      <th>Klonopin</th>\n",
       "      <td>553.0</td>\n",
       "      <td>8.694394</td>\n",
       "      <td>2.267985</td>\n",
       "      <td>1.0</td>\n",
       "      <td>8.0</td>\n",
       "      <td>10.0</td>\n",
       "      <td>10.0</td>\n",
       "      <td>10.0</td>\n",
       "    </tr>\n",
       "    <tr>\n",
       "      <th>Ciprofloxacin</th>\n",
       "      <td>478.0</td>\n",
       "      <td>5.502092</td>\n",
       "      <td>3.600459</td>\n",
       "      <td>1.0</td>\n",
       "      <td>1.0</td>\n",
       "      <td>6.0</td>\n",
       "      <td>9.0</td>\n",
       "      <td>10.0</td>\n",
       "    </tr>\n",
       "    <tr>\n",
       "      <th>Trazodone</th>\n",
       "      <td>795.0</td>\n",
       "      <td>6.922013</td>\n",
       "      <td>3.347461</td>\n",
       "      <td>1.0</td>\n",
       "      <td>4.0</td>\n",
       "      <td>8.0</td>\n",
       "      <td>10.0</td>\n",
       "      <td>10.0</td>\n",
       "    </tr>\n",
       "    <tr>\n",
       "      <th>EnteraGam</th>\n",
       "      <td>9.0</td>\n",
       "      <td>6.555556</td>\n",
       "      <td>3.940530</td>\n",
       "      <td>1.0</td>\n",
       "      <td>2.0</td>\n",
       "      <td>9.0</td>\n",
       "      <td>9.0</td>\n",
       "      <td>10.0</td>\n",
       "    </tr>\n",
       "    <tr>\n",
       "      <th>Aripiprazole</th>\n",
       "      <td>665.0</td>\n",
       "      <td>6.508271</td>\n",
       "      <td>3.416871</td>\n",
       "      <td>1.0</td>\n",
       "      <td>3.0</td>\n",
       "      <td>8.0</td>\n",
       "      <td>10.0</td>\n",
       "      <td>10.0</td>\n",
       "    </tr>\n",
       "    <tr>\n",
       "      <th>Cyclosporine</th>\n",
       "      <td>56.0</td>\n",
       "      <td>5.875000</td>\n",
       "      <td>3.968341</td>\n",
       "      <td>1.0</td>\n",
       "      <td>1.0</td>\n",
       "      <td>7.5</td>\n",
       "      <td>10.0</td>\n",
       "      <td>10.0</td>\n",
       "    </tr>\n",
       "    <tr>\n",
       "      <th>Oxybutynin</th>\n",
       "      <td>213.0</td>\n",
       "      <td>6.962441</td>\n",
       "      <td>3.188792</td>\n",
       "      <td>1.0</td>\n",
       "      <td>5.0</td>\n",
       "      <td>8.0</td>\n",
       "      <td>10.0</td>\n",
       "      <td>10.0</td>\n",
       "    </tr>\n",
       "    <tr>\n",
       "      <th>Lurasidone</th>\n",
       "      <td>472.0</td>\n",
       "      <td>6.826271</td>\n",
       "      <td>3.252226</td>\n",
       "      <td>1.0</td>\n",
       "      <td>4.0</td>\n",
       "      <td>8.0</td>\n",
       "      <td>10.0</td>\n",
       "      <td>10.0</td>\n",
       "    </tr>\n",
       "    <tr>\n",
       "      <th>Clonazepam</th>\n",
       "      <td>1146.0</td>\n",
       "      <td>8.520070</td>\n",
       "      <td>2.440567</td>\n",
       "      <td>1.0</td>\n",
       "      <td>8.0</td>\n",
       "      <td>10.0</td>\n",
       "      <td>10.0</td>\n",
       "      <td>10.0</td>\n",
       "    </tr>\n",
       "    <tr>\n",
       "      <th>Ciclopirox</th>\n",
       "      <td>23.0</td>\n",
       "      <td>7.347826</td>\n",
       "      <td>2.885838</td>\n",
       "      <td>1.0</td>\n",
       "      <td>7.5</td>\n",
       "      <td>8.0</td>\n",
       "      <td>9.0</td>\n",
       "      <td>10.0</td>\n",
       "    </tr>\n",
       "    <tr>\n",
       "      <th>Sodium oxybate</th>\n",
       "      <td>74.0</td>\n",
       "      <td>8.297297</td>\n",
       "      <td>2.374117</td>\n",
       "      <td>1.0</td>\n",
       "      <td>8.0</td>\n",
       "      <td>9.0</td>\n",
       "      <td>10.0</td>\n",
       "      <td>10.0</td>\n",
       "    </tr>\n",
       "    <tr>\n",
       "      <th>Lamotrigine</th>\n",
       "      <td>784.0</td>\n",
       "      <td>8.144133</td>\n",
       "      <td>2.685449</td>\n",
       "      <td>1.0</td>\n",
       "      <td>8.0</td>\n",
       "      <td>9.0</td>\n",
       "      <td>10.0</td>\n",
       "      <td>10.0</td>\n",
       "    </tr>\n",
       "    <tr>\n",
       "      <th>...</th>\n",
       "      <td>...</td>\n",
       "      <td>...</td>\n",
       "      <td>...</td>\n",
       "      <td>...</td>\n",
       "      <td>...</td>\n",
       "      <td>...</td>\n",
       "      <td>...</td>\n",
       "      <td>...</td>\n",
       "    </tr>\n",
       "    <tr>\n",
       "      <th>Plexion Cleanser</th>\n",
       "      <td>1.0</td>\n",
       "      <td>9.000000</td>\n",
       "      <td>NaN</td>\n",
       "      <td>9.0</td>\n",
       "      <td>9.0</td>\n",
       "      <td>9.0</td>\n",
       "      <td>9.0</td>\n",
       "      <td>9.0</td>\n",
       "    </tr>\n",
       "    <tr>\n",
       "      <th>Dexasone</th>\n",
       "      <td>1.0</td>\n",
       "      <td>10.000000</td>\n",
       "      <td>NaN</td>\n",
       "      <td>10.0</td>\n",
       "      <td>10.0</td>\n",
       "      <td>10.0</td>\n",
       "      <td>10.0</td>\n",
       "      <td>10.0</td>\n",
       "    </tr>\n",
       "    <tr>\n",
       "      <th>Proleukin</th>\n",
       "      <td>1.0</td>\n",
       "      <td>10.000000</td>\n",
       "      <td>NaN</td>\n",
       "      <td>10.0</td>\n",
       "      <td>10.0</td>\n",
       "      <td>10.0</td>\n",
       "      <td>10.0</td>\n",
       "      <td>10.0</td>\n",
       "    </tr>\n",
       "    <tr>\n",
       "      <th>Sensorcaine-MPF</th>\n",
       "      <td>1.0</td>\n",
       "      <td>10.000000</td>\n",
       "      <td>NaN</td>\n",
       "      <td>10.0</td>\n",
       "      <td>10.0</td>\n",
       "      <td>10.0</td>\n",
       "      <td>10.0</td>\n",
       "      <td>10.0</td>\n",
       "    </tr>\n",
       "    <tr>\n",
       "      <th>Medi-Quik Spray</th>\n",
       "      <td>1.0</td>\n",
       "      <td>10.000000</td>\n",
       "      <td>NaN</td>\n",
       "      <td>10.0</td>\n",
       "      <td>10.0</td>\n",
       "      <td>10.0</td>\n",
       "      <td>10.0</td>\n",
       "      <td>10.0</td>\n",
       "    </tr>\n",
       "    <tr>\n",
       "      <th>Streptokinase</th>\n",
       "      <td>1.0</td>\n",
       "      <td>10.000000</td>\n",
       "      <td>NaN</td>\n",
       "      <td>10.0</td>\n",
       "      <td>10.0</td>\n",
       "      <td>10.0</td>\n",
       "      <td>10.0</td>\n",
       "      <td>10.0</td>\n",
       "    </tr>\n",
       "    <tr>\n",
       "      <th>Hydralazine / isosorbide dinitrate</th>\n",
       "      <td>1.0</td>\n",
       "      <td>9.000000</td>\n",
       "      <td>NaN</td>\n",
       "      <td>9.0</td>\n",
       "      <td>9.0</td>\n",
       "      <td>9.0</td>\n",
       "      <td>9.0</td>\n",
       "      <td>9.0</td>\n",
       "    </tr>\n",
       "    <tr>\n",
       "      <th>Butisol Sodium</th>\n",
       "      <td>1.0</td>\n",
       "      <td>9.000000</td>\n",
       "      <td>NaN</td>\n",
       "      <td>9.0</td>\n",
       "      <td>9.0</td>\n",
       "      <td>9.0</td>\n",
       "      <td>9.0</td>\n",
       "      <td>9.0</td>\n",
       "    </tr>\n",
       "    <tr>\n",
       "      <th>PhosLo</th>\n",
       "      <td>1.0</td>\n",
       "      <td>8.000000</td>\n",
       "      <td>NaN</td>\n",
       "      <td>8.0</td>\n",
       "      <td>8.0</td>\n",
       "      <td>8.0</td>\n",
       "      <td>8.0</td>\n",
       "      <td>8.0</td>\n",
       "    </tr>\n",
       "    <tr>\n",
       "      <th>Peppermint</th>\n",
       "      <td>1.0</td>\n",
       "      <td>10.000000</td>\n",
       "      <td>NaN</td>\n",
       "      <td>10.0</td>\n",
       "      <td>10.0</td>\n",
       "      <td>10.0</td>\n",
       "      <td>10.0</td>\n",
       "      <td>10.0</td>\n",
       "    </tr>\n",
       "    <tr>\n",
       "      <th>Midostaurin</th>\n",
       "      <td>1.0</td>\n",
       "      <td>8.000000</td>\n",
       "      <td>NaN</td>\n",
       "      <td>8.0</td>\n",
       "      <td>8.0</td>\n",
       "      <td>8.0</td>\n",
       "      <td>8.0</td>\n",
       "      <td>8.0</td>\n",
       "    </tr>\n",
       "    <tr>\n",
       "      <th>Calcium / vitamin d</th>\n",
       "      <td>1.0</td>\n",
       "      <td>9.000000</td>\n",
       "      <td>NaN</td>\n",
       "      <td>9.0</td>\n",
       "      <td>9.0</td>\n",
       "      <td>9.0</td>\n",
       "      <td>9.0</td>\n",
       "      <td>9.0</td>\n",
       "    </tr>\n",
       "    <tr>\n",
       "      <th>Calcium carbonate / risedronate</th>\n",
       "      <td>1.0</td>\n",
       "      <td>3.000000</td>\n",
       "      <td>NaN</td>\n",
       "      <td>3.0</td>\n",
       "      <td>3.0</td>\n",
       "      <td>3.0</td>\n",
       "      <td>3.0</td>\n",
       "      <td>3.0</td>\n",
       "    </tr>\n",
       "    <tr>\n",
       "      <th>Riociguat</th>\n",
       "      <td>1.0</td>\n",
       "      <td>1.000000</td>\n",
       "      <td>NaN</td>\n",
       "      <td>1.0</td>\n",
       "      <td>1.0</td>\n",
       "      <td>1.0</td>\n",
       "      <td>1.0</td>\n",
       "      <td>1.0</td>\n",
       "    </tr>\n",
       "    <tr>\n",
       "      <th>Clemastine</th>\n",
       "      <td>1.0</td>\n",
       "      <td>10.000000</td>\n",
       "      <td>NaN</td>\n",
       "      <td>10.0</td>\n",
       "      <td>10.0</td>\n",
       "      <td>10.0</td>\n",
       "      <td>10.0</td>\n",
       "      <td>10.0</td>\n",
       "    </tr>\n",
       "    <tr>\n",
       "      <th>Valganciclovir</th>\n",
       "      <td>1.0</td>\n",
       "      <td>8.000000</td>\n",
       "      <td>NaN</td>\n",
       "      <td>8.0</td>\n",
       "      <td>8.0</td>\n",
       "      <td>8.0</td>\n",
       "      <td>8.0</td>\n",
       "      <td>8.0</td>\n",
       "    </tr>\n",
       "    <tr>\n",
       "      <th>Urised</th>\n",
       "      <td>1.0</td>\n",
       "      <td>9.000000</td>\n",
       "      <td>NaN</td>\n",
       "      <td>9.0</td>\n",
       "      <td>9.0</td>\n",
       "      <td>9.0</td>\n",
       "      <td>9.0</td>\n",
       "      <td>9.0</td>\n",
       "    </tr>\n",
       "    <tr>\n",
       "      <th>Folotyn</th>\n",
       "      <td>1.0</td>\n",
       "      <td>1.000000</td>\n",
       "      <td>NaN</td>\n",
       "      <td>1.0</td>\n",
       "      <td>1.0</td>\n",
       "      <td>1.0</td>\n",
       "      <td>1.0</td>\n",
       "      <td>1.0</td>\n",
       "    </tr>\n",
       "    <tr>\n",
       "      <th>Amevive</th>\n",
       "      <td>1.0</td>\n",
       "      <td>10.000000</td>\n",
       "      <td>NaN</td>\n",
       "      <td>10.0</td>\n",
       "      <td>10.0</td>\n",
       "      <td>10.0</td>\n",
       "      <td>10.0</td>\n",
       "      <td>10.0</td>\n",
       "    </tr>\n",
       "    <tr>\n",
       "      <th>Mylanta Gas</th>\n",
       "      <td>1.0</td>\n",
       "      <td>3.000000</td>\n",
       "      <td>NaN</td>\n",
       "      <td>3.0</td>\n",
       "      <td>3.0</td>\n",
       "      <td>3.0</td>\n",
       "      <td>3.0</td>\n",
       "      <td>3.0</td>\n",
       "    </tr>\n",
       "    <tr>\n",
       "      <th>Midol Extended Relief</th>\n",
       "      <td>1.0</td>\n",
       "      <td>10.000000</td>\n",
       "      <td>NaN</td>\n",
       "      <td>10.0</td>\n",
       "      <td>10.0</td>\n",
       "      <td>10.0</td>\n",
       "      <td>10.0</td>\n",
       "      <td>10.0</td>\n",
       "    </tr>\n",
       "    <tr>\n",
       "      <th>Desloratadine / pseudoephedrine</th>\n",
       "      <td>1.0</td>\n",
       "      <td>9.000000</td>\n",
       "      <td>NaN</td>\n",
       "      <td>9.0</td>\n",
       "      <td>9.0</td>\n",
       "      <td>9.0</td>\n",
       "      <td>9.0</td>\n",
       "      <td>9.0</td>\n",
       "    </tr>\n",
       "    <tr>\n",
       "      <th>Extina</th>\n",
       "      <td>1.0</td>\n",
       "      <td>10.000000</td>\n",
       "      <td>NaN</td>\n",
       "      <td>10.0</td>\n",
       "      <td>10.0</td>\n",
       "      <td>10.0</td>\n",
       "      <td>10.0</td>\n",
       "      <td>10.0</td>\n",
       "    </tr>\n",
       "    <tr>\n",
       "      <th>Zileuton</th>\n",
       "      <td>1.0</td>\n",
       "      <td>1.000000</td>\n",
       "      <td>NaN</td>\n",
       "      <td>1.0</td>\n",
       "      <td>1.0</td>\n",
       "      <td>1.0</td>\n",
       "      <td>1.0</td>\n",
       "      <td>1.0</td>\n",
       "    </tr>\n",
       "    <tr>\n",
       "      <th>Midamor</th>\n",
       "      <td>1.0</td>\n",
       "      <td>1.000000</td>\n",
       "      <td>NaN</td>\n",
       "      <td>1.0</td>\n",
       "      <td>1.0</td>\n",
       "      <td>1.0</td>\n",
       "      <td>1.0</td>\n",
       "      <td>1.0</td>\n",
       "    </tr>\n",
       "    <tr>\n",
       "      <th>Oxytocin</th>\n",
       "      <td>1.0</td>\n",
       "      <td>10.000000</td>\n",
       "      <td>NaN</td>\n",
       "      <td>10.0</td>\n",
       "      <td>10.0</td>\n",
       "      <td>10.0</td>\n",
       "      <td>10.0</td>\n",
       "      <td>10.0</td>\n",
       "    </tr>\n",
       "    <tr>\n",
       "      <th>Iluvien</th>\n",
       "      <td>1.0</td>\n",
       "      <td>10.000000</td>\n",
       "      <td>NaN</td>\n",
       "      <td>10.0</td>\n",
       "      <td>10.0</td>\n",
       "      <td>10.0</td>\n",
       "      <td>10.0</td>\n",
       "      <td>10.0</td>\n",
       "    </tr>\n",
       "    <tr>\n",
       "      <th>Mavik</th>\n",
       "      <td>1.0</td>\n",
       "      <td>2.000000</td>\n",
       "      <td>NaN</td>\n",
       "      <td>2.0</td>\n",
       "      <td>2.0</td>\n",
       "      <td>2.0</td>\n",
       "      <td>2.0</td>\n",
       "      <td>2.0</td>\n",
       "    </tr>\n",
       "    <tr>\n",
       "      <th>Aldomet</th>\n",
       "      <td>1.0</td>\n",
       "      <td>3.000000</td>\n",
       "      <td>NaN</td>\n",
       "      <td>3.0</td>\n",
       "      <td>3.0</td>\n",
       "      <td>3.0</td>\n",
       "      <td>3.0</td>\n",
       "      <td>3.0</td>\n",
       "    </tr>\n",
       "    <tr>\n",
       "      <th>Grifulvin V</th>\n",
       "      <td>1.0</td>\n",
       "      <td>8.000000</td>\n",
       "      <td>NaN</td>\n",
       "      <td>8.0</td>\n",
       "      <td>8.0</td>\n",
       "      <td>8.0</td>\n",
       "      <td>8.0</td>\n",
       "      <td>8.0</td>\n",
       "    </tr>\n",
       "  </tbody>\n",
       "</table>\n",
       "<p>3671 rows × 8 columns</p>\n",
       "</div>"
      ],
      "text/plain": [
       "                                     count       mean       std   min   25%  \\\n",
       "drugName                                                                      \n",
       "Mirtazapine                          727.0   7.180193  2.976352   1.0   5.5   \n",
       "Mesalamine                           237.0   7.540084  2.924813   1.0   7.0   \n",
       "Bactrim                              273.0   6.043956  3.619531   1.0   2.0   \n",
       "Contrave                            1215.0   6.781070  3.227222   1.0   4.0   \n",
       "Cyclafem 1 / 35                       11.0   6.090909  2.879394   1.0   4.0   \n",
       "Zyclara                               34.0   7.441176  2.162927   1.0   7.0   \n",
       "Copper                               801.0   7.111111  3.282360   1.0   5.0   \n",
       "Amitriptyline                        921.0   7.817590  2.813275   1.0   7.0   \n",
       "Methadone                            442.0   8.828054  1.976582   1.0   8.0   \n",
       "Levora                               170.0   6.082353  3.142425   1.0   3.0   \n",
       "Paroxetine                           853.0   7.286049  3.019927   1.0   6.0   \n",
       "Miconazole                          1344.0   3.004464  2.936404   1.0   1.0   \n",
       "Belviq                               755.0   7.954967  3.049649   1.0   7.0   \n",
       "Seroquel                             428.0   7.250000  2.914170   1.0   6.0   \n",
       "Ambien                               383.0   7.370757  3.018855   1.0   6.0   \n",
       "Nuvigil                              225.0   7.426667  2.661766   1.0   6.0   \n",
       "Chantix                              862.0   8.805104  2.281384   1.0   9.0   \n",
       "Microgestin Fe 1 / 20                518.0   5.843629  3.186751   1.0   3.0   \n",
       "Klonopin                             553.0   8.694394  2.267985   1.0   8.0   \n",
       "Ciprofloxacin                        478.0   5.502092  3.600459   1.0   1.0   \n",
       "Trazodone                            795.0   6.922013  3.347461   1.0   4.0   \n",
       "EnteraGam                              9.0   6.555556  3.940530   1.0   2.0   \n",
       "Aripiprazole                         665.0   6.508271  3.416871   1.0   3.0   \n",
       "Cyclosporine                          56.0   5.875000  3.968341   1.0   1.0   \n",
       "Oxybutynin                           213.0   6.962441  3.188792   1.0   5.0   \n",
       "Lurasidone                           472.0   6.826271  3.252226   1.0   4.0   \n",
       "Clonazepam                          1146.0   8.520070  2.440567   1.0   8.0   \n",
       "Ciclopirox                            23.0   7.347826  2.885838   1.0   7.5   \n",
       "Sodium oxybate                        74.0   8.297297  2.374117   1.0   8.0   \n",
       "Lamotrigine                          784.0   8.144133  2.685449   1.0   8.0   \n",
       "...                                    ...        ...       ...   ...   ...   \n",
       "Plexion Cleanser                       1.0   9.000000       NaN   9.0   9.0   \n",
       "Dexasone                               1.0  10.000000       NaN  10.0  10.0   \n",
       "Proleukin                              1.0  10.000000       NaN  10.0  10.0   \n",
       "Sensorcaine-MPF                        1.0  10.000000       NaN  10.0  10.0   \n",
       "Medi-Quik Spray                        1.0  10.000000       NaN  10.0  10.0   \n",
       "Streptokinase                          1.0  10.000000       NaN  10.0  10.0   \n",
       "Hydralazine / isosorbide dinitrate     1.0   9.000000       NaN   9.0   9.0   \n",
       "Butisol Sodium                         1.0   9.000000       NaN   9.0   9.0   \n",
       "PhosLo                                 1.0   8.000000       NaN   8.0   8.0   \n",
       "Peppermint                             1.0  10.000000       NaN  10.0  10.0   \n",
       "Midostaurin                            1.0   8.000000       NaN   8.0   8.0   \n",
       "Calcium / vitamin d                    1.0   9.000000       NaN   9.0   9.0   \n",
       "Calcium carbonate / risedronate        1.0   3.000000       NaN   3.0   3.0   \n",
       "Riociguat                              1.0   1.000000       NaN   1.0   1.0   \n",
       "Clemastine                             1.0  10.000000       NaN  10.0  10.0   \n",
       "Valganciclovir                         1.0   8.000000       NaN   8.0   8.0   \n",
       "Urised                                 1.0   9.000000       NaN   9.0   9.0   \n",
       "Folotyn                                1.0   1.000000       NaN   1.0   1.0   \n",
       "Amevive                                1.0  10.000000       NaN  10.0  10.0   \n",
       "Mylanta Gas                            1.0   3.000000       NaN   3.0   3.0   \n",
       "Midol Extended Relief                  1.0  10.000000       NaN  10.0  10.0   \n",
       "Desloratadine / pseudoephedrine        1.0   9.000000       NaN   9.0   9.0   \n",
       "Extina                                 1.0  10.000000       NaN  10.0  10.0   \n",
       "Zileuton                               1.0   1.000000       NaN   1.0   1.0   \n",
       "Midamor                                1.0   1.000000       NaN   1.0   1.0   \n",
       "Oxytocin                               1.0  10.000000       NaN  10.0  10.0   \n",
       "Iluvien                                1.0  10.000000       NaN  10.0  10.0   \n",
       "Mavik                                  1.0   2.000000       NaN   2.0   2.0   \n",
       "Aldomet                                1.0   3.000000       NaN   3.0   3.0   \n",
       "Grifulvin V                            1.0   8.000000       NaN   8.0   8.0   \n",
       "\n",
       "                                     50%   75%   max  \n",
       "drugName                                              \n",
       "Mirtazapine                          8.0  10.0  10.0  \n",
       "Mesalamine                           9.0  10.0  10.0  \n",
       "Bactrim                              7.0  10.0  10.0  \n",
       "Contrave                             8.0  10.0  10.0  \n",
       "Cyclafem 1 / 35                      6.0   8.5  10.0  \n",
       "Zyclara                              8.0   9.0  10.0  \n",
       "Copper                               9.0  10.0  10.0  \n",
       "Amitriptyline                        9.0  10.0  10.0  \n",
       "Methadone                           10.0  10.0  10.0  \n",
       "Levora                               6.0   9.0  10.0  \n",
       "Paroxetine                           9.0  10.0  10.0  \n",
       "Miconazole                           1.0   5.0  10.0  \n",
       "Belviq                              10.0  10.0  10.0  \n",
       "Seroquel                             8.0   9.0  10.0  \n",
       "Ambien                               9.0  10.0  10.0  \n",
       "Nuvigil                              8.0   9.0  10.0  \n",
       "Chantix                             10.0  10.0  10.0  \n",
       "Microgestin Fe 1 / 20                6.0   9.0  10.0  \n",
       "Klonopin                            10.0  10.0  10.0  \n",
       "Ciprofloxacin                        6.0   9.0  10.0  \n",
       "Trazodone                            8.0  10.0  10.0  \n",
       "EnteraGam                            9.0   9.0  10.0  \n",
       "Aripiprazole                         8.0  10.0  10.0  \n",
       "Cyclosporine                         7.5  10.0  10.0  \n",
       "Oxybutynin                           8.0  10.0  10.0  \n",
       "Lurasidone                           8.0  10.0  10.0  \n",
       "Clonazepam                          10.0  10.0  10.0  \n",
       "Ciclopirox                           8.0   9.0  10.0  \n",
       "Sodium oxybate                       9.0  10.0  10.0  \n",
       "Lamotrigine                          9.0  10.0  10.0  \n",
       "...                                  ...   ...   ...  \n",
       "Plexion Cleanser                     9.0   9.0   9.0  \n",
       "Dexasone                            10.0  10.0  10.0  \n",
       "Proleukin                           10.0  10.0  10.0  \n",
       "Sensorcaine-MPF                     10.0  10.0  10.0  \n",
       "Medi-Quik Spray                     10.0  10.0  10.0  \n",
       "Streptokinase                       10.0  10.0  10.0  \n",
       "Hydralazine / isosorbide dinitrate   9.0   9.0   9.0  \n",
       "Butisol Sodium                       9.0   9.0   9.0  \n",
       "PhosLo                               8.0   8.0   8.0  \n",
       "Peppermint                          10.0  10.0  10.0  \n",
       "Midostaurin                          8.0   8.0   8.0  \n",
       "Calcium / vitamin d                  9.0   9.0   9.0  \n",
       "Calcium carbonate / risedronate      3.0   3.0   3.0  \n",
       "Riociguat                            1.0   1.0   1.0  \n",
       "Clemastine                          10.0  10.0  10.0  \n",
       "Valganciclovir                       8.0   8.0   8.0  \n",
       "Urised                               9.0   9.0   9.0  \n",
       "Folotyn                              1.0   1.0   1.0  \n",
       "Amevive                             10.0  10.0  10.0  \n",
       "Mylanta Gas                          3.0   3.0   3.0  \n",
       "Midol Extended Relief               10.0  10.0  10.0  \n",
       "Desloratadine / pseudoephedrine      9.0   9.0   9.0  \n",
       "Extina                              10.0  10.0  10.0  \n",
       "Zileuton                             1.0   1.0   1.0  \n",
       "Midamor                              1.0   1.0   1.0  \n",
       "Oxytocin                            10.0  10.0  10.0  \n",
       "Iluvien                             10.0  10.0  10.0  \n",
       "Mavik                                2.0   2.0   2.0  \n",
       "Aldomet                              3.0   3.0   3.0  \n",
       "Grifulvin V                          8.0   8.0   8.0  \n",
       "\n",
       "[3671 rows x 8 columns]"
      ]
     },
     "execution_count": 69,
     "metadata": {},
     "output_type": "execute_result"
    }
   ],
   "source": [
    "df2.groupby('drugName' , sort = False)['rating'].describe() \n",
    "# difference btw sort = False or otherwise? when sort = False is not there, it will sort alphabetically."
   ]
  },
  {
   "cell_type": "code",
   "execution_count": 70,
   "metadata": {},
   "outputs": [
    {
     "data": {
      "text/html": [
       "<div>\n",
       "<style scoped>\n",
       "    .dataframe tbody tr th:only-of-type {\n",
       "        vertical-align: middle;\n",
       "    }\n",
       "\n",
       "    .dataframe tbody tr th {\n",
       "        vertical-align: top;\n",
       "    }\n",
       "\n",
       "    .dataframe thead th {\n",
       "        text-align: right;\n",
       "    }\n",
       "</style>\n",
       "<table border=\"1\" class=\"dataframe\">\n",
       "  <thead>\n",
       "    <tr style=\"text-align: right;\">\n",
       "      <th></th>\n",
       "      <th>count</th>\n",
       "      <th>mean</th>\n",
       "      <th>std</th>\n",
       "      <th>min</th>\n",
       "      <th>25%</th>\n",
       "      <th>50%</th>\n",
       "      <th>75%</th>\n",
       "      <th>max</th>\n",
       "    </tr>\n",
       "    <tr>\n",
       "      <th>drugName</th>\n",
       "      <th></th>\n",
       "      <th></th>\n",
       "      <th></th>\n",
       "      <th></th>\n",
       "      <th></th>\n",
       "      <th></th>\n",
       "      <th></th>\n",
       "      <th></th>\n",
       "    </tr>\n",
       "  </thead>\n",
       "  <tbody>\n",
       "    <tr>\n",
       "      <th>Levonorgestrel</th>\n",
       "      <td>4930.0</td>\n",
       "      <td>7.384584</td>\n",
       "      <td>3.130904</td>\n",
       "      <td>1.0</td>\n",
       "      <td>5.0</td>\n",
       "      <td>9.0</td>\n",
       "      <td>10.0</td>\n",
       "      <td>10.0</td>\n",
       "    </tr>\n",
       "    <tr>\n",
       "      <th>Etonogestrel</th>\n",
       "      <td>4421.0</td>\n",
       "      <td>5.824022</td>\n",
       "      <td>3.321706</td>\n",
       "      <td>1.0</td>\n",
       "      <td>3.0</td>\n",
       "      <td>6.0</td>\n",
       "      <td>9.0</td>\n",
       "      <td>10.0</td>\n",
       "    </tr>\n",
       "    <tr>\n",
       "      <th>Ethinyl estradiol / norethindrone</th>\n",
       "      <td>3753.0</td>\n",
       "      <td>5.589129</td>\n",
       "      <td>3.397699</td>\n",
       "      <td>1.0</td>\n",
       "      <td>2.0</td>\n",
       "      <td>6.0</td>\n",
       "      <td>9.0</td>\n",
       "      <td>10.0</td>\n",
       "    </tr>\n",
       "    <tr>\n",
       "      <th>Nexplanon</th>\n",
       "      <td>2892.0</td>\n",
       "      <td>5.643154</td>\n",
       "      <td>3.325100</td>\n",
       "      <td>1.0</td>\n",
       "      <td>2.0</td>\n",
       "      <td>6.0</td>\n",
       "      <td>9.0</td>\n",
       "      <td>10.0</td>\n",
       "    </tr>\n",
       "    <tr>\n",
       "      <th>Ethinyl estradiol / norgestimate</th>\n",
       "      <td>2790.0</td>\n",
       "      <td>5.802151</td>\n",
       "      <td>3.292635</td>\n",
       "      <td>1.0</td>\n",
       "      <td>2.0</td>\n",
       "      <td>6.0</td>\n",
       "      <td>9.0</td>\n",
       "      <td>10.0</td>\n",
       "    </tr>\n",
       "    <tr>\n",
       "      <th>Ethinyl estradiol / levonorgestrel</th>\n",
       "      <td>2503.0</td>\n",
       "      <td>5.763084</td>\n",
       "      <td>3.293315</td>\n",
       "      <td>1.0</td>\n",
       "      <td>3.0</td>\n",
       "      <td>6.0</td>\n",
       "      <td>9.0</td>\n",
       "      <td>10.0</td>\n",
       "    </tr>\n",
       "    <tr>\n",
       "      <th>Phentermine</th>\n",
       "      <td>2085.0</td>\n",
       "      <td>8.776978</td>\n",
       "      <td>1.971157</td>\n",
       "      <td>1.0</td>\n",
       "      <td>8.0</td>\n",
       "      <td>10.0</td>\n",
       "      <td>10.0</td>\n",
       "      <td>10.0</td>\n",
       "    </tr>\n",
       "    <tr>\n",
       "      <th>Sertraline</th>\n",
       "      <td>1868.0</td>\n",
       "      <td>7.452891</td>\n",
       "      <td>2.909163</td>\n",
       "      <td>1.0</td>\n",
       "      <td>6.0</td>\n",
       "      <td>9.0</td>\n",
       "      <td>10.0</td>\n",
       "      <td>10.0</td>\n",
       "    </tr>\n",
       "    <tr>\n",
       "      <th>Escitalopram</th>\n",
       "      <td>1747.0</td>\n",
       "      <td>7.829422</td>\n",
       "      <td>2.691164</td>\n",
       "      <td>1.0</td>\n",
       "      <td>7.0</td>\n",
       "      <td>9.0</td>\n",
       "      <td>10.0</td>\n",
       "      <td>10.0</td>\n",
       "    </tr>\n",
       "    <tr>\n",
       "      <th>Mirena</th>\n",
       "      <td>1673.0</td>\n",
       "      <td>6.617454</td>\n",
       "      <td>3.316370</td>\n",
       "      <td>1.0</td>\n",
       "      <td>3.0</td>\n",
       "      <td>8.0</td>\n",
       "      <td>10.0</td>\n",
       "      <td>10.0</td>\n",
       "    </tr>\n",
       "    <tr>\n",
       "      <th>Implanon</th>\n",
       "      <td>1506.0</td>\n",
       "      <td>6.178619</td>\n",
       "      <td>3.287442</td>\n",
       "      <td>1.0</td>\n",
       "      <td>3.0</td>\n",
       "      <td>7.0</td>\n",
       "      <td>9.0</td>\n",
       "      <td>10.0</td>\n",
       "    </tr>\n",
       "    <tr>\n",
       "      <th>Gabapentin</th>\n",
       "      <td>1415.0</td>\n",
       "      <td>7.419788</td>\n",
       "      <td>3.007845</td>\n",
       "      <td>1.0</td>\n",
       "      <td>6.0</td>\n",
       "      <td>9.0</td>\n",
       "      <td>10.0</td>\n",
       "      <td>10.0</td>\n",
       "    </tr>\n",
       "    <tr>\n",
       "      <th>Bupropion</th>\n",
       "      <td>1369.0</td>\n",
       "      <td>7.478451</td>\n",
       "      <td>2.905129</td>\n",
       "      <td>1.0</td>\n",
       "      <td>6.0</td>\n",
       "      <td>9.0</td>\n",
       "      <td>10.0</td>\n",
       "      <td>10.0</td>\n",
       "    </tr>\n",
       "    <tr>\n",
       "      <th>Miconazole</th>\n",
       "      <td>1344.0</td>\n",
       "      <td>3.004464</td>\n",
       "      <td>2.936404</td>\n",
       "      <td>1.0</td>\n",
       "      <td>1.0</td>\n",
       "      <td>1.0</td>\n",
       "      <td>5.0</td>\n",
       "      <td>10.0</td>\n",
       "    </tr>\n",
       "    <tr>\n",
       "      <th>Venlafaxine</th>\n",
       "      <td>1338.0</td>\n",
       "      <td>6.846039</td>\n",
       "      <td>3.225075</td>\n",
       "      <td>1.0</td>\n",
       "      <td>4.0</td>\n",
       "      <td>8.0</td>\n",
       "      <td>10.0</td>\n",
       "      <td>10.0</td>\n",
       "    </tr>\n",
       "    <tr>\n",
       "      <th>Medroxyprogesterone</th>\n",
       "      <td>1308.0</td>\n",
       "      <td>4.831804</td>\n",
       "      <td>3.582560</td>\n",
       "      <td>1.0</td>\n",
       "      <td>1.0</td>\n",
       "      <td>4.0</td>\n",
       "      <td>9.0</td>\n",
       "      <td>10.0</td>\n",
       "    </tr>\n",
       "    <tr>\n",
       "      <th>Citalopram</th>\n",
       "      <td>1308.0</td>\n",
       "      <td>7.597859</td>\n",
       "      <td>2.752821</td>\n",
       "      <td>1.0</td>\n",
       "      <td>7.0</td>\n",
       "      <td>9.0</td>\n",
       "      <td>10.0</td>\n",
       "      <td>10.0</td>\n",
       "    </tr>\n",
       "    <tr>\n",
       "      <th>Duloxetine</th>\n",
       "      <td>1256.0</td>\n",
       "      <td>6.618631</td>\n",
       "      <td>3.321825</td>\n",
       "      <td>1.0</td>\n",
       "      <td>3.0</td>\n",
       "      <td>8.0</td>\n",
       "      <td>9.0</td>\n",
       "      <td>10.0</td>\n",
       "    </tr>\n",
       "    <tr>\n",
       "      <th>Lexapro</th>\n",
       "      <td>1250.0</td>\n",
       "      <td>7.912000</td>\n",
       "      <td>2.649882</td>\n",
       "      <td>1.0</td>\n",
       "      <td>7.0</td>\n",
       "      <td>9.0</td>\n",
       "      <td>10.0</td>\n",
       "      <td>10.0</td>\n",
       "    </tr>\n",
       "    <tr>\n",
       "      <th>Bupropion / naltrexone</th>\n",
       "      <td>1249.0</td>\n",
       "      <td>6.791033</td>\n",
       "      <td>3.224563</td>\n",
       "      <td>1.0</td>\n",
       "      <td>4.0</td>\n",
       "      <td>8.0</td>\n",
       "      <td>10.0</td>\n",
       "      <td>10.0</td>\n",
       "    </tr>\n",
       "    <tr>\n",
       "      <th>Contrave</th>\n",
       "      <td>1215.0</td>\n",
       "      <td>6.781070</td>\n",
       "      <td>3.227222</td>\n",
       "      <td>1.0</td>\n",
       "      <td>4.0</td>\n",
       "      <td>8.0</td>\n",
       "      <td>10.0</td>\n",
       "      <td>10.0</td>\n",
       "    </tr>\n",
       "    <tr>\n",
       "      <th>Metronidazole</th>\n",
       "      <td>1207.0</td>\n",
       "      <td>6.818558</td>\n",
       "      <td>2.924317</td>\n",
       "      <td>1.0</td>\n",
       "      <td>5.0</td>\n",
       "      <td>8.0</td>\n",
       "      <td>9.0</td>\n",
       "      <td>10.0</td>\n",
       "    </tr>\n",
       "    <tr>\n",
       "      <th>Drospirenone / ethinyl estradiol</th>\n",
       "      <td>1184.0</td>\n",
       "      <td>6.248311</td>\n",
       "      <td>3.317898</td>\n",
       "      <td>1.0</td>\n",
       "      <td>3.0</td>\n",
       "      <td>7.0</td>\n",
       "      <td>9.0</td>\n",
       "      <td>10.0</td>\n",
       "    </tr>\n",
       "    <tr>\n",
       "      <th>Depo-Provera</th>\n",
       "      <td>1155.0</td>\n",
       "      <td>4.660606</td>\n",
       "      <td>3.550448</td>\n",
       "      <td>1.0</td>\n",
       "      <td>1.0</td>\n",
       "      <td>4.0</td>\n",
       "      <td>8.0</td>\n",
       "      <td>10.0</td>\n",
       "    </tr>\n",
       "    <tr>\n",
       "      <th>Clonazepam</th>\n",
       "      <td>1146.0</td>\n",
       "      <td>8.520070</td>\n",
       "      <td>2.440567</td>\n",
       "      <td>1.0</td>\n",
       "      <td>8.0</td>\n",
       "      <td>10.0</td>\n",
       "      <td>10.0</td>\n",
       "      <td>10.0</td>\n",
       "    </tr>\n",
       "    <tr>\n",
       "      <th>Cymbalta</th>\n",
       "      <td>1142.0</td>\n",
       "      <td>6.628722</td>\n",
       "      <td>3.308367</td>\n",
       "      <td>1.0</td>\n",
       "      <td>4.0</td>\n",
       "      <td>8.0</td>\n",
       "      <td>9.0</td>\n",
       "      <td>10.0</td>\n",
       "    </tr>\n",
       "    <tr>\n",
       "      <th>Tramadol</th>\n",
       "      <td>1138.0</td>\n",
       "      <td>7.079086</td>\n",
       "      <td>3.230636</td>\n",
       "      <td>1.0</td>\n",
       "      <td>5.0</td>\n",
       "      <td>8.0</td>\n",
       "      <td>10.0</td>\n",
       "      <td>10.0</td>\n",
       "    </tr>\n",
       "    <tr>\n",
       "      <th>Varenicline</th>\n",
       "      <td>1090.0</td>\n",
       "      <td>8.799083</td>\n",
       "      <td>2.292039</td>\n",
       "      <td>1.0</td>\n",
       "      <td>9.0</td>\n",
       "      <td>10.0</td>\n",
       "      <td>10.0</td>\n",
       "      <td>10.0</td>\n",
       "    </tr>\n",
       "    <tr>\n",
       "      <th>Zoloft</th>\n",
       "      <td>1086.0</td>\n",
       "      <td>7.520258</td>\n",
       "      <td>2.826969</td>\n",
       "      <td>1.0</td>\n",
       "      <td>7.0</td>\n",
       "      <td>9.0</td>\n",
       "      <td>10.0</td>\n",
       "      <td>10.0</td>\n",
       "    </tr>\n",
       "    <tr>\n",
       "      <th>Quetiapine</th>\n",
       "      <td>1077.0</td>\n",
       "      <td>7.367688</td>\n",
       "      <td>2.868298</td>\n",
       "      <td>1.0</td>\n",
       "      <td>6.0</td>\n",
       "      <td>8.0</td>\n",
       "      <td>10.0</td>\n",
       "      <td>10.0</td>\n",
       "    </tr>\n",
       "    <tr>\n",
       "      <th>...</th>\n",
       "      <td>...</td>\n",
       "      <td>...</td>\n",
       "      <td>...</td>\n",
       "      <td>...</td>\n",
       "      <td>...</td>\n",
       "      <td>...</td>\n",
       "      <td>...</td>\n",
       "      <td>...</td>\n",
       "    </tr>\n",
       "    <tr>\n",
       "      <th>Amikin</th>\n",
       "      <td>1.0</td>\n",
       "      <td>1.000000</td>\n",
       "      <td>NaN</td>\n",
       "      <td>1.0</td>\n",
       "      <td>1.0</td>\n",
       "      <td>1.0</td>\n",
       "      <td>1.0</td>\n",
       "      <td>1.0</td>\n",
       "    </tr>\n",
       "    <tr>\n",
       "      <th>BroveX PEB DM</th>\n",
       "      <td>1.0</td>\n",
       "      <td>2.000000</td>\n",
       "      <td>NaN</td>\n",
       "      <td>2.0</td>\n",
       "      <td>2.0</td>\n",
       "      <td>2.0</td>\n",
       "      <td>2.0</td>\n",
       "      <td>2.0</td>\n",
       "    </tr>\n",
       "    <tr>\n",
       "      <th>Cortenema</th>\n",
       "      <td>1.0</td>\n",
       "      <td>4.000000</td>\n",
       "      <td>NaN</td>\n",
       "      <td>4.0</td>\n",
       "      <td>4.0</td>\n",
       "      <td>4.0</td>\n",
       "      <td>4.0</td>\n",
       "      <td>4.0</td>\n",
       "    </tr>\n",
       "    <tr>\n",
       "      <th>Chlophedianol / guaifenesin / pseudoephedrine</th>\n",
       "      <td>1.0</td>\n",
       "      <td>9.000000</td>\n",
       "      <td>NaN</td>\n",
       "      <td>9.0</td>\n",
       "      <td>9.0</td>\n",
       "      <td>9.0</td>\n",
       "      <td>9.0</td>\n",
       "      <td>9.0</td>\n",
       "    </tr>\n",
       "    <tr>\n",
       "      <th>Duoplant</th>\n",
       "      <td>1.0</td>\n",
       "      <td>9.000000</td>\n",
       "      <td>NaN</td>\n",
       "      <td>9.0</td>\n",
       "      <td>9.0</td>\n",
       "      <td>9.0</td>\n",
       "      <td>9.0</td>\n",
       "      <td>9.0</td>\n",
       "    </tr>\n",
       "    <tr>\n",
       "      <th>Dulcolax Stool Softener</th>\n",
       "      <td>1.0</td>\n",
       "      <td>5.000000</td>\n",
       "      <td>NaN</td>\n",
       "      <td>5.0</td>\n",
       "      <td>5.0</td>\n",
       "      <td>5.0</td>\n",
       "      <td>5.0</td>\n",
       "      <td>5.0</td>\n",
       "    </tr>\n",
       "    <tr>\n",
       "      <th>Savaysa</th>\n",
       "      <td>1.0</td>\n",
       "      <td>1.000000</td>\n",
       "      <td>NaN</td>\n",
       "      <td>1.0</td>\n",
       "      <td>1.0</td>\n",
       "      <td>1.0</td>\n",
       "      <td>1.0</td>\n",
       "      <td>1.0</td>\n",
       "    </tr>\n",
       "    <tr>\n",
       "      <th>Humatin</th>\n",
       "      <td>1.0</td>\n",
       "      <td>2.000000</td>\n",
       "      <td>NaN</td>\n",
       "      <td>2.0</td>\n",
       "      <td>2.0</td>\n",
       "      <td>2.0</td>\n",
       "      <td>2.0</td>\n",
       "      <td>2.0</td>\n",
       "    </tr>\n",
       "    <tr>\n",
       "      <th>Vasodilan</th>\n",
       "      <td>1.0</td>\n",
       "      <td>9.000000</td>\n",
       "      <td>NaN</td>\n",
       "      <td>9.0</td>\n",
       "      <td>9.0</td>\n",
       "      <td>9.0</td>\n",
       "      <td>9.0</td>\n",
       "      <td>9.0</td>\n",
       "    </tr>\n",
       "    <tr>\n",
       "      <th>Flanax Pain Reliever</th>\n",
       "      <td>1.0</td>\n",
       "      <td>10.000000</td>\n",
       "      <td>NaN</td>\n",
       "      <td>10.0</td>\n",
       "      <td>10.0</td>\n",
       "      <td>10.0</td>\n",
       "      <td>10.0</td>\n",
       "      <td>10.0</td>\n",
       "    </tr>\n",
       "    <tr>\n",
       "      <th>Polocaine</th>\n",
       "      <td>1.0</td>\n",
       "      <td>8.000000</td>\n",
       "      <td>NaN</td>\n",
       "      <td>8.0</td>\n",
       "      <td>8.0</td>\n",
       "      <td>8.0</td>\n",
       "      <td>8.0</td>\n",
       "      <td>8.0</td>\n",
       "    </tr>\n",
       "    <tr>\n",
       "      <th>Pomalyst</th>\n",
       "      <td>1.0</td>\n",
       "      <td>10.000000</td>\n",
       "      <td>NaN</td>\n",
       "      <td>10.0</td>\n",
       "      <td>10.0</td>\n",
       "      <td>10.0</td>\n",
       "      <td>10.0</td>\n",
       "      <td>10.0</td>\n",
       "    </tr>\n",
       "    <tr>\n",
       "      <th>Solarcaine First Aid Medicated Spray</th>\n",
       "      <td>1.0</td>\n",
       "      <td>10.000000</td>\n",
       "      <td>NaN</td>\n",
       "      <td>10.0</td>\n",
       "      <td>10.0</td>\n",
       "      <td>10.0</td>\n",
       "      <td>10.0</td>\n",
       "      <td>10.0</td>\n",
       "    </tr>\n",
       "    <tr>\n",
       "      <th>Rifadin</th>\n",
       "      <td>1.0</td>\n",
       "      <td>10.000000</td>\n",
       "      <td>NaN</td>\n",
       "      <td>10.0</td>\n",
       "      <td>10.0</td>\n",
       "      <td>10.0</td>\n",
       "      <td>10.0</td>\n",
       "      <td>10.0</td>\n",
       "    </tr>\n",
       "    <tr>\n",
       "      <th>Wera</th>\n",
       "      <td>1.0</td>\n",
       "      <td>7.000000</td>\n",
       "      <td>NaN</td>\n",
       "      <td>7.0</td>\n",
       "      <td>7.0</td>\n",
       "      <td>7.0</td>\n",
       "      <td>7.0</td>\n",
       "      <td>7.0</td>\n",
       "    </tr>\n",
       "    <tr>\n",
       "      <th>Pro-Den Rx</th>\n",
       "      <td>1.0</td>\n",
       "      <td>1.000000</td>\n",
       "      <td>NaN</td>\n",
       "      <td>1.0</td>\n",
       "      <td>1.0</td>\n",
       "      <td>1.0</td>\n",
       "      <td>1.0</td>\n",
       "      <td>1.0</td>\n",
       "    </tr>\n",
       "    <tr>\n",
       "      <th>Chlorothiazide</th>\n",
       "      <td>1.0</td>\n",
       "      <td>10.000000</td>\n",
       "      <td>NaN</td>\n",
       "      <td>10.0</td>\n",
       "      <td>10.0</td>\n",
       "      <td>10.0</td>\n",
       "      <td>10.0</td>\n",
       "      <td>10.0</td>\n",
       "    </tr>\n",
       "    <tr>\n",
       "      <th>M-Zole 3</th>\n",
       "      <td>1.0</td>\n",
       "      <td>1.000000</td>\n",
       "      <td>NaN</td>\n",
       "      <td>1.0</td>\n",
       "      <td>1.0</td>\n",
       "      <td>1.0</td>\n",
       "      <td>1.0</td>\n",
       "      <td>1.0</td>\n",
       "    </tr>\n",
       "    <tr>\n",
       "      <th>Monopril</th>\n",
       "      <td>1.0</td>\n",
       "      <td>9.000000</td>\n",
       "      <td>NaN</td>\n",
       "      <td>9.0</td>\n",
       "      <td>9.0</td>\n",
       "      <td>9.0</td>\n",
       "      <td>9.0</td>\n",
       "      <td>9.0</td>\n",
       "    </tr>\n",
       "    <tr>\n",
       "      <th>Tussigon</th>\n",
       "      <td>1.0</td>\n",
       "      <td>10.000000</td>\n",
       "      <td>NaN</td>\n",
       "      <td>10.0</td>\n",
       "      <td>10.0</td>\n",
       "      <td>10.0</td>\n",
       "      <td>10.0</td>\n",
       "      <td>10.0</td>\n",
       "    </tr>\n",
       "    <tr>\n",
       "      <th>Maxichlor PSE DM</th>\n",
       "      <td>1.0</td>\n",
       "      <td>10.000000</td>\n",
       "      <td>NaN</td>\n",
       "      <td>10.0</td>\n",
       "      <td>10.0</td>\n",
       "      <td>10.0</td>\n",
       "      <td>10.0</td>\n",
       "      <td>10.0</td>\n",
       "    </tr>\n",
       "    <tr>\n",
       "      <th>Timoptic</th>\n",
       "      <td>1.0</td>\n",
       "      <td>4.000000</td>\n",
       "      <td>NaN</td>\n",
       "      <td>4.0</td>\n",
       "      <td>4.0</td>\n",
       "      <td>4.0</td>\n",
       "      <td>4.0</td>\n",
       "      <td>4.0</td>\n",
       "    </tr>\n",
       "    <tr>\n",
       "      <th>Aspirin / diphenhydramine</th>\n",
       "      <td>1.0</td>\n",
       "      <td>9.000000</td>\n",
       "      <td>NaN</td>\n",
       "      <td>9.0</td>\n",
       "      <td>9.0</td>\n",
       "      <td>9.0</td>\n",
       "      <td>9.0</td>\n",
       "      <td>9.0</td>\n",
       "    </tr>\n",
       "    <tr>\n",
       "      <th>Taztia XT</th>\n",
       "      <td>1.0</td>\n",
       "      <td>9.000000</td>\n",
       "      <td>NaN</td>\n",
       "      <td>9.0</td>\n",
       "      <td>9.0</td>\n",
       "      <td>9.0</td>\n",
       "      <td>9.0</td>\n",
       "      <td>9.0</td>\n",
       "    </tr>\n",
       "    <tr>\n",
       "      <th>MVI Adult</th>\n",
       "      <td>1.0</td>\n",
       "      <td>1.000000</td>\n",
       "      <td>NaN</td>\n",
       "      <td>1.0</td>\n",
       "      <td>1.0</td>\n",
       "      <td>1.0</td>\n",
       "      <td>1.0</td>\n",
       "      <td>1.0</td>\n",
       "    </tr>\n",
       "    <tr>\n",
       "      <th>Aloe vera</th>\n",
       "      <td>1.0</td>\n",
       "      <td>10.000000</td>\n",
       "      <td>NaN</td>\n",
       "      <td>10.0</td>\n",
       "      <td>10.0</td>\n",
       "      <td>10.0</td>\n",
       "      <td>10.0</td>\n",
       "      <td>10.0</td>\n",
       "    </tr>\n",
       "    <tr>\n",
       "      <th>Norvir</th>\n",
       "      <td>1.0</td>\n",
       "      <td>1.000000</td>\n",
       "      <td>NaN</td>\n",
       "      <td>1.0</td>\n",
       "      <td>1.0</td>\n",
       "      <td>1.0</td>\n",
       "      <td>1.0</td>\n",
       "      <td>1.0</td>\n",
       "    </tr>\n",
       "    <tr>\n",
       "      <th>Clindagel</th>\n",
       "      <td>1.0</td>\n",
       "      <td>10.000000</td>\n",
       "      <td>NaN</td>\n",
       "      <td>10.0</td>\n",
       "      <td>10.0</td>\n",
       "      <td>10.0</td>\n",
       "      <td>10.0</td>\n",
       "      <td>10.0</td>\n",
       "    </tr>\n",
       "    <tr>\n",
       "      <th>Pancreatin</th>\n",
       "      <td>1.0</td>\n",
       "      <td>9.000000</td>\n",
       "      <td>NaN</td>\n",
       "      <td>9.0</td>\n",
       "      <td>9.0</td>\n",
       "      <td>9.0</td>\n",
       "      <td>9.0</td>\n",
       "      <td>9.0</td>\n",
       "    </tr>\n",
       "    <tr>\n",
       "      <th>Grifulvin V</th>\n",
       "      <td>1.0</td>\n",
       "      <td>8.000000</td>\n",
       "      <td>NaN</td>\n",
       "      <td>8.0</td>\n",
       "      <td>8.0</td>\n",
       "      <td>8.0</td>\n",
       "      <td>8.0</td>\n",
       "      <td>8.0</td>\n",
       "    </tr>\n",
       "  </tbody>\n",
       "</table>\n",
       "<p>3671 rows × 8 columns</p>\n",
       "</div>"
      ],
      "text/plain": [
       "                                                count       mean       std  \\\n",
       "drugName                                                                     \n",
       "Levonorgestrel                                 4930.0   7.384584  3.130904   \n",
       "Etonogestrel                                   4421.0   5.824022  3.321706   \n",
       "Ethinyl estradiol / norethindrone              3753.0   5.589129  3.397699   \n",
       "Nexplanon                                      2892.0   5.643154  3.325100   \n",
       "Ethinyl estradiol / norgestimate               2790.0   5.802151  3.292635   \n",
       "Ethinyl estradiol / levonorgestrel             2503.0   5.763084  3.293315   \n",
       "Phentermine                                    2085.0   8.776978  1.971157   \n",
       "Sertraline                                     1868.0   7.452891  2.909163   \n",
       "Escitalopram                                   1747.0   7.829422  2.691164   \n",
       "Mirena                                         1673.0   6.617454  3.316370   \n",
       "Implanon                                       1506.0   6.178619  3.287442   \n",
       "Gabapentin                                     1415.0   7.419788  3.007845   \n",
       "Bupropion                                      1369.0   7.478451  2.905129   \n",
       "Miconazole                                     1344.0   3.004464  2.936404   \n",
       "Venlafaxine                                    1338.0   6.846039  3.225075   \n",
       "Medroxyprogesterone                            1308.0   4.831804  3.582560   \n",
       "Citalopram                                     1308.0   7.597859  2.752821   \n",
       "Duloxetine                                     1256.0   6.618631  3.321825   \n",
       "Lexapro                                        1250.0   7.912000  2.649882   \n",
       "Bupropion / naltrexone                         1249.0   6.791033  3.224563   \n",
       "Contrave                                       1215.0   6.781070  3.227222   \n",
       "Metronidazole                                  1207.0   6.818558  2.924317   \n",
       "Drospirenone / ethinyl estradiol               1184.0   6.248311  3.317898   \n",
       "Depo-Provera                                   1155.0   4.660606  3.550448   \n",
       "Clonazepam                                     1146.0   8.520070  2.440567   \n",
       "Cymbalta                                       1142.0   6.628722  3.308367   \n",
       "Tramadol                                       1138.0   7.079086  3.230636   \n",
       "Varenicline                                    1090.0   8.799083  2.292039   \n",
       "Zoloft                                         1086.0   7.520258  2.826969   \n",
       "Quetiapine                                     1077.0   7.367688  2.868298   \n",
       "...                                               ...        ...       ...   \n",
       "Amikin                                            1.0   1.000000       NaN   \n",
       "BroveX PEB DM                                     1.0   2.000000       NaN   \n",
       "Cortenema                                         1.0   4.000000       NaN   \n",
       "Chlophedianol / guaifenesin / pseudoephedrine     1.0   9.000000       NaN   \n",
       "Duoplant                                          1.0   9.000000       NaN   \n",
       "Dulcolax Stool Softener                           1.0   5.000000       NaN   \n",
       "Savaysa                                           1.0   1.000000       NaN   \n",
       "Humatin                                           1.0   2.000000       NaN   \n",
       "Vasodilan                                         1.0   9.000000       NaN   \n",
       "Flanax Pain Reliever                              1.0  10.000000       NaN   \n",
       "Polocaine                                         1.0   8.000000       NaN   \n",
       "Pomalyst                                          1.0  10.000000       NaN   \n",
       "Solarcaine First Aid Medicated Spray              1.0  10.000000       NaN   \n",
       "Rifadin                                           1.0  10.000000       NaN   \n",
       "Wera                                              1.0   7.000000       NaN   \n",
       "Pro-Den Rx                                        1.0   1.000000       NaN   \n",
       "Chlorothiazide                                    1.0  10.000000       NaN   \n",
       "M-Zole 3                                          1.0   1.000000       NaN   \n",
       "Monopril                                          1.0   9.000000       NaN   \n",
       "Tussigon                                          1.0  10.000000       NaN   \n",
       "Maxichlor PSE DM                                  1.0  10.000000       NaN   \n",
       "Timoptic                                          1.0   4.000000       NaN   \n",
       "Aspirin / diphenhydramine                         1.0   9.000000       NaN   \n",
       "Taztia XT                                         1.0   9.000000       NaN   \n",
       "MVI Adult                                         1.0   1.000000       NaN   \n",
       "Aloe vera                                         1.0  10.000000       NaN   \n",
       "Norvir                                            1.0   1.000000       NaN   \n",
       "Clindagel                                         1.0  10.000000       NaN   \n",
       "Pancreatin                                        1.0   9.000000       NaN   \n",
       "Grifulvin V                                       1.0   8.000000       NaN   \n",
       "\n",
       "                                                min   25%   50%   75%   max  \n",
       "drugName                                                                     \n",
       "Levonorgestrel                                  1.0   5.0   9.0  10.0  10.0  \n",
       "Etonogestrel                                    1.0   3.0   6.0   9.0  10.0  \n",
       "Ethinyl estradiol / norethindrone               1.0   2.0   6.0   9.0  10.0  \n",
       "Nexplanon                                       1.0   2.0   6.0   9.0  10.0  \n",
       "Ethinyl estradiol / norgestimate                1.0   2.0   6.0   9.0  10.0  \n",
       "Ethinyl estradiol / levonorgestrel              1.0   3.0   6.0   9.0  10.0  \n",
       "Phentermine                                     1.0   8.0  10.0  10.0  10.0  \n",
       "Sertraline                                      1.0   6.0   9.0  10.0  10.0  \n",
       "Escitalopram                                    1.0   7.0   9.0  10.0  10.0  \n",
       "Mirena                                          1.0   3.0   8.0  10.0  10.0  \n",
       "Implanon                                        1.0   3.0   7.0   9.0  10.0  \n",
       "Gabapentin                                      1.0   6.0   9.0  10.0  10.0  \n",
       "Bupropion                                       1.0   6.0   9.0  10.0  10.0  \n",
       "Miconazole                                      1.0   1.0   1.0   5.0  10.0  \n",
       "Venlafaxine                                     1.0   4.0   8.0  10.0  10.0  \n",
       "Medroxyprogesterone                             1.0   1.0   4.0   9.0  10.0  \n",
       "Citalopram                                      1.0   7.0   9.0  10.0  10.0  \n",
       "Duloxetine                                      1.0   3.0   8.0   9.0  10.0  \n",
       "Lexapro                                         1.0   7.0   9.0  10.0  10.0  \n",
       "Bupropion / naltrexone                          1.0   4.0   8.0  10.0  10.0  \n",
       "Contrave                                        1.0   4.0   8.0  10.0  10.0  \n",
       "Metronidazole                                   1.0   5.0   8.0   9.0  10.0  \n",
       "Drospirenone / ethinyl estradiol                1.0   3.0   7.0   9.0  10.0  \n",
       "Depo-Provera                                    1.0   1.0   4.0   8.0  10.0  \n",
       "Clonazepam                                      1.0   8.0  10.0  10.0  10.0  \n",
       "Cymbalta                                        1.0   4.0   8.0   9.0  10.0  \n",
       "Tramadol                                        1.0   5.0   8.0  10.0  10.0  \n",
       "Varenicline                                     1.0   9.0  10.0  10.0  10.0  \n",
       "Zoloft                                          1.0   7.0   9.0  10.0  10.0  \n",
       "Quetiapine                                      1.0   6.0   8.0  10.0  10.0  \n",
       "...                                             ...   ...   ...   ...   ...  \n",
       "Amikin                                          1.0   1.0   1.0   1.0   1.0  \n",
       "BroveX PEB DM                                   2.0   2.0   2.0   2.0   2.0  \n",
       "Cortenema                                       4.0   4.0   4.0   4.0   4.0  \n",
       "Chlophedianol / guaifenesin / pseudoephedrine   9.0   9.0   9.0   9.0   9.0  \n",
       "Duoplant                                        9.0   9.0   9.0   9.0   9.0  \n",
       "Dulcolax Stool Softener                         5.0   5.0   5.0   5.0   5.0  \n",
       "Savaysa                                         1.0   1.0   1.0   1.0   1.0  \n",
       "Humatin                                         2.0   2.0   2.0   2.0   2.0  \n",
       "Vasodilan                                       9.0   9.0   9.0   9.0   9.0  \n",
       "Flanax Pain Reliever                           10.0  10.0  10.0  10.0  10.0  \n",
       "Polocaine                                       8.0   8.0   8.0   8.0   8.0  \n",
       "Pomalyst                                       10.0  10.0  10.0  10.0  10.0  \n",
       "Solarcaine First Aid Medicated Spray           10.0  10.0  10.0  10.0  10.0  \n",
       "Rifadin                                        10.0  10.0  10.0  10.0  10.0  \n",
       "Wera                                            7.0   7.0   7.0   7.0   7.0  \n",
       "Pro-Den Rx                                      1.0   1.0   1.0   1.0   1.0  \n",
       "Chlorothiazide                                 10.0  10.0  10.0  10.0  10.0  \n",
       "M-Zole 3                                        1.0   1.0   1.0   1.0   1.0  \n",
       "Monopril                                        9.0   9.0   9.0   9.0   9.0  \n",
       "Tussigon                                       10.0  10.0  10.0  10.0  10.0  \n",
       "Maxichlor PSE DM                               10.0  10.0  10.0  10.0  10.0  \n",
       "Timoptic                                        4.0   4.0   4.0   4.0   4.0  \n",
       "Aspirin / diphenhydramine                       9.0   9.0   9.0   9.0   9.0  \n",
       "Taztia XT                                       9.0   9.0   9.0   9.0   9.0  \n",
       "MVI Adult                                       1.0   1.0   1.0   1.0   1.0  \n",
       "Aloe vera                                      10.0  10.0  10.0  10.0  10.0  \n",
       "Norvir                                          1.0   1.0   1.0   1.0   1.0  \n",
       "Clindagel                                      10.0  10.0  10.0  10.0  10.0  \n",
       "Pancreatin                                      9.0   9.0   9.0   9.0   9.0  \n",
       "Grifulvin V                                     8.0   8.0   8.0   8.0   8.0  \n",
       "\n",
       "[3671 rows x 8 columns]"
      ]
     },
     "execution_count": 70,
     "metadata": {},
     "output_type": "execute_result"
    }
   ],
   "source": [
    "grouped = df2.groupby('drugName' , sort = False)['rating'].describe()\n",
    "grouped.sort_values('count', ascending=False)"
   ]
  },
  {
   "cell_type": "code",
   "execution_count": 71,
   "metadata": {},
   "outputs": [
    {
     "data": {
      "text/html": [
       "<div>\n",
       "<style scoped>\n",
       "    .dataframe tbody tr th:only-of-type {\n",
       "        vertical-align: middle;\n",
       "    }\n",
       "\n",
       "    .dataframe tbody tr th {\n",
       "        vertical-align: top;\n",
       "    }\n",
       "\n",
       "    .dataframe thead th {\n",
       "        text-align: right;\n",
       "    }\n",
       "</style>\n",
       "<table border=\"1\" class=\"dataframe\">\n",
       "  <thead>\n",
       "    <tr style=\"text-align: right;\">\n",
       "      <th></th>\n",
       "      <th>count</th>\n",
       "      <th>mean</th>\n",
       "      <th>std</th>\n",
       "      <th>min</th>\n",
       "      <th>25%</th>\n",
       "      <th>50%</th>\n",
       "      <th>75%</th>\n",
       "      <th>max</th>\n",
       "    </tr>\n",
       "    <tr>\n",
       "      <th>drugName</th>\n",
       "      <th></th>\n",
       "      <th></th>\n",
       "      <th></th>\n",
       "      <th></th>\n",
       "      <th></th>\n",
       "      <th></th>\n",
       "      <th></th>\n",
       "      <th></th>\n",
       "    </tr>\n",
       "  </thead>\n",
       "  <tbody>\n",
       "    <tr>\n",
       "      <th>Levonorgestrel</th>\n",
       "      <td>4930.0</td>\n",
       "      <td>7.384584</td>\n",
       "      <td>3.130904</td>\n",
       "      <td>1.0</td>\n",
       "      <td>5.0</td>\n",
       "      <td>9.0</td>\n",
       "      <td>10.0</td>\n",
       "      <td>10.0</td>\n",
       "    </tr>\n",
       "    <tr>\n",
       "      <th>Etonogestrel</th>\n",
       "      <td>4421.0</td>\n",
       "      <td>5.824022</td>\n",
       "      <td>3.321706</td>\n",
       "      <td>1.0</td>\n",
       "      <td>3.0</td>\n",
       "      <td>6.0</td>\n",
       "      <td>9.0</td>\n",
       "      <td>10.0</td>\n",
       "    </tr>\n",
       "    <tr>\n",
       "      <th>Ethinyl estradiol / norethindrone</th>\n",
       "      <td>3753.0</td>\n",
       "      <td>5.589129</td>\n",
       "      <td>3.397699</td>\n",
       "      <td>1.0</td>\n",
       "      <td>2.0</td>\n",
       "      <td>6.0</td>\n",
       "      <td>9.0</td>\n",
       "      <td>10.0</td>\n",
       "    </tr>\n",
       "    <tr>\n",
       "      <th>Nexplanon</th>\n",
       "      <td>2892.0</td>\n",
       "      <td>5.643154</td>\n",
       "      <td>3.325100</td>\n",
       "      <td>1.0</td>\n",
       "      <td>2.0</td>\n",
       "      <td>6.0</td>\n",
       "      <td>9.0</td>\n",
       "      <td>10.0</td>\n",
       "    </tr>\n",
       "    <tr>\n",
       "      <th>Ethinyl estradiol / norgestimate</th>\n",
       "      <td>2790.0</td>\n",
       "      <td>5.802151</td>\n",
       "      <td>3.292635</td>\n",
       "      <td>1.0</td>\n",
       "      <td>2.0</td>\n",
       "      <td>6.0</td>\n",
       "      <td>9.0</td>\n",
       "      <td>10.0</td>\n",
       "    </tr>\n",
       "    <tr>\n",
       "      <th>Ethinyl estradiol / levonorgestrel</th>\n",
       "      <td>2503.0</td>\n",
       "      <td>5.763084</td>\n",
       "      <td>3.293315</td>\n",
       "      <td>1.0</td>\n",
       "      <td>3.0</td>\n",
       "      <td>6.0</td>\n",
       "      <td>9.0</td>\n",
       "      <td>10.0</td>\n",
       "    </tr>\n",
       "    <tr>\n",
       "      <th>Phentermine</th>\n",
       "      <td>2085.0</td>\n",
       "      <td>8.776978</td>\n",
       "      <td>1.971157</td>\n",
       "      <td>1.0</td>\n",
       "      <td>8.0</td>\n",
       "      <td>10.0</td>\n",
       "      <td>10.0</td>\n",
       "      <td>10.0</td>\n",
       "    </tr>\n",
       "    <tr>\n",
       "      <th>Sertraline</th>\n",
       "      <td>1868.0</td>\n",
       "      <td>7.452891</td>\n",
       "      <td>2.909163</td>\n",
       "      <td>1.0</td>\n",
       "      <td>6.0</td>\n",
       "      <td>9.0</td>\n",
       "      <td>10.0</td>\n",
       "      <td>10.0</td>\n",
       "    </tr>\n",
       "    <tr>\n",
       "      <th>Escitalopram</th>\n",
       "      <td>1747.0</td>\n",
       "      <td>7.829422</td>\n",
       "      <td>2.691164</td>\n",
       "      <td>1.0</td>\n",
       "      <td>7.0</td>\n",
       "      <td>9.0</td>\n",
       "      <td>10.0</td>\n",
       "      <td>10.0</td>\n",
       "    </tr>\n",
       "    <tr>\n",
       "      <th>Mirena</th>\n",
       "      <td>1673.0</td>\n",
       "      <td>6.617454</td>\n",
       "      <td>3.316370</td>\n",
       "      <td>1.0</td>\n",
       "      <td>3.0</td>\n",
       "      <td>8.0</td>\n",
       "      <td>10.0</td>\n",
       "      <td>10.0</td>\n",
       "    </tr>\n",
       "  </tbody>\n",
       "</table>\n",
       "</div>"
      ],
      "text/plain": [
       "                                     count      mean       std  min  25%  \\\n",
       "drugName                                                                   \n",
       "Levonorgestrel                      4930.0  7.384584  3.130904  1.0  5.0   \n",
       "Etonogestrel                        4421.0  5.824022  3.321706  1.0  3.0   \n",
       "Ethinyl estradiol / norethindrone   3753.0  5.589129  3.397699  1.0  2.0   \n",
       "Nexplanon                           2892.0  5.643154  3.325100  1.0  2.0   \n",
       "Ethinyl estradiol / norgestimate    2790.0  5.802151  3.292635  1.0  2.0   \n",
       "Ethinyl estradiol / levonorgestrel  2503.0  5.763084  3.293315  1.0  3.0   \n",
       "Phentermine                         2085.0  8.776978  1.971157  1.0  8.0   \n",
       "Sertraline                          1868.0  7.452891  2.909163  1.0  6.0   \n",
       "Escitalopram                        1747.0  7.829422  2.691164  1.0  7.0   \n",
       "Mirena                              1673.0  6.617454  3.316370  1.0  3.0   \n",
       "\n",
       "                                     50%   75%   max  \n",
       "drugName                                              \n",
       "Levonorgestrel                       9.0  10.0  10.0  \n",
       "Etonogestrel                         6.0   9.0  10.0  \n",
       "Ethinyl estradiol / norethindrone    6.0   9.0  10.0  \n",
       "Nexplanon                            6.0   9.0  10.0  \n",
       "Ethinyl estradiol / norgestimate     6.0   9.0  10.0  \n",
       "Ethinyl estradiol / levonorgestrel   6.0   9.0  10.0  \n",
       "Phentermine                         10.0  10.0  10.0  \n",
       "Sertraline                           9.0  10.0  10.0  \n",
       "Escitalopram                         9.0  10.0  10.0  \n",
       "Mirena                               8.0  10.0  10.0  "
      ]
     },
     "execution_count": 71,
     "metadata": {},
     "output_type": "execute_result"
    }
   ],
   "source": [
    "grouped.sort_values('count', ascending=False)[:10]"
   ]
  },
  {
   "cell_type": "code",
   "execution_count": 72,
   "metadata": {},
   "outputs": [
    {
     "name": "stdout",
     "output_type": "stream",
     "text": [
      "                                     count      mean       std  min  25%  \\\n",
      "drugName                                                                   \n",
      "Levonorgestrel                      4930.0  7.384584  3.130904  1.0  5.0   \n",
      "Etonogestrel                        4421.0  5.824022  3.321706  1.0  3.0   \n",
      "Ethinyl estradiol / norethindrone   3753.0  5.589129  3.397699  1.0  2.0   \n",
      "Nexplanon                           2892.0  5.643154  3.325100  1.0  2.0   \n",
      "Ethinyl estradiol / norgestimate    2790.0  5.802151  3.292635  1.0  2.0   \n",
      "Ethinyl estradiol / levonorgestrel  2503.0  5.763084  3.293315  1.0  3.0   \n",
      "Phentermine                         2085.0  8.776978  1.971157  1.0  8.0   \n",
      "Sertraline                          1868.0  7.452891  2.909163  1.0  6.0   \n",
      "Escitalopram                        1747.0  7.829422  2.691164  1.0  7.0   \n",
      "Mirena                              1673.0  6.617454  3.316370  1.0  3.0   \n",
      "\n",
      "                                     50%   75%   max  \n",
      "drugName                                              \n",
      "Levonorgestrel                       9.0  10.0  10.0  \n",
      "Etonogestrel                         6.0   9.0  10.0  \n",
      "Ethinyl estradiol / norethindrone    6.0   9.0  10.0  \n",
      "Nexplanon                            6.0   9.0  10.0  \n",
      "Ethinyl estradiol / norgestimate     6.0   9.0  10.0  \n",
      "Ethinyl estradiol / levonorgestrel   6.0   9.0  10.0  \n",
      "Phentermine                         10.0  10.0  10.0  \n",
      "Sertraline                           9.0  10.0  10.0  \n",
      "Escitalopram                         9.0  10.0  10.0  \n",
      "Mirena                               8.0  10.0  10.0  \n",
      "<class 'pandas.core.frame.DataFrame'>\n",
      "Index(['Levonorgestrel', 'Etonogestrel', 'Ethinyl estradiol / norethindrone',\n",
      "       'Nexplanon', 'Ethinyl estradiol / norgestimate',\n",
      "       'Ethinyl estradiol / levonorgestrel', 'Phentermine', 'Sertraline',\n",
      "       'Escitalopram', 'Mirena'],\n",
      "      dtype='object', name='drugName')\n"
     ]
    }
   ],
   "source": [
    "top_drugcount = grouped.sort_values('count', ascending=False)[:10]\n",
    "print(top_drugcount)\n",
    "print(type(top_drugcount))\n",
    "print(top_drugcount.index)"
   ]
  },
  {
   "cell_type": "code",
   "execution_count": 73,
   "metadata": {},
   "outputs": [
    {
     "name": "stdout",
     "output_type": "stream",
     "text": [
      "Index(['count', 'mean', 'std', 'min', '25%', '50%', '75%', 'max'], dtype='object')\n"
     ]
    }
   ],
   "source": [
    "print(top_drugcount.columns)"
   ]
  },
  {
   "cell_type": "markdown",
   "metadata": {},
   "source": [
    "#### The followings are the box plots of rating of different Birth Contol drugs grouped by drug name.¶\n"
   ]
  },
  {
   "cell_type": "code",
   "execution_count": 74,
   "metadata": {},
   "outputs": [
    {
     "data": {
      "text/plain": [
       "<matplotlib.axes._subplots.AxesSubplot at 0x7fd118305160>"
      ]
     },
     "execution_count": 74,
     "metadata": {},
     "output_type": "execute_result"
    },
    {
     "data": {
      "image/png": "[encoded data removed]",
      "text/plain": [
       "<Figure size 432x288 with 1 Axes>"
      ]
     },
     "metadata": {
      "needs_background": "light"
     },
     "output_type": "display_data"
    }
   ],
   "source": [
    "df2[df2['condition']=='Birth Control'][:30].boxplot(column='rating', by='drugName' , rot = 0, vert=0)"
   ]
  },
  {
   "cell_type": "code",
   "execution_count": 75,
   "metadata": {},
   "outputs": [
    {
     "data": {
      "text/plain": [
       "<matplotlib.axes._subplots.AxesSubplot at 0x7fd0f996e940>"
      ]
     },
     "execution_count": 75,
     "metadata": {},
     "output_type": "execute_result"
    },
    {
     "data": {
      "image/png": "[encoded data removed]",
      "text/plain": [
       "<Figure size 432x288 with 1 Axes>"
      ]
     },
     "metadata": {
      "needs_background": "light"
     },
     "output_type": "display_data"
    }
   ],
   "source": [
    "cond_bc[:30].boxplot(column='rating', by='drugName' , rot = 0, vert=0)"
   ]
  },
  {
   "cell_type": "markdown",
   "metadata": {},
   "source": [
    "#### This is the table of different conditions listed for the statistic, i.e. the mean and standard deviation, etc., of their ratings listed by the highest to lowest count in the data set.¶\n"
   ]
  },
  {
   "cell_type": "code",
   "execution_count": 76,
   "metadata": {},
   "outputs": [
    {
     "data": {
      "text/html": [
       "<div>\n",
       "<style scoped>\n",
       "    .dataframe tbody tr th:only-of-type {\n",
       "        vertical-align: middle;\n",
       "    }\n",
       "\n",
       "    .dataframe tbody tr th {\n",
       "        vertical-align: top;\n",
       "    }\n",
       "\n",
       "    .dataframe thead th {\n",
       "        text-align: right;\n",
       "    }\n",
       "</style>\n",
       "<table border=\"1\" class=\"dataframe\">\n",
       "  <thead>\n",
       "    <tr style=\"text-align: right;\">\n",
       "      <th></th>\n",
       "      <th>count</th>\n",
       "      <th>mean</th>\n",
       "      <th>std</th>\n",
       "      <th>min</th>\n",
       "      <th>25%</th>\n",
       "      <th>50%</th>\n",
       "      <th>75%</th>\n",
       "      <th>max</th>\n",
       "    </tr>\n",
       "    <tr>\n",
       "      <th>condition</th>\n",
       "      <th></th>\n",
       "      <th></th>\n",
       "      <th></th>\n",
       "      <th></th>\n",
       "      <th></th>\n",
       "      <th></th>\n",
       "      <th></th>\n",
       "      <th></th>\n",
       "    </tr>\n",
       "  </thead>\n",
       "  <tbody>\n",
       "    <tr>\n",
       "      <th>Birth Control</th>\n",
       "      <td>38436.0</td>\n",
       "      <td>6.077974</td>\n",
       "      <td>3.309582</td>\n",
       "      <td>1.0</td>\n",
       "      <td>3.0</td>\n",
       "      <td>7.0</td>\n",
       "      <td>9.0</td>\n",
       "      <td>10.0</td>\n",
       "    </tr>\n",
       "    <tr>\n",
       "      <th>Depression</th>\n",
       "      <td>12164.0</td>\n",
       "      <td>7.100625</td>\n",
       "      <td>3.104405</td>\n",
       "      <td>1.0</td>\n",
       "      <td>5.0</td>\n",
       "      <td>8.0</td>\n",
       "      <td>10.0</td>\n",
       "      <td>10.0</td>\n",
       "    </tr>\n",
       "    <tr>\n",
       "      <th>Pain</th>\n",
       "      <td>8245.0</td>\n",
       "      <td>7.619648</td>\n",
       "      <td>2.940193</td>\n",
       "      <td>1.0</td>\n",
       "      <td>7.0</td>\n",
       "      <td>9.0</td>\n",
       "      <td>10.0</td>\n",
       "      <td>10.0</td>\n",
       "    </tr>\n",
       "    <tr>\n",
       "      <th>Anxiety</th>\n",
       "      <td>7812.0</td>\n",
       "      <td>7.688556</td>\n",
       "      <td>2.979795</td>\n",
       "      <td>1.0</td>\n",
       "      <td>7.0</td>\n",
       "      <td>9.0</td>\n",
       "      <td>10.0</td>\n",
       "      <td>10.0</td>\n",
       "    </tr>\n",
       "    <tr>\n",
       "      <th>Acne</th>\n",
       "      <td>7435.0</td>\n",
       "      <td>7.372831</td>\n",
       "      <td>3.043283</td>\n",
       "      <td>1.0</td>\n",
       "      <td>6.0</td>\n",
       "      <td>9.0</td>\n",
       "      <td>10.0</td>\n",
       "      <td>10.0</td>\n",
       "    </tr>\n",
       "    <tr>\n",
       "      <th>Bipolar Disorde</th>\n",
       "      <td>5604.0</td>\n",
       "      <td>7.120271</td>\n",
       "      <td>3.155072</td>\n",
       "      <td>1.0</td>\n",
       "      <td>5.0</td>\n",
       "      <td>8.0</td>\n",
       "      <td>10.0</td>\n",
       "      <td>10.0</td>\n",
       "    </tr>\n",
       "    <tr>\n",
       "      <th>Insomnia</th>\n",
       "      <td>4904.0</td>\n",
       "      <td>6.692496</td>\n",
       "      <td>3.448768</td>\n",
       "      <td>1.0</td>\n",
       "      <td>3.0</td>\n",
       "      <td>8.0</td>\n",
       "      <td>10.0</td>\n",
       "      <td>10.0</td>\n",
       "    </tr>\n",
       "    <tr>\n",
       "      <th>Weight Loss</th>\n",
       "      <td>4857.0</td>\n",
       "      <td>8.031295</td>\n",
       "      <td>2.790061</td>\n",
       "      <td>1.0</td>\n",
       "      <td>7.0</td>\n",
       "      <td>9.0</td>\n",
       "      <td>10.0</td>\n",
       "      <td>10.0</td>\n",
       "    </tr>\n",
       "    <tr>\n",
       "      <th>Obesity</th>\n",
       "      <td>4757.0</td>\n",
       "      <td>7.730923</td>\n",
       "      <td>2.907083</td>\n",
       "      <td>1.0</td>\n",
       "      <td>7.0</td>\n",
       "      <td>9.0</td>\n",
       "      <td>10.0</td>\n",
       "      <td>10.0</td>\n",
       "    </tr>\n",
       "    <tr>\n",
       "      <th>ADHD</th>\n",
       "      <td>4509.0</td>\n",
       "      <td>7.317365</td>\n",
       "      <td>2.944128</td>\n",
       "      <td>1.0</td>\n",
       "      <td>6.0</td>\n",
       "      <td>8.0</td>\n",
       "      <td>10.0</td>\n",
       "      <td>10.0</td>\n",
       "    </tr>\n",
       "    <tr>\n",
       "      <th>Diabetes, Type 2</th>\n",
       "      <td>3362.0</td>\n",
       "      <td>6.701666</td>\n",
       "      <td>3.334999</td>\n",
       "      <td>1.0</td>\n",
       "      <td>4.0</td>\n",
       "      <td>8.0</td>\n",
       "      <td>10.0</td>\n",
       "      <td>10.0</td>\n",
       "    </tr>\n",
       "    <tr>\n",
       "      <th>Emergency Contraception</th>\n",
       "      <td>3290.0</td>\n",
       "      <td>8.452584</td>\n",
       "      <td>2.803871</td>\n",
       "      <td>1.0</td>\n",
       "      <td>8.0</td>\n",
       "      <td>10.0</td>\n",
       "      <td>10.0</td>\n",
       "      <td>10.0</td>\n",
       "    </tr>\n",
       "    <tr>\n",
       "      <th>High Blood Pressure</th>\n",
       "      <td>3104.0</td>\n",
       "      <td>6.195232</td>\n",
       "      <td>3.327814</td>\n",
       "      <td>1.0</td>\n",
       "      <td>3.0</td>\n",
       "      <td>7.0</td>\n",
       "      <td>9.0</td>\n",
       "      <td>10.0</td>\n",
       "    </tr>\n",
       "    <tr>\n",
       "      <th>Vaginal Yeast Infection</th>\n",
       "      <td>3085.0</td>\n",
       "      <td>4.076499</td>\n",
       "      <td>3.525245</td>\n",
       "      <td>1.0</td>\n",
       "      <td>1.0</td>\n",
       "      <td>2.0</td>\n",
       "      <td>8.0</td>\n",
       "      <td>10.0</td>\n",
       "    </tr>\n",
       "    <tr>\n",
       "      <th>Abnormal Uterine Bleeding</th>\n",
       "      <td>2744.0</td>\n",
       "      <td>4.375364</td>\n",
       "      <td>3.409545</td>\n",
       "      <td>1.0</td>\n",
       "      <td>1.0</td>\n",
       "      <td>3.0</td>\n",
       "      <td>8.0</td>\n",
       "      <td>10.0</td>\n",
       "    </tr>\n",
       "  </tbody>\n",
       "</table>\n",
       "</div>"
      ],
      "text/plain": [
       "                             count      mean       std  min  25%   50%   75%  \\\n",
       "condition                                                                      \n",
       "Birth Control              38436.0  6.077974  3.309582  1.0  3.0   7.0   9.0   \n",
       "Depression                 12164.0  7.100625  3.104405  1.0  5.0   8.0  10.0   \n",
       "Pain                        8245.0  7.619648  2.940193  1.0  7.0   9.0  10.0   \n",
       "Anxiety                     7812.0  7.688556  2.979795  1.0  7.0   9.0  10.0   \n",
       "Acne                        7435.0  7.372831  3.043283  1.0  6.0   9.0  10.0   \n",
       "Bipolar Disorde             5604.0  7.120271  3.155072  1.0  5.0   8.0  10.0   \n",
       "Insomnia                    4904.0  6.692496  3.448768  1.0  3.0   8.0  10.0   \n",
       "Weight Loss                 4857.0  8.031295  2.790061  1.0  7.0   9.0  10.0   \n",
       "Obesity                     4757.0  7.730923  2.907083  1.0  7.0   9.0  10.0   \n",
       "ADHD                        4509.0  7.317365  2.944128  1.0  6.0   8.0  10.0   \n",
       "Diabetes, Type 2            3362.0  6.701666  3.334999  1.0  4.0   8.0  10.0   \n",
       "Emergency Contraception     3290.0  8.452584  2.803871  1.0  8.0  10.0  10.0   \n",
       "High Blood Pressure         3104.0  6.195232  3.327814  1.0  3.0   7.0   9.0   \n",
       "Vaginal Yeast Infection     3085.0  4.076499  3.525245  1.0  1.0   2.0   8.0   \n",
       "Abnormal Uterine Bleeding   2744.0  4.375364  3.409545  1.0  1.0   3.0   8.0   \n",
       "\n",
       "                            max  \n",
       "condition                        \n",
       "Birth Control              10.0  \n",
       "Depression                 10.0  \n",
       "Pain                       10.0  \n",
       "Anxiety                    10.0  \n",
       "Acne                       10.0  \n",
       "Bipolar Disorde            10.0  \n",
       "Insomnia                   10.0  \n",
       "Weight Loss                10.0  \n",
       "Obesity                    10.0  \n",
       "ADHD                       10.0  \n",
       "Diabetes, Type 2           10.0  \n",
       "Emergency Contraception    10.0  \n",
       "High Blood Pressure        10.0  \n",
       "Vaginal Yeast Infection    10.0  \n",
       "Abnormal Uterine Bleeding  10.0  "
      ]
     },
     "execution_count": 76,
     "metadata": {},
     "output_type": "execute_result"
    }
   ],
   "source": [
    "grouped_cond = df2.groupby('condition' , sort = False)['rating'].describe()\n",
    "grouped_cond.sort_values('count', ascending=False).head(15)"
   ]
  },
  {
   "cell_type": "markdown",
   "metadata": {},
   "source": [
    "\n",
    "Now that we have a good understanding of the data set, we can move on to statistical inference as well as machine learning techniques on the review of the drugs for various conditions."
   ]
  },
  {
   "cell_type": "markdown",
   "metadata": {},
   "source": [
    "## Statistical Inference\n",
    "After the data visualization phase of the project, due to the fact that the data given by the data source was split into test and train by default, we perform statistical inferences to see how the mean and standard deviation of the ratios of the top 4 conditions (Birth Control, Depression, Pain and Anxiety) in the test and train sets differ and whether the test and train sets are stratified in any of the mentioned conditions. We achieve this by using Null vs Alternative hypothesis, meaning that we perform the hypothesis testing on proportion of Birth Control, Depression, Pain and Anxiety in the test and train sets as well as the entire merged data set. For hypothesis testing, we also do a comparison of the mean drug rating between the test and train sets (df1 and df). This item is particularly important because if the conditions are exactly balanced, the people that made the datasets might have stratified over condition. Stratifying guarantees that those classes will be balanced, but makes it more likely that other variables (e.g. review score) not used for stratification will be imbalanced."
   ]
  },
  {
   "cell_type": "markdown",
   "metadata": {},
   "source": [
    "+ For hypothesis testing:\n",
    "\n",
    "Now, we are doing hypothesis tests on proportion of birth control, depression, pain and anxiety.\n",
    "We do a comparison (and test) of the mean drug rating between the test and train sets (df1 and df). This item is particularly important because if the conditions are exactly balanced, the people that made the datasets might have stratified over condition. Stratifying guarantees that those classes will be balanced, but makes it more likely that other variables (e.g. review score) not used for stratification will be imbalanced"
   ]
  },
  {
   "cell_type": "code",
   "execution_count": 77,
   "metadata": {},
   "outputs": [
    {
     "data": {
      "text/plain": [
       "215063"
      ]
     },
     "execution_count": 77,
     "metadata": {},
     "output_type": "execute_result"
    }
   ],
   "source": [
    "df2t = len(df2.condition)\n",
    "df2t"
   ]
  },
  {
   "cell_type": "code",
   "execution_count": 79,
   "metadata": {},
   "outputs": [
    {
     "data": {
      "text/plain": [
       "0    10.0\n",
       "1     8.0\n",
       "2     9.0\n",
       "3     9.0\n",
       "4     9.0\n",
       "5     4.0\n",
       "6     6.0\n",
       "7     9.0\n",
       "8     7.0\n",
       "9     2.0\n",
       "Name: rating, dtype: float64"
      ]
     },
     "execution_count": 79,
     "metadata": {},
     "output_type": "execute_result"
    }
   ],
   "source": [
    "df2.rating[:10]"
   ]
  },
  {
   "cell_type": "code",
   "execution_count": 80,
   "metadata": {},
   "outputs": [],
   "source": [
    "cbc = len(df2[df2['condition'] == 'Birth Control'] )\n",
    "#df2[df2['condition']=='Birth Control']"
   ]
  },
  {
   "cell_type": "code",
   "execution_count": 81,
   "metadata": {},
   "outputs": [],
   "source": [
    "cd = len(df2[df2['condition'] == 'Depression'] )"
   ]
  },
  {
   "cell_type": "code",
   "execution_count": 82,
   "metadata": {},
   "outputs": [],
   "source": [
    "cp = len(df2[df2['condition'] == 'Pain'] )"
   ]
  },
  {
   "cell_type": "code",
   "execution_count": 83,
   "metadata": {},
   "outputs": [],
   "source": [
    "ca = len(df2[df2['condition'] == 'Anxiety'] )"
   ]
  },
  {
   "cell_type": "code",
   "execution_count": 84,
   "metadata": {},
   "outputs": [
    {
     "name": "stdout",
     "output_type": "stream",
     "text": [
      "ratio of Birth Control in the entire data set is: 0.1787197239878547\n",
      "ratio of Depression in the entire data set is: 0.05656017074066669\n",
      "ratio of Pain in the entire data set is: 0.03833760339993397\n",
      "ratio of Anxiety in the entire data set is: 0.036324239873897414\n"
     ]
    }
   ],
   "source": [
    "print('ratio of Birth Control in the entire data set is: ' + str(cbc/df2t))\n",
    "print('ratio of Depression in the entire data set is: ' + str(cd/df2t))\n",
    "print('ratio of Pain in the entire data set is: ' + str(cp/df2t))\n",
    "print('ratio of Anxiety in the entire data set is: ' + str(ca/df2t))"
   ]
  },
  {
   "cell_type": "code",
   "execution_count": 85,
   "metadata": {},
   "outputs": [
    {
     "name": "stdout",
     "output_type": "stream",
     "text": [
      "ratio of Birth Control in the train data set is: 0.1784782110020645\n",
      "ratio of Depression in the train data set is: 0.05622547226544821\n",
      "ratio of Pain in the train data set is: 0.03809742276669746\n",
      "ratio of Anxiety in the train data set is: 0.03660328462401657\n"
     ]
    }
   ],
   "source": [
    "df1t = len(df1.condition)   #df1 is the train\n",
    "cbc1 = len(df1[df1['condition'] == 'Birth Control'] )\n",
    "cd1 = len(df1[df1['condition'] == 'Depression'] )\n",
    "cp1 = len(df1[df1['condition'] == 'Pain'] )\n",
    "ca1 = len(df1[df1['condition'] == 'Anxiety'] )\n",
    "\n",
    "print('ratio of Birth Control in the train data set is: ' + str(cbc1/df1t))\n",
    "print('ratio of Depression in the train data set is: ' + str(cd1/df1t))\n",
    "print('ratio of Pain in the train data set is: ' + str(cp1/df1t))\n",
    "print('ratio of Anxiety in the train data set is: ' + str(ca1/df1t))"
   ]
  },
  {
   "cell_type": "code",
   "execution_count": 86,
   "metadata": {},
   "outputs": [
    {
     "name": "stdout",
     "output_type": "stream",
     "text": [
      "ratio of Birth Control in the test data set is: 0.17944425845329762\n",
      "ratio of Depression in the test data set is: 0.0575642599412268\n",
      "ratio of Pain in the test data set is: 0.039058140832496376\n",
      "ratio of Anxiety in the test data set is: 0.03548711081352528\n"
     ]
    }
   ],
   "source": [
    "dft = len(df.condition)   #df is the test \n",
    "cbc0 = len(df[df['condition'] == 'Birth Control'] )\n",
    "cd0 = len(df[df['condition'] == 'Depression'] )\n",
    "cp0 = len(df[df['condition'] == 'Pain'])\n",
    "ca0 = len(df[df['condition'] == 'Anxiety'])\n",
    "\n",
    "print('ratio of Birth Control in the test data set is: ' + str(cbc0/dft))\n",
    "print('ratio of Depression in the test data set is: ' + str(cd0/dft))\n",
    "print('ratio of Pain in the test data set is: ' + str(cp0/dft))\n",
    "print('ratio of Anxiety in the test data set is: ' + str(ca0/dft))"
   ]
  },
  {
   "cell_type": "code",
   "execution_count": 87,
   "metadata": {},
   "outputs": [
    {
     "name": "stdout",
     "output_type": "stream",
     "text": [
      "difference of the rations between Birth Control on the test and train data set  is: 0.0009660474512331041\n",
      "difference of the rations between Depression on the test and train data set  is: 0.0013387876757785869\n",
      "difference of the rations between Pain on the test and train data set  is: 0.0009607180657989142\n",
      "difference of the rations between Anxiety on the test and train data set  is: -0.0011161738104912902\n"
     ]
    }
   ],
   "source": [
    "delta_bc =  cbc0/dft - cbc1/df1t\n",
    "print('difference of the rations between Birth Control on the test and train data set  is: ' + str(delta_bc))\n",
    "delta_d =  cd0/dft - cd1/df1t\n",
    "print('difference of the rations between Depression on the test and train data set  is: ' + str(delta_d))\n",
    "delta_p =  cp0/dft - cp1/df1t\n",
    "print('difference of the rations between Pain on the test and train data set  is: ' + str(delta_p))\n",
    "delta_a =  ca0/dft - ca1/df1t\n",
    "print('difference of the rations between Anxiety on the test and train data set  is: ' + str(delta_a))"
   ]
  },
  {
   "cell_type": "markdown",
   "metadata": {},
   "source": [
    "#### Hypothesis test: #df1 is the train set and df is the test set\n",
    "+ H_0 : mean drug rating for the total and the test data set is the same\n",
    "+ H_a : mean drug rating for the total and the test data set is not the same"
   ]
  },
  {
   "cell_type": "code",
   "execution_count": 88,
   "metadata": {},
   "outputs": [
    {
     "name": "stdout",
     "output_type": "stream",
     "text": [
      "Mean of drug rating on the entire data set is: 6.990007579174474\n",
      "Mean of drug rating on the train data set is: 6.994376832799122\n",
      "Mean of drug rating on the test data set is: 6.97689989956478\n"
     ]
    }
   ],
   "source": [
    "np.mean(df2.rating)\n",
    "print('Mean of drug rating on the entire data set is: ' + str(np.mean(df2.rating)))\n",
    "\n",
    "np.mean(df1.rating)\n",
    "print('Mean of drug rating on the train data set is: ' + str(np.mean(df1.rating)))\n",
    "\n",
    "np.mean(df.rating)\n",
    "print('Mean of drug rating on the test data set is: ' + str(np.mean(df.rating)))"
   ]
  },
  {
   "cell_type": "code",
   "execution_count": 89,
   "metadata": {},
   "outputs": [
    {
     "name": "stdout",
     "output_type": "stream",
     "text": [
      "Standard deviation of drug rating on the entire data set is: 3.2755468822457248\n",
      "Standard deviation of drug rating on the train data set is: 3.2723190652035488\n",
      "Standard deviation of drug rating on the test data set is: 3.285176379204773\n"
     ]
    }
   ],
   "source": [
    "np.std(df2.rating)\n",
    "print('Standard deviation of drug rating on the entire data set is: ' + str(np.std(df2.rating)))\n",
    "\n",
    "np.std(df1.rating)\n",
    "print('Standard deviation of drug rating on the train data set is: ' + str(np.std(df1.rating)))\n",
    "\n",
    "np.std(df.rating)\n",
    "print('Standard deviation of drug rating on the test data set is: ' + str(np.std(df.rating)))"
   ]
  },
  {
   "cell_type": "code",
   "execution_count": 90,
   "metadata": {},
   "outputs": [],
   "source": [
    "def permutation_sample(d1, d2):  \n",
    "    d = np.concatenate((d1, d2))\n",
    "    perm_d = np.random.permutation(d)\n",
    "    return perm_d[:len(d1)], perm_d[len(d1):]"
   ]
  },
  {
   "cell_type": "code",
   "execution_count": 91,
   "metadata": {},
   "outputs": [],
   "source": [
    "def draw_perm_reps(data_1, data_2, func, size=1):\n",
    "    \"\"\"Generate multiple permutation replicates.\"\"\"\n",
    "\n",
    "    # Initialize array of replicates: perm_replicates\n",
    "    perm_replicates = np.empty(size)\n",
    "\n",
    "    for i in range(size):\n",
    "        # Generate permutation sample\n",
    "        perm_sample_1, perm_sample_2 = permutation_sample(data_1, data_2)\n",
    "\n",
    "        # Compute the test statistic\n",
    "        perm_replicates[i] = func(perm_sample_1, perm_sample_2)\n",
    "\n",
    "    return perm_replicates"
   ]
  },
  {
   "cell_type": "code",
   "execution_count": 92,
   "metadata": {},
   "outputs": [
    {
     "name": "stdout",
     "output_type": "stream",
     "text": [
      "p-value = 0.1416\n"
     ]
    }
   ],
   "source": [
    "def diff_of_means(data_1, data_2):\n",
    "    \"\"\"Difference in means of two arrays.\"\"\"\n",
    "\n",
    "    # The difference of means of data_1, data_2: diff\n",
    "    diff = np.mean(data_1) - np.mean(data_2)\n",
    "\n",
    "    return diff\n",
    "\n",
    "# Compute difference of mean impact force from experiment: empirical_diff_means\n",
    "empirical_diff_means = diff_of_means(df1.rating, df.rating)\n",
    "\n",
    "# Draw 10,000 permutation replicates: perm_replicates\n",
    "perm_replicates = draw_perm_reps(df1.rating, df.rating, diff_of_means, size=10000)\n",
    "\n",
    "# Compute p-value: p\n",
    "p = np.sum(perm_replicates >= empirical_diff_means) / len(perm_replicates)\n",
    "\n",
    "# Print the result\n",
    "print('p-value =', p)"
   ]
  },
  {
   "cell_type": "code",
   "execution_count": 93,
   "metadata": {},
   "outputs": [
    {
     "name": "stdout",
     "output_type": "stream",
     "text": [
      "[-0.04283439  0.04202793]\n"
     ]
    }
   ],
   "source": [
    "conf_int_bs_repl = np.percentile(perm_replicates, [0.5, 99.5]) \n",
    "print(conf_int_bs_repl)"
   ]
  },
  {
   "cell_type": "code",
   "execution_count": 94,
   "metadata": {},
   "outputs": [
    {
     "name": "stdout",
     "output_type": "stream",
     "text": [
      "Fail to reject H_0\n"
     ]
    }
   ],
   "source": [
    "if p < 0.01: \n",
    "    print('We reject H_0')\n",
    "else:\n",
    "        print('Fail to reject H_0')"
   ]
  },
  {
   "cell_type": "markdown",
   "metadata": {},
   "source": [
    "After implementing the statistical inference tests by utilizing Null and Alternative hypotheses, we come to the conclusion that we can’t reject the Null hypothesis, meaning that the ratios of the top 4 conditions in the train and test sets as well as in the entire set is the same. Moreover, the mean of the rating of the reviews in the 3 sets of test, train and the entire data set are the same.\n",
    "\n"
   ]
  },
  {
   "cell_type": "markdown",
   "metadata": {},
   "source": [
    "Now, we are going to perform Machine Learning on the prediction of rating for the reviews of different conditions. "
   ]
  },
  {
   "cell_type": "markdown",
   "metadata": {},
   "source": [
    "### Machine Learning -- NLP\n",
    "For the final phase of this project, NLP Machine Learning is performed. Due to the fact that the dataset provides patient reviews on specific drugs associated with related conditions and a 10-star patient rating reflecting overall patient satisfaction of the drug chosen for that specific condition, we choose Natural Language Processing Machine Learning techniques in predicting the rating for the reviews of the drugs for the first four most reviewed conditions of Birth Control, Depression, Pain and Anxiety. In the following cells, we import the needed libraries and then get our data set ready for the machine learning techniques we will choose."
   ]
  },
  {
   "cell_type": "code",
   "execution_count": 95,
   "metadata": {},
   "outputs": [
    {
     "data": {
      "text/plain": [
       "Levonorgestrel                        4930\n",
       "Etonogestrel                          4421\n",
       "Ethinyl estradiol / norethindrone     3753\n",
       "Nexplanon                             2892\n",
       "Ethinyl estradiol / norgestimate      2790\n",
       "Ethinyl estradiol / levonorgestrel    2503\n",
       "Phentermine                           2085\n",
       "Sertraline                            1868\n",
       "Escitalopram                          1747\n",
       "Mirena                                1673\n",
       "Name: drugName, dtype: int64"
      ]
     },
     "execution_count": 95,
     "metadata": {},
     "output_type": "execute_result"
    }
   ],
   "source": [
    "df2.drugName.value_counts()[:10]"
   ]
  },
  {
   "cell_type": "code",
   "execution_count": 96,
   "metadata": {},
   "outputs": [
    {
     "data": {
      "text/plain": [
       "Birth Control      38436\n",
       "Depression         12164\n",
       "Pain                8245\n",
       "Anxiety             7812\n",
       "Acne                7435\n",
       "Bipolar Disorde     5604\n",
       "Insomnia            4904\n",
       "Weight Loss         4857\n",
       "Obesity             4757\n",
       "ADHD                4509\n",
       "Name: condition, dtype: int64"
      ]
     },
     "execution_count": 96,
     "metadata": {},
     "output_type": "execute_result"
    }
   ],
   "source": [
    "df2.condition.value_counts()[:10]"
   ]
  },
  {
   "cell_type": "code",
   "execution_count": 97,
   "metadata": {},
   "outputs": [
    {
     "name": "stdout",
     "output_type": "stream",
     "text": [
      "4     \"I have been on this birth control for one cycle. After reading some of the reviews on this type and similar birth controls I was a bit apprehensive to start. Im giving this birth control a 9 out ...\n",
      "6     \"I&#039;ve had the copper coil for about 3 months now. I was really excited at the thought of not taking hormones. I&#039;m good with pain however I nearly fainted with insertion, couldn&#039;t be...\n",
      "9     \"I was on this pill for almost two years. It does work as far as not getting pregnant however my experience at first was it didn&#039;t make a huge difference then 6 or 7 months into it my sex dri...\n",
      "30    \"I absolutely love this product and recommend to everyone. I know everyone&#039;s body is different, so it is not for everyone, but it is not the medicines fault. I have NO negative symptoms since...\n",
      "37    \"I was on this for 5 years (and birth control pills for about 12 years), and would have told you how fabulous it was.  &lt;List all the benefits everyone else has listed, here.&gt;  Then a friend ...\n",
      "Name: review, dtype: object\n"
     ]
    }
   ],
   "source": [
    "print(df2[df2['condition'] == 'Birth Control'].review.head())"
   ]
  },
  {
   "cell_type": "code",
   "execution_count": 98,
   "metadata": {},
   "outputs": [
    {
     "name": "stdout",
     "output_type": "stream",
     "text": [
      "48                                                                                                                                                                                              \"Works for me\"\n",
      "63     \"I was prescribed this for onset of anxiety and possible hormonal mood swings. I was not told by my doctor how it would make me feel or how hard coming off of it would be. I took one 37.5 mg capsu...\n",
      "83     \"I did not like this medication. For anxiety, I have also tried Hydroxyzine (Atarax). I guess this is just my personal body chemistry but I actually prefer Atarax to this unlike most people. This ...\n",
      "133    \"I&#039;m a 32 year old male and I&#039;ve been taking buspar for about 10 months. At first it did nothing but make my anxiety worse. I would wake up with to full blown panic attacks and have the ...\n",
      "208    \"Klonopin is a very effective medicine for people such as myself that suffer from debilitating panic disorder and/or PTSD.  This medicine saved me from becoming institutionalized after returning h...\n",
      "Name: review, dtype: object\n"
     ]
    }
   ],
   "source": [
    "print(df2[df2['condition'] == 'Anxiety'].review.head())"
   ]
  },
  {
   "cell_type": "code",
   "execution_count": 99,
   "metadata": {},
   "outputs": [
    {
     "data": {
      "image/png": "[encoded data removed]",
      "text/plain": [
       "<Figure size 576x432 with 1 Axes>"
      ]
     },
     "metadata": {
      "needs_background": "light"
     },
     "output_type": "display_data"
    }
   ],
   "source": [
    "import matplotlib.pyplot as plt\n",
    "fig = plt.figure(figsize=(8,6))\n",
    "df2.groupby('rating').review.count().plot.bar(ylim=0)\n",
    "plt.show()"
   ]
  },
  {
   "cell_type": "code",
   "execution_count": 100,
   "metadata": {},
   "outputs": [
    {
     "data": {
      "text/plain": [
       "215063"
      ]
     },
     "execution_count": 100,
     "metadata": {},
     "output_type": "execute_result"
    }
   ],
   "source": [
    "df2.review.count()"
   ]
  },
  {
   "cell_type": "code",
   "execution_count": 101,
   "metadata": {},
   "outputs": [
    {
     "data": {
      "text/plain": [
       "38436"
      ]
     },
     "execution_count": 101,
     "metadata": {},
     "output_type": "execute_result"
    }
   ],
   "source": [
    "df2[df2['condition'] == 'Birth Control'].review.count()"
   ]
  },
  {
   "cell_type": "code",
   "execution_count": 102,
   "metadata": {},
   "outputs": [
    {
     "name": "stdout",
     "output_type": "stream",
     "text": [
      "The ration of the birth control review to the reviews of the entire data set: 0.1787197239878547\n"
     ]
    }
   ],
   "source": [
    "print(\"The ration of the birth control review to the reviews of the entire data set: \" + str(df2[df2['condition'] == 'Birth Control'].review.count()/df2.review.count()))"
   ]
  },
  {
   "cell_type": "markdown",
   "metadata": {},
   "source": [
    "#### Review feature of the Data Set -- NLP\n",
    "On the Machine Learning phase, we start looking at the text documents of the review column. In order to do that, we need to do some text pre-processing. We process and tokenize corpus of reviews to build features for predictive models. Also, train machine learning models to predict drug rating based on reviews and relevant metadata.\n",
    "In order to do that, we need to pre-process our text data by removing tags, i.e. HTML tags, as well as removing accented characters, é to e., special characters, which mainly add to the extra noise than giving benefits. We also need to stem the words as well as lemmatize in cases (stemming is cutting the word and keeping the root of the word and lemmatization is that the remaining root is grammatically a correct form but stem of the word is not). Another step in text pre-processing is to remove the Stop words. Stop words are the words with little and insignificance meaning in the corpus. Words such as a, an, the are examples of Stop words in English. Last but not least, we remove extra whitespaces, text lower casing as well as spelling corrections, grammatical error corrections, removing repeated characters to name a few. We then tokenize the corpus to build features for predictive models."
   ]
  },
  {
   "cell_type": "markdown",
   "metadata": {},
   "source": [
    "#### Text pre-processing\n",
    "Removing tags: Removing unnecessary HTML tags, etc. which do not add much value when analyzing text (The BeautifulSoup library does an excellent job in providing necessary functions for this.).\n",
    "\n",
    "Removing accented characters: Removing accented characters\\letters in the text corpus and convert these characters and standardized into ASCII characters, an example is to convert é to e.\n",
    "\n",
    "Expanding contractions: Converting contraction to its expanded, original form often helps with text standardization, example of which would be, \"do not\" to \"don’t\" and \"I would\" to \"I’d\".\n",
    "\n",
    "Removing special characters: Removing special characters and symbols often add to the extra noise in unstructured text. More than often, simple regular expressions (regexes) can be used to achieve this.\n",
    "\n",
    "Stemming and lemmatization: The reverse process of inflection is called stemming, which is basically obtaining the base form of a word. Lemmatization is very similar to stemming, the difference being that the root word from lemmatization is always a lexicographically correct word but the root stem may not be so.\n",
    "\n",
    "Removing stopwords: Words with little or no significance in text corpus are known as stopwords, example of which are: a, an, the. We can use a standard English language stopwords list from nltk and also add our own domain specific stopwords as needed.\n",
    "\n",
    "Other text cleaning to do would be tokenization, removing extra whitespaces, text lower casing as well as spelling corrections, grammatical error corrections, removing repeated characters to name a few."
   ]
  },
  {
   "cell_type": "code",
   "execution_count": 104,
   "metadata": {},
   "outputs": [
    {
     "name": "stderr",
     "output_type": "stream",
     "text": [
      "[nltk_data] Downloading package stopwords to\n",
      "[nltk_data]     /Users/nazanin.komeilizadeh/nltk_data...\n",
      "[nltk_data]   Unzipping corpora/stopwords.zip.\n"
     ]
    }
   ],
   "source": [
    "from bs4 import BeautifulSoup\n",
    "import unicodedata\n",
    "import nltk \n",
    "nltk.download('stopwords')\n",
    "from numpy.random import seed\n",
    "from numpy.random import randn\n",
    "from statsmodels.graphics.gofplots import qqplot\n",
    "#from matplotlib import pyplot\n",
    "import pylab\n",
    "from statsmodels.distributions.empirical_distribution import ECDF\n",
    "from scipy.stats import norm \n",
    "from scipy import stats \n",
    "from statsmodels.stats.weightstats import ztest"
   ]
  },
  {
   "cell_type": "code",
   "execution_count": 105,
   "metadata": {},
   "outputs": [],
   "source": [
    "# Let's remove special characters, extra whitespaces, digits, stopwords and lower casing the text corpus\n",
    "#result = re.sub(pattern, repl, string, count=0, flags=0);\n",
    "from nltk.stem.snowball import SnowballStemmer\n",
    "stemmer = SnowballStemmer(\"english\", ignore_stopwords=True)   ###plscheck this \n",
    "wpt = nltk.WordPunctTokenizer()  # $4.99 \n",
    "stop_words = nltk.corpus.stopwords.words('english')\n",
    "stop_words.append('</span> users found this comment helpful.') \n",
    "stop_words.append('&#039')\n",
    "def normalize_document(doc):\n",
    "    # lower case and remove special characters\\whitespaces\n",
    "    doc = re.sub(r'[^a-zA-Z\\s]', '', doc, re.I|re.A) \n",
    "    #re.I A means treats . as whatever it is. Performs case-insensitive matching. #issues with FLAGS!!!!!\n",
    "    doc = doc.lower()\n",
    "    doc = doc.strip()\n",
    "    tokens = wpt.tokenize(doc)\n",
    "    # filter stopwords out of document\n",
    "    filtered_tokens = [token for token in tokens if token not in stop_words] \n",
    "    filtered_tokens = [stemmer.stem(word) for word in filtered_tokens]  \n",
    "    doc = ' '.join(filtered_tokens)\n",
    "    return doc\n",
    "normalize_corpus = np.vectorize(normalize_document)\n",
    "# doc is the list of strings"
   ]
  },
  {
   "cell_type": "markdown",
   "metadata": {},
   "source": [
    "We first attempt to analyze the rating of the reviews of the birth control drugs since birth control was the highest count for the condition in the data set with almost one fifth of the entire data set. Moreover, the number of reviews for birth control was the highest compared to the other conditions with the same ratio of 18%."
   ]
  },
  {
   "cell_type": "code",
   "execution_count": 107,
   "metadata": {},
   "outputs": [],
   "source": [
    "import re"
   ]
  },
  {
   "cell_type": "code",
   "execution_count": 108,
   "metadata": {},
   "outputs": [],
   "source": [
    "norm_corpus = normalize_corpus(df2[df2['condition'] == 'Birth Control'].review)"
   ]
  },
  {
   "cell_type": "code",
   "execution_count": 109,
   "metadata": {},
   "outputs": [
    {
     "data": {
      "text/plain": [
       "array(['birth control one cycl read review type similar birth control bit apprehens start im give birth control long enough far love birth control side effect minim like im even birth control experienc mild headach nausea ive feel great got period cue third day inact pill idea come zero pms period light bare cramp unprotect sex first month obvious didnt get pregnant im pleas high recommend',\n",
       "       'ive copper coil month realli excit thought take hormon im good pain howev near faint insert couldnt beliv pain doctor say pain well month period last day im pain day random twang especi left side im consid whether want put intens pain heavi period id recommend somebodi doesnt alreadi heavi pain period right isnt',\n",
       "       'pill almost two year work far get pregnant howev experi first didnt make huge differ month sex drive went along dri moodi increas drastic would cri one second get angri husband anyth everyth skin gotten lot wors broke place never last week yaz',\n",
       "       ...,\n",
       "       'experi pain insert expect sinc ive never children lot bloat cramp breast tender first coupl week use pamprin heat pad belli help week insert came brown sludg last ten day first month studi miseri period stop breez occasion light cramp spot drawback person year old perimenopaus period make imposs track cycl overal delight',\n",
       "       'nexplanon sinc dec got first period end januari last month half march didnt bleed close three week start bleed march th bleed everi sinc gain lbs far sinc get birth control although weight gain isnt deal breaker bleed tri patient see bodi adjust implant three month far finger cross cycl go away awhil',\n",
       "       'would second month junel ive birth control year chang due spot increas mood swing previous birth control sinc switch shorter period day gain major weight increas appetit switch regular exercis routin still manag drop extra lbs'],\n",
       "      dtype='<U2960')"
      ]
     },
     "execution_count": 109,
     "metadata": {},
     "output_type": "execute_result"
    }
   ],
   "source": [
    "norm_corpus"
   ]
  },
  {
   "cell_type": "code",
   "execution_count": 110,
   "metadata": {},
   "outputs": [],
   "source": [
    "from sklearn.feature_extraction.text import CountVectorizer\n",
    "from sklearn.pipeline import Pipeline\n",
    "from sklearn.feature_extraction.text import TfidfVectorizer\n",
    "from sklearn.feature_extraction.text import TfidfTransformer\n",
    "from sklearn.naive_bayes import MultinomialNB\n",
    "from sklearn.model_selection import train_test_split\n",
    "from sklearn.model_selection import GridSearchCV\n",
    "from sklearn.ensemble import RandomForestClassifier \n",
    "from sklearn.metrics import classification_report, confusion_matrix, accuracy_score"
   ]
  },
  {
   "cell_type": "markdown",
   "metadata": {},
   "source": [
    "In order to get more familiar with our birth control reviews, let us see what words are mostly used in that corpus. For this reason, we define a function to count the top \"n\" words in the corpus for us."
   ]
  },
  {
   "cell_type": "code",
   "execution_count": 111,
   "metadata": {},
   "outputs": [],
   "source": [
    "def get_top_n_words(corpus, n=None):\n",
    "    \"\"\"\n",
    "    List the top n words in a vocabulary according to occurrence in a text corpus.\n",
    "    \n",
    "    get_top_n_words([\"I love Python\", \"Python is a language programming\", \"Hello world\", \"I love the world\"]) -> \n",
    "    [('python', 2),\n",
    "     ('world', 2),\n",
    "     ('love', 2),\n",
    "     ('hello', 1),\n",
    "     ('is', 1),\n",
    "     ('programming', 1),\n",
    "     ('the', 1),\n",
    "     ('language', 1)]\n",
    "    \"\"\"\n",
    "    vec = CountVectorizer().fit(corpus)\n",
    "    bag_of_words = vec.transform(corpus)\n",
    "    sum_words = bag_of_words.sum(axis=0) \n",
    "    words_freq = [(word, sum_words[0, idx]) for word, idx in     vec.vocabulary_.items()]\n",
    "    words_freq =sorted(words_freq, key = lambda x: x[1], reverse=True)\n",
    "    return words_freq[:n]"
   ]
  },
  {
   "cell_type": "code",
   "execution_count": 112,
   "metadata": {},
   "outputs": [
    {
     "data": {
      "text/plain": [
       "[('period', 37273),\n",
       " ('month', 36515),\n",
       " ('pill', 26390),\n",
       " ('get', 23071),\n",
       " ('ive', 21923),\n",
       " ('day', 21659),\n",
       " ('im', 20430),\n",
       " ('year', 19498),\n",
       " ('control', 18934),\n",
       " ('week', 18639),\n",
       " ('birth', 18338),\n",
       " ('take', 18146),\n",
       " ('first', 17184),\n",
       " ('cramp', 16278),\n",
       " ('gain', 15381),\n",
       " ('weight', 15367),\n",
       " ('start', 15324),\n",
       " ('effect', 14001),\n",
       " ('got', 13875),\n",
       " ('time', 13647),\n",
       " ('pain', 13167),\n",
       " ('like', 13144),\n",
       " ('side', 12075),\n",
       " ('bleed', 11932),\n",
       " ('would', 11297),\n",
       " ('insert', 11113),\n",
       " ('feel', 10858),\n",
       " ('sinc', 10519),\n",
       " ('mood', 10392),\n",
       " ('acn', 10089),\n",
       " ('never', 9849),\n",
       " ('spot', 9770),\n",
       " ('sex', 9433),\n",
       " ('bad', 9376),\n",
       " ('go', 9145),\n",
       " ('use', 9100),\n",
       " ('also', 9021),\n",
       " ('one', 8951),\n",
       " ('last', 8476),\n",
       " ('dont', 8321)]"
      ]
     },
     "execution_count": 112,
     "metadata": {},
     "output_type": "execute_result"
    }
   ],
   "source": [
    "get_top_n_words(normalize_corpus(df2[df2['condition'] == 'Birth Control'].review), n=40)  #None\n"
   ]
  },
  {
   "cell_type": "markdown",
   "metadata": {},
   "source": [
    "As we can see, words such as period, month, pill, etc. are among the highest count in the birth control corpus.\n",
    "\n"
   ]
  },
  {
   "cell_type": "code",
   "execution_count": 113,
   "metadata": {},
   "outputs": [
    {
     "name": "stdout",
     "output_type": "stream",
     "text": [
      "period 37273\n",
      "month 36515\n",
      "pill 26390\n",
      "get 23071\n",
      "ive 21923\n",
      "day 21659\n",
      "im 20430\n",
      "year 19498\n",
      "control 18934\n",
      "week 18639\n",
      "birth 18338\n",
      "take 18146\n",
      "first 17184\n",
      "cramp 16278\n",
      "gain 15381\n",
      "weight 15367\n",
      "start 15324\n",
      "effect 14001\n",
      "got 13875\n",
      "time 13647\n"
     ]
    }
   ],
   "source": [
    "common_words_BC = get_top_n_words(normalize_corpus(df2[df2['condition'] == 'Birth Control'].review), 20)\n",
    "for word, freq in common_words_BC:\n",
    "    print(word, freq)"
   ]
  },
  {
   "cell_type": "markdown",
   "metadata": {},
   "source": [
    "Utilizing CountVectorizer, we group the words in the corpus one by one or 2 by 2. This is called \"n-gram\". We start by 2-gram and we implement machine learning techniques to check the performance of the 2-gram and then compare it with 1-gram."
   ]
  },
  {
   "cell_type": "code",
   "execution_count": 114,
   "metadata": {},
   "outputs": [
    {
     "name": "stdout",
     "output_type": "stream",
     "text": [
      "\n",
      "Transformed text vector is \n",
      " [[5 0 1 ... 1 0 0]\n",
      " [0 0 0 ... 0 0 0]\n",
      " [0 0 0 ... 0 0 0]\n",
      " ...\n",
      " [0 0 1 ... 0 0 0]\n",
      " [1 0 0 ... 0 0 1]\n",
      " [2 0 0 ... 0 0 0]]\n",
      "Words for each feature:\n",
      "['birth control', 'feel like', 'first month', 'gain weight', 'mood swing', 'sex drive', 'side effect', 'take pill', 'weight gain']\n"
     ]
    }
   ],
   "source": [
    "vectorizer = CountVectorizer(ngram_range=(2,2), min_df=0.05, max_df=1.0, max_features=500)\n",
    "\n",
    "# call `fit` to build the vocabulary\n",
    "vectorizer.fit(norm_corpus)\n",
    "\n",
    "# call `transform` to convert text to a bag of words\n",
    "x = vectorizer.transform(norm_corpus)\n",
    "\n",
    "# CountVectorizer uses a sparse array to save memory, but it's easier in this assignment to \n",
    "# convert back to a \"normal\" numpy array\n",
    "x = x.toarray()  # this is for visualization purposes \n",
    "\n",
    "print()\n",
    "print(\"Transformed text vector is \\n\", x)\n",
    "\n",
    "# `get_feature_names` tracks which word is associated with each column of the transformed x\n",
    "print\n",
    "print(\"Words for each feature:\")\n",
    "print(vectorizer.get_feature_names())  # visualization"
   ]
  },
  {
   "cell_type": "code",
   "execution_count": 115,
   "metadata": {},
   "outputs": [
    {
     "data": {
      "text/plain": [
       "(38436, 9)"
      ]
     },
     "execution_count": 115,
     "metadata": {},
     "output_type": "execute_result"
    }
   ],
   "source": [
    "x.shape"
   ]
  },
  {
   "cell_type": "markdown",
   "metadata": {},
   "source": [
    "After getting the corpus ready for NLP Machine Learning techniques, we are now about to choose the proper techniques to be able to train the train set and be able to predict on the test set. Naive Bayes, Random Forest are among the most popular feature predicting models. The criteria on how to choose the proper machine learning technique is the performance and efficiency of the technique. In this project, we choose Naïve Bayes, Random Forest and Extreme Gradient Boosting techniques and we implement them on the rankings of the reviews of the four mostly reviewed and populated conditions in the data set, namely, Birth Control, Depression, Pain and Anxiety."
   ]
  },
  {
   "cell_type": "code",
   "execution_count": 116,
   "metadata": {},
   "outputs": [],
   "source": [
    "y = df2[df2['condition'] == 'Birth Control'].rating  # df2['rating']\n",
    "xtrain, xtest, ytrain, ytest = train_test_split(x, y)  #(default=0.25)\n",
    "clf = MultinomialNB().fit(xtrain, ytrain)"
   ]
  },
  {
   "cell_type": "code",
   "execution_count": 117,
   "metadata": {},
   "outputs": [],
   "source": [
    "training_accuracy = clf.score(xtrain, ytrain)\n",
    "test_accuracy = clf.score(xtest, ytest)"
   ]
  },
  {
   "cell_type": "code",
   "execution_count": 118,
   "metadata": {},
   "outputs": [
    {
     "name": "stdout",
     "output_type": "stream",
     "text": [
      "MN Accuracy: 21.62%\n",
      "Accuracy on training data: 0.21\n",
      "Accuracy on test data:     0.22\n"
     ]
    }
   ],
   "source": [
    "print(\"MN Accuracy: %0.2f%%\" % (100 * clf.score(xtest, ytest)))\n",
    "print(\"Accuracy on training data: %0.2f\" % (training_accuracy))\n",
    "print(\"Accuracy on test data:     %0.2f\" % (test_accuracy))   #30% is precicely predicting the ratings for df2_min = 0.1\n",
    "# do a good and bad as a binary!"
   ]
  },
  {
   "cell_type": "markdown",
   "metadata": {},
   "source": [
    "Naive Bayes prediction turned out at a disappointing rate of only 21%! Let's switch to other models and see how they perform.\n",
    "\n"
   ]
  },
  {
   "cell_type": "code",
   "execution_count": 120,
   "metadata": {},
   "outputs": [
    {
     "name": "stderr",
     "output_type": "stream",
     "text": [
      "/anaconda3/lib/python3.7/site-packages/sklearn/ensemble/forest.py:246: FutureWarning: The default value of n_estimators will change from 10 in version 0.20 to 100 in 0.22.\n",
      "  \"10 in version 0.20 to 100 in 0.22.\", FutureWarning)\n"
     ]
    }
   ],
   "source": [
    "#regressor target variables rating is \n",
    "# Train the model with Random Foprest Classifier     \n",
    "clf_RF = RandomForestClassifier()  \n",
    "#n_jobs=2 number of cores the computer uses, n_estimators = 500 (number of trees)  startt 50 \n",
    "clf_RF.fit(xtrain, ytrain)  \n",
    "# predict and evaluate performance\n",
    "clf_RF_predictions = clf_RF.predict(xtest)\n",
    "#meu.display_model_performance_metrics(true_labels=ytest, predicted_labels=clf_RF_predictions , classes= range(1,11))\n",
    "#hash maps a value to another value and it's more efficient in computation\n",
    "# normaization removing bias that could exists in a data set \n",
    "# correcting for the size of the corpus. one word review and the other is 200000 words \n",
    "# and contains the word good and we should \n",
    "# normaliztion in NLP is to use word frequecy."
   ]
  },
  {
   "cell_type": "code",
   "execution_count": 121,
   "metadata": {},
   "outputs": [
    {
     "name": "stdout",
     "output_type": "stream",
     "text": [
      "[0.19425585 0.05325275 0.09694536 0.10222597 0.14209784 0.07632966\n",
      " 0.13444263 0.10651804 0.09393191]\n"
     ]
    }
   ],
   "source": [
    "print(clf_RF.feature_importances_)"
   ]
  },
  {
   "cell_type": "code",
   "execution_count": 122,
   "metadata": {},
   "outputs": [
    {
     "name": "stdout",
     "output_type": "stream",
     "text": [
      "{'bootstrap': True, 'class_weight': None, 'criterion': 'gini', 'max_depth': None, 'max_features': 'auto', 'max_leaf_nodes': None, 'min_impurity_decrease': 0.0, 'min_impurity_split': None, 'min_samples_leaf': 1, 'min_samples_split': 2, 'min_weight_fraction_leaf': 0.0, 'n_estimators': 10, 'n_jobs': None, 'oob_score': False, 'random_state': None, 'verbose': 0, 'warm_start': False}\n"
     ]
    }
   ],
   "source": [
    "print(clf_RF.get_params())"
   ]
  },
  {
   "cell_type": "code",
   "execution_count": 123,
   "metadata": {},
   "outputs": [
    {
     "name": "stdout",
     "output_type": "stream",
     "text": [
      "{'max_features': 'auto', 'n_estimators': 500}\n"
     ]
    }
   ],
   "source": [
    "#gridsearch and hyoerparameter tuning (on the TRAIN set) \n",
    "param_grid = {'n_estimators': [100, 200, 300, 500], 'max_features': ['auto', None, 'log2']}\n",
    "clf_RF = GridSearchCV(RandomForestClassifier(random_state=42), param_grid, cv=5, scoring='accuracy')\n",
    "clf_RF.fit(xtrain, ytrain)\n",
    "print(clf_RF.best_params_)"
   ]
  },
  {
   "cell_type": "code",
   "execution_count": 126,
   "metadata": {},
   "outputs": [],
   "source": [
    "# The best hyperparameter performance occurs at: {'max_features': None, 'n_estimators': 100} 0.2269 0.0036"
   ]
  },
  {
   "cell_type": "code",
   "execution_count": 127,
   "metadata": {},
   "outputs": [],
   "source": [
    "clf_RF = RandomForestClassifier(n_estimators=100, max_features=None, random_state=42)\n",
    "clf_RF.fit(xtrain, ytrain)\n",
    "clf_RF_predictions = clf_RF.predict(xtest)"
   ]
  },
  {
   "cell_type": "code",
   "execution_count": 128,
   "metadata": {},
   "outputs": [
    {
     "name": "stdout",
     "output_type": "stream",
     "text": [
      "[[821   8  16  18  22   6   5  17  95 470]\n",
      " [348  18   7   4  16  12   3  17  46 225]\n",
      " [305  16  32   2  12   4   2  14  56 238]\n",
      " [241   8  11  15   9   6   5  17  45 168]\n",
      " [348   5  10   6  33   3   5  15  66 236]\n",
      " [196   5   6   4   3  23   3  15  50 174]\n",
      " [219   7   7  12   7   3  22   9  74 220]\n",
      " [393   9  11   7  15   1  18  83 117 436]\n",
      " [534  18  12   1  19   5  13  30 198 560]\n",
      " [732  12   7  12  15   7  14  28 153 983]]\n",
      "              precision    recall  f1-score   support\n",
      "\n",
      "         1.0       0.20      0.56      0.29      1478\n",
      "         2.0       0.17      0.03      0.04       696\n",
      "         3.0       0.27      0.05      0.08       681\n",
      "         4.0       0.19      0.03      0.05       525\n",
      "         5.0       0.22      0.05      0.08       727\n",
      "         6.0       0.33      0.05      0.08       479\n",
      "         7.0       0.24      0.04      0.07       580\n",
      "         8.0       0.34      0.08      0.12      1090\n",
      "         9.0       0.22      0.14      0.17      1390\n",
      "        10.0       0.26      0.50      0.35      1963\n",
      "\n",
      "   micro avg       0.23      0.23      0.23      9609\n",
      "   macro avg       0.24      0.15      0.13      9609\n",
      "weighted avg       0.24      0.23      0.18      9609\n",
      "\n",
      "0.23186595899677387\n"
     ]
    }
   ],
   "source": [
    "print(confusion_matrix(ytest,clf_RF_predictions))  \n",
    "print(classification_report(ytest,clf_RF_predictions))  \n",
    "print(accuracy_score(ytest, clf_RF_predictions))"
   ]
  },
  {
   "cell_type": "markdown",
   "metadata": {},
   "source": [
    "As we see, even Random Forest couldn't do much better than NB method so the next thing to do is to switch the (2,2) gram to (1,2) gram and see the performance of our models accordingly."
   ]
  },
  {
   "cell_type": "code",
   "execution_count": 129,
   "metadata": {},
   "outputs": [
    {
     "data": {
      "text/plain": [
       "0.2559059215318972"
      ]
     },
     "execution_count": 129,
     "metadata": {},
     "output_type": "execute_result"
    }
   ],
   "source": [
    "from sklearn.datasets import make_classification\n",
    "clf_RF.score(x, y, sample_weight=None)  # on the entire data here so obviously it goes up by a few percentages"
   ]
  },
  {
   "cell_type": "markdown",
   "metadata": {},
   "source": [
    "Now, we are performing ngram(1,2):"
   ]
  },
  {
   "cell_type": "code",
   "execution_count": 130,
   "metadata": {},
   "outputs": [
    {
     "name": "stdout",
     "output_type": "stream",
     "text": [
      "\n",
      "Transformed text vector is \n",
      " [[0 0 0 ... 0 0 0]\n",
      " [0 0 0 ... 0 0 0]\n",
      " [0 0 0 ... 0 1 1]\n",
      " ...\n",
      " [0 0 0 ... 0 0 1]\n",
      " [0 0 0 ... 0 0 0]\n",
      " [0 0 0 ... 0 1 1]]\n",
      "Words for each feature:\n",
      "['absolut', 'acn', 'actual', 'ago', 'almost', 'also', 'alway', 'anoth', 'anxieti', 'anyth', 'around', 'away', 'back', 'bad', 'bc', 'best', 'better', 'birth', 'birth control', 'bit', 'bleed', 'bloat', 'bodi', 'break', 'breast', 'cant', 'caus', 'chang', 'clear', 'come', 'complet', 'constant', 'control', 'could', 'coupl', 'cramp', 'crazi', 'cri', 'day', 'decid', 'definit', 'depress', 'didnt', 'differ', 'doctor', 'dont', 'drive', 'due', 'eat', 'effect', 'emot', 'end', 'even', 'ever', 'everi', 'everyon', 'everyth', 'experi', 'experienc', 'extrem', 'face', 'far', 'feel', 'feel like', 'felt', 'fine', 'first', 'first month', 'gain', 'gain weight', 'get', 'give', 'go', 'good', 'got', 'gotten', 'great', 'half', 'happi', 'havent', 'headach', 'heavi', 'help', 'high', 'hope', 'hormon', 'horribl', 'hour', 'howev', 'hurt', 'im', 'implanon', 'implant', 'increas', 'insert', 'issu', 'iud', 'ive', 'know', 'last', 'lbs', 'life', 'light', 'like', 'littl', 'long', 'lost', 'lot', 'love', 'made', 'make', 'may', 'mirena', 'month', 'mood', 'mood swing', 'moodi', 'much', 'nausea', 'negat', 'never', 'nexplanon', 'next', 'normal', 'noth', 'notic', 'old', 'one', 'overal', 'pain', 'period', 'pill', 'pound', 'pregnanc', 'pregnant', 'pretti', 'problem', 'put', 'read', 'realli', 'reason', 'recommend', 'regular', 'remov', 'review', 'right', 'said', 'say', 'second', 'see', 'seem', 'sever', 'sex', 'sex drive', 'shot', 'side', 'side effect', 'sinc', 'skin', 'someth', 'spot', 'start', 'still', 'stop', 'sure', 'swing', 'switch', 'symptom', 'take', 'take pill', 'taken', 'terribl', 'that', 'thing', 'think', 'though', 'thought', 'three', 'time', 'told', 'took', 'tri', 'two', 'use', 'want', 'wasnt', 'way', 'week', 'weight', 'weight gain', 'well', 'went', 'work', 'worri', 'wors', 'worst', 'worth', 'would', 'year']\n"
     ]
    }
   ],
   "source": [
    "# So now, let's change the ngram to (1,2)\n",
    "vectorizer = CountVectorizer(ngram_range=(1,2), min_df=0.05, max_df=1.0, max_features=500)\n",
    "\n",
    "# call `fit` to build the vocabulary\n",
    "vectorizer.fit(norm_corpus)\n",
    "\n",
    "# call `transform` to convert text to a bag of words\n",
    "x = vectorizer.transform(norm_corpus)\n",
    "\n",
    "# CountVectorizer uses a sparse array to save memory, but it's easier in this assignment to \n",
    "# convert back to a \"normal\" numpy array\n",
    "x = x.toarray()  # this is for visualization purposes \n",
    "\n",
    "print()\n",
    "print(\"Transformed text vector is \\n\", x)\n",
    "\n",
    "# `get_feature_names` tracks which word is associated with each column of the transformed x\n",
    "print\n",
    "print(\"Words for each feature:\")\n",
    "print(vectorizer.get_feature_names())  # visualization"
   ]
  },
  {
   "cell_type": "code",
   "execution_count": 131,
   "metadata": {},
   "outputs": [
    {
     "data": {
      "text/plain": [
       "(38436, 199)"
      ]
     },
     "execution_count": 131,
     "metadata": {},
     "output_type": "execute_result"
    }
   ],
   "source": [
    "x.shape"
   ]
  },
  {
   "cell_type": "markdown",
   "metadata": {},
   "source": [
    "The default division percentage between train and test set is 25%, meaning that 25% of the data is held for test and 75% is being trained."
   ]
  },
  {
   "cell_type": "code",
   "execution_count": 132,
   "metadata": {},
   "outputs": [],
   "source": [
    "y = df2[df2['condition'] == 'Birth Control'].rating  # df2['rating']\n",
    "xtrain, xtest, ytrain, ytest = train_test_split(x, y)  #(default=0.25)"
   ]
  },
  {
   "cell_type": "code",
   "execution_count": 133,
   "metadata": {},
   "outputs": [
    {
     "name": "stderr",
     "output_type": "stream",
     "text": [
      "/anaconda3/lib/python3.7/site-packages/sklearn/ensemble/forest.py:246: FutureWarning: The default value of n_estimators will change from 10 in version 0.20 to 100 in 0.22.\n",
      "  \"10 in version 0.20 to 100 in 0.22.\", FutureWarning)\n"
     ]
    }
   ],
   "source": [
    "#regressor target variables rating is \n",
    "# Train the model with Random Foprest Classifier     \n",
    "clf_RF = RandomForestClassifier()  \n",
    "#n_jobs=2 number of cores the computer uses, n_estimators = 500 (number of trees)  startt 50 \n",
    "clf_RF.fit(xtrain, ytrain)  \n",
    "# predict and evaluate performance\n",
    "clf_RF_predictions = clf_RF.predict(xtest)"
   ]
  },
  {
   "cell_type": "code",
   "execution_count": 134,
   "metadata": {},
   "outputs": [
    {
     "name": "stdout",
     "output_type": "stream",
     "text": [
      "[0.0025178  0.00763105 0.00295206 0.00416042 0.00569788 0.00733311\n",
      " 0.0042652  0.00296243 0.00400324 0.00296286 0.00322742 0.00356844\n",
      " 0.00617897 0.00678204 0.0033931  0.00422696 0.00390614 0.008557\n",
      " 0.00808604 0.00287373 0.00918607 0.00320979 0.0039504  0.00317975\n",
      " 0.00485337 0.00427004 0.00379788 0.00523812 0.00354142 0.00350346\n",
      " 0.00292289 0.00451118 0.0083897  0.00323604 0.00292636 0.00920143\n",
      " 0.00282706 0.00377668 0.01177802 0.00284377 0.00310868 0.00750183\n",
      " 0.00593795 0.00427222 0.00518859 0.00677738 0.00498507 0.00278749\n",
      " 0.00330592 0.0074131  0.00348435 0.0029295  0.00503289 0.00498853\n",
      " 0.00598418 0.00241196 0.00283746 0.00552719 0.00441038 0.00444317\n",
      " 0.00274399 0.00581174 0.00725485 0.00282848 0.00420634 0.00290583\n",
      " 0.00954742 0.0035376  0.00827723 0.00321547 0.01217387 0.00323243\n",
      " 0.00678679 0.00527805 0.00928264 0.00307252 0.0056934  0.00339777\n",
      " 0.00307632 0.00491818 0.0049743  0.00477614 0.00415199 0.00304516\n",
      " 0.0039123  0.00334722 0.00488072 0.00265783 0.00488315 0.00268995\n",
      " 0.01150809 0.00340087 0.00352381 0.00304226 0.00811777 0.00316898\n",
      " 0.00349776 0.01174762 0.00352885 0.00599252 0.0031989  0.00383539\n",
      " 0.00534716 0.00837677 0.00522734 0.00348467 0.00306594 0.00475391\n",
      " 0.01395303 0.00499989 0.00429711 0.00270104 0.00386747 0.01453443\n",
      " 0.00672824 0.00480751 0.00393591 0.00501    0.00332175 0.00239201\n",
      " 0.0068098  0.00394451 0.00319735 0.00441829 0.00356611 0.0053768\n",
      " 0.00232877 0.00596437 0.0035403  0.00791332 0.01494997 0.01216889\n",
      " 0.00440557 0.0045576  0.00542023 0.00360436 0.0049186  0.0044735\n",
      " 0.00278115 0.00658137 0.00300474 0.00565409 0.00297903 0.00530127\n",
      " 0.00347769 0.00243684 0.00277364 0.00384411 0.00360321 0.00309448\n",
      " 0.00333787 0.00460782 0.00726987 0.00411625 0.00318687 0.00640403\n",
      " 0.0051964  0.0080472  0.00418929 0.00264554 0.00746229 0.00930619\n",
      " 0.00489798 0.00594382 0.00322414 0.00543562 0.00648496 0.00294818\n",
      " 0.01024343 0.00387511 0.00305859 0.00382773 0.00281135 0.00533102\n",
      " 0.00485612 0.00351045 0.00328854 0.00315784 0.00881164 0.00247905\n",
      " 0.00460563 0.00581769 0.00582097 0.00689027 0.00459009 0.00298899\n",
      " 0.00272421 0.01148727 0.00801247 0.00458021 0.00429644 0.00505457\n",
      " 0.00594623 0.00273936 0.0031951  0.00587886 0.00295577 0.00750624\n",
      " 0.01018064]\n"
     ]
    }
   ],
   "source": [
    "print(clf_RF.feature_importances_)"
   ]
  },
  {
   "cell_type": "code",
   "execution_count": 135,
   "metadata": {},
   "outputs": [
    {
     "name": "stdout",
     "output_type": "stream",
     "text": [
      "[[1269   32   18   22   12    5    0   11   27   41]\n",
      " [  69  538   11    6   14    4    4   12   11   19]\n",
      " [ 116   29  482    6   11    7    2    8   17   14]\n",
      " [  40   15   14  367    4    4    4   10    9   15]\n",
      " [  71   18   13   13  522    8    2   16   24   31]\n",
      " [  28    5    2    0    9  363    8   14   20   13]\n",
      " [  40    4    9   12   16    2  501   24   31   44]\n",
      " [  40   16   11   11   11    9   12  805   44   70]\n",
      " [  62   14   13    6   13    8    8   50 1170  146]\n",
      " [  66   16   18    5   13    6    5   45  106 1648]]\n",
      "              precision    recall  f1-score   support\n",
      "\n",
      "         1.0       0.70      0.88      0.78      1437\n",
      "         2.0       0.78      0.78      0.78       688\n",
      "         3.0       0.82      0.70      0.75       692\n",
      "         4.0       0.82      0.76      0.79       482\n",
      "         5.0       0.84      0.73      0.78       718\n",
      "         6.0       0.87      0.79      0.83       462\n",
      "         7.0       0.92      0.73      0.82       683\n",
      "         8.0       0.81      0.78      0.80      1029\n",
      "         9.0       0.80      0.79      0.79      1490\n",
      "        10.0       0.81      0.85      0.83      1928\n",
      "\n",
      "   micro avg       0.80      0.80      0.80      9609\n",
      "   macro avg       0.82      0.78      0.79      9609\n",
      "weighted avg       0.80      0.80      0.80      9609\n",
      "\n",
      "0.7976896659381829\n"
     ]
    }
   ],
   "source": [
    "print(confusion_matrix(ytest,clf_RF_predictions))  \n",
    "print(classification_report(ytest,clf_RF_predictions))  \n",
    "print(accuracy_score(ytest, clf_RF_predictions))"
   ]
  },
  {
   "cell_type": "code",
   "execution_count": 136,
   "metadata": {},
   "outputs": [
    {
     "name": "stdout",
     "output_type": "stream",
     "text": [
      "{'bootstrap': True, 'class_weight': None, 'criterion': 'gini', 'max_depth': None, 'max_features': 'auto', 'max_leaf_nodes': None, 'min_impurity_decrease': 0.0, 'min_impurity_split': None, 'min_samples_leaf': 1, 'min_samples_split': 2, 'min_weight_fraction_leaf': 0.0, 'n_estimators': 10, 'n_jobs': None, 'oob_score': False, 'random_state': None, 'verbose': 0, 'warm_start': False}\n"
     ]
    }
   ],
   "source": [
    "print(clf_RF.get_params())"
   ]
  },
  {
   "cell_type": "code",
   "execution_count": 137,
   "metadata": {},
   "outputs": [
    {
     "data": {
      "text/html": [
       "<div>\n",
       "<style scoped>\n",
       "    .dataframe tbody tr th:only-of-type {\n",
       "        vertical-align: middle;\n",
       "    }\n",
       "\n",
       "    .dataframe tbody tr th {\n",
       "        vertical-align: top;\n",
       "    }\n",
       "\n",
       "    .dataframe thead th {\n",
       "        text-align: right;\n",
       "    }\n",
       "</style>\n",
       "<table border=\"1\" class=\"dataframe\">\n",
       "  <thead>\n",
       "    <tr style=\"text-align: right;\">\n",
       "      <th></th>\n",
       "      <th>imp</th>\n",
       "      <th>vars</th>\n",
       "    </tr>\n",
       "  </thead>\n",
       "  <tbody>\n",
       "    <tr>\n",
       "      <th>0</th>\n",
       "      <td>0.002518</td>\n",
       "      <td>absolut</td>\n",
       "    </tr>\n",
       "    <tr>\n",
       "      <th>1</th>\n",
       "      <td>0.007631</td>\n",
       "      <td>acn</td>\n",
       "    </tr>\n",
       "    <tr>\n",
       "      <th>2</th>\n",
       "      <td>0.002952</td>\n",
       "      <td>actual</td>\n",
       "    </tr>\n",
       "    <tr>\n",
       "      <th>3</th>\n",
       "      <td>0.004160</td>\n",
       "      <td>ago</td>\n",
       "    </tr>\n",
       "    <tr>\n",
       "      <th>4</th>\n",
       "      <td>0.005698</td>\n",
       "      <td>almost</td>\n",
       "    </tr>\n",
       "    <tr>\n",
       "      <th>5</th>\n",
       "      <td>0.007333</td>\n",
       "      <td>also</td>\n",
       "    </tr>\n",
       "    <tr>\n",
       "      <th>6</th>\n",
       "      <td>0.004265</td>\n",
       "      <td>alway</td>\n",
       "    </tr>\n",
       "    <tr>\n",
       "      <th>7</th>\n",
       "      <td>0.002962</td>\n",
       "      <td>anoth</td>\n",
       "    </tr>\n",
       "    <tr>\n",
       "      <th>8</th>\n",
       "      <td>0.004003</td>\n",
       "      <td>anxieti</td>\n",
       "    </tr>\n",
       "    <tr>\n",
       "      <th>9</th>\n",
       "      <td>0.002963</td>\n",
       "      <td>anyth</td>\n",
       "    </tr>\n",
       "    <tr>\n",
       "      <th>10</th>\n",
       "      <td>0.003227</td>\n",
       "      <td>around</td>\n",
       "    </tr>\n",
       "    <tr>\n",
       "      <th>11</th>\n",
       "      <td>0.003568</td>\n",
       "      <td>away</td>\n",
       "    </tr>\n",
       "    <tr>\n",
       "      <th>12</th>\n",
       "      <td>0.006179</td>\n",
       "      <td>back</td>\n",
       "    </tr>\n",
       "    <tr>\n",
       "      <th>13</th>\n",
       "      <td>0.006782</td>\n",
       "      <td>bad</td>\n",
       "    </tr>\n",
       "    <tr>\n",
       "      <th>14</th>\n",
       "      <td>0.003393</td>\n",
       "      <td>bc</td>\n",
       "    </tr>\n",
       "    <tr>\n",
       "      <th>15</th>\n",
       "      <td>0.004227</td>\n",
       "      <td>best</td>\n",
       "    </tr>\n",
       "    <tr>\n",
       "      <th>16</th>\n",
       "      <td>0.003906</td>\n",
       "      <td>better</td>\n",
       "    </tr>\n",
       "    <tr>\n",
       "      <th>17</th>\n",
       "      <td>0.008557</td>\n",
       "      <td>birth</td>\n",
       "    </tr>\n",
       "    <tr>\n",
       "      <th>18</th>\n",
       "      <td>0.008086</td>\n",
       "      <td>birth control</td>\n",
       "    </tr>\n",
       "    <tr>\n",
       "      <th>19</th>\n",
       "      <td>0.002874</td>\n",
       "      <td>bit</td>\n",
       "    </tr>\n",
       "    <tr>\n",
       "      <th>20</th>\n",
       "      <td>0.009186</td>\n",
       "      <td>bleed</td>\n",
       "    </tr>\n",
       "    <tr>\n",
       "      <th>21</th>\n",
       "      <td>0.003210</td>\n",
       "      <td>bloat</td>\n",
       "    </tr>\n",
       "    <tr>\n",
       "      <th>22</th>\n",
       "      <td>0.003950</td>\n",
       "      <td>bodi</td>\n",
       "    </tr>\n",
       "    <tr>\n",
       "      <th>23</th>\n",
       "      <td>0.003180</td>\n",
       "      <td>break</td>\n",
       "    </tr>\n",
       "    <tr>\n",
       "      <th>24</th>\n",
       "      <td>0.004853</td>\n",
       "      <td>breast</td>\n",
       "    </tr>\n",
       "    <tr>\n",
       "      <th>25</th>\n",
       "      <td>0.004270</td>\n",
       "      <td>cant</td>\n",
       "    </tr>\n",
       "    <tr>\n",
       "      <th>26</th>\n",
       "      <td>0.003798</td>\n",
       "      <td>caus</td>\n",
       "    </tr>\n",
       "    <tr>\n",
       "      <th>27</th>\n",
       "      <td>0.005238</td>\n",
       "      <td>chang</td>\n",
       "    </tr>\n",
       "    <tr>\n",
       "      <th>28</th>\n",
       "      <td>0.003541</td>\n",
       "      <td>clear</td>\n",
       "    </tr>\n",
       "    <tr>\n",
       "      <th>29</th>\n",
       "      <td>0.003503</td>\n",
       "      <td>come</td>\n",
       "    </tr>\n",
       "    <tr>\n",
       "      <th>...</th>\n",
       "      <td>...</td>\n",
       "      <td>...</td>\n",
       "    </tr>\n",
       "    <tr>\n",
       "      <th>169</th>\n",
       "      <td>0.003875</td>\n",
       "      <td>take pill</td>\n",
       "    </tr>\n",
       "    <tr>\n",
       "      <th>170</th>\n",
       "      <td>0.003059</td>\n",
       "      <td>taken</td>\n",
       "    </tr>\n",
       "    <tr>\n",
       "      <th>171</th>\n",
       "      <td>0.003828</td>\n",
       "      <td>terribl</td>\n",
       "    </tr>\n",
       "    <tr>\n",
       "      <th>172</th>\n",
       "      <td>0.002811</td>\n",
       "      <td>that</td>\n",
       "    </tr>\n",
       "    <tr>\n",
       "      <th>173</th>\n",
       "      <td>0.005331</td>\n",
       "      <td>thing</td>\n",
       "    </tr>\n",
       "    <tr>\n",
       "      <th>174</th>\n",
       "      <td>0.004856</td>\n",
       "      <td>think</td>\n",
       "    </tr>\n",
       "    <tr>\n",
       "      <th>175</th>\n",
       "      <td>0.003510</td>\n",
       "      <td>though</td>\n",
       "    </tr>\n",
       "    <tr>\n",
       "      <th>176</th>\n",
       "      <td>0.003289</td>\n",
       "      <td>thought</td>\n",
       "    </tr>\n",
       "    <tr>\n",
       "      <th>177</th>\n",
       "      <td>0.003158</td>\n",
       "      <td>three</td>\n",
       "    </tr>\n",
       "    <tr>\n",
       "      <th>178</th>\n",
       "      <td>0.008812</td>\n",
       "      <td>time</td>\n",
       "    </tr>\n",
       "    <tr>\n",
       "      <th>179</th>\n",
       "      <td>0.002479</td>\n",
       "      <td>told</td>\n",
       "    </tr>\n",
       "    <tr>\n",
       "      <th>180</th>\n",
       "      <td>0.004606</td>\n",
       "      <td>took</td>\n",
       "    </tr>\n",
       "    <tr>\n",
       "      <th>181</th>\n",
       "      <td>0.005818</td>\n",
       "      <td>tri</td>\n",
       "    </tr>\n",
       "    <tr>\n",
       "      <th>182</th>\n",
       "      <td>0.005821</td>\n",
       "      <td>two</td>\n",
       "    </tr>\n",
       "    <tr>\n",
       "      <th>183</th>\n",
       "      <td>0.006890</td>\n",
       "      <td>use</td>\n",
       "    </tr>\n",
       "    <tr>\n",
       "      <th>184</th>\n",
       "      <td>0.004590</td>\n",
       "      <td>want</td>\n",
       "    </tr>\n",
       "    <tr>\n",
       "      <th>185</th>\n",
       "      <td>0.002989</td>\n",
       "      <td>wasnt</td>\n",
       "    </tr>\n",
       "    <tr>\n",
       "      <th>186</th>\n",
       "      <td>0.002724</td>\n",
       "      <td>way</td>\n",
       "    </tr>\n",
       "    <tr>\n",
       "      <th>187</th>\n",
       "      <td>0.011487</td>\n",
       "      <td>week</td>\n",
       "    </tr>\n",
       "    <tr>\n",
       "      <th>188</th>\n",
       "      <td>0.008012</td>\n",
       "      <td>weight</td>\n",
       "    </tr>\n",
       "    <tr>\n",
       "      <th>189</th>\n",
       "      <td>0.004580</td>\n",
       "      <td>weight gain</td>\n",
       "    </tr>\n",
       "    <tr>\n",
       "      <th>190</th>\n",
       "      <td>0.004296</td>\n",
       "      <td>well</td>\n",
       "    </tr>\n",
       "    <tr>\n",
       "      <th>191</th>\n",
       "      <td>0.005055</td>\n",
       "      <td>went</td>\n",
       "    </tr>\n",
       "    <tr>\n",
       "      <th>192</th>\n",
       "      <td>0.005946</td>\n",
       "      <td>work</td>\n",
       "    </tr>\n",
       "    <tr>\n",
       "      <th>193</th>\n",
       "      <td>0.002739</td>\n",
       "      <td>worri</td>\n",
       "    </tr>\n",
       "    <tr>\n",
       "      <th>194</th>\n",
       "      <td>0.003195</td>\n",
       "      <td>wors</td>\n",
       "    </tr>\n",
       "    <tr>\n",
       "      <th>195</th>\n",
       "      <td>0.005879</td>\n",
       "      <td>worst</td>\n",
       "    </tr>\n",
       "    <tr>\n",
       "      <th>196</th>\n",
       "      <td>0.002956</td>\n",
       "      <td>worth</td>\n",
       "    </tr>\n",
       "    <tr>\n",
       "      <th>197</th>\n",
       "      <td>0.007506</td>\n",
       "      <td>would</td>\n",
       "    </tr>\n",
       "    <tr>\n",
       "      <th>198</th>\n",
       "      <td>0.010181</td>\n",
       "      <td>year</td>\n",
       "    </tr>\n",
       "  </tbody>\n",
       "</table>\n",
       "<p>199 rows × 2 columns</p>\n",
       "</div>"
      ],
      "text/plain": [
       "          imp           vars\n",
       "0    0.002518        absolut\n",
       "1    0.007631            acn\n",
       "2    0.002952         actual\n",
       "3    0.004160            ago\n",
       "4    0.005698         almost\n",
       "5    0.007333           also\n",
       "6    0.004265          alway\n",
       "7    0.002962          anoth\n",
       "8    0.004003        anxieti\n",
       "9    0.002963          anyth\n",
       "10   0.003227         around\n",
       "11   0.003568           away\n",
       "12   0.006179           back\n",
       "13   0.006782            bad\n",
       "14   0.003393             bc\n",
       "15   0.004227           best\n",
       "16   0.003906         better\n",
       "17   0.008557          birth\n",
       "18   0.008086  birth control\n",
       "19   0.002874            bit\n",
       "20   0.009186          bleed\n",
       "21   0.003210          bloat\n",
       "22   0.003950           bodi\n",
       "23   0.003180          break\n",
       "24   0.004853         breast\n",
       "25   0.004270           cant\n",
       "26   0.003798           caus\n",
       "27   0.005238          chang\n",
       "28   0.003541          clear\n",
       "29   0.003503           come\n",
       "..        ...            ...\n",
       "169  0.003875      take pill\n",
       "170  0.003059          taken\n",
       "171  0.003828        terribl\n",
       "172  0.002811           that\n",
       "173  0.005331          thing\n",
       "174  0.004856          think\n",
       "175  0.003510         though\n",
       "176  0.003289        thought\n",
       "177  0.003158          three\n",
       "178  0.008812           time\n",
       "179  0.002479           told\n",
       "180  0.004606           took\n",
       "181  0.005818            tri\n",
       "182  0.005821            two\n",
       "183  0.006890            use\n",
       "184  0.004590           want\n",
       "185  0.002989          wasnt\n",
       "186  0.002724            way\n",
       "187  0.011487           week\n",
       "188  0.008012         weight\n",
       "189  0.004580    weight gain\n",
       "190  0.004296           well\n",
       "191  0.005055           went\n",
       "192  0.005946           work\n",
       "193  0.002739          worri\n",
       "194  0.003195           wors\n",
       "195  0.005879          worst\n",
       "196  0.002956          worth\n",
       "197  0.007506          would\n",
       "198  0.010181           year\n",
       "\n",
       "[199 rows x 2 columns]"
      ]
     },
     "execution_count": 137,
     "metadata": {},
     "output_type": "execute_result"
    }
   ],
   "source": [
    "a = pd.DataFrame(data={'imp':clf_RF.feature_importances_,'vars':vectorizer.get_feature_names()})\n",
    "a"
   ]
  },
  {
   "cell_type": "code",
   "execution_count": 138,
   "metadata": {},
   "outputs": [
    {
     "data": {
      "text/html": [
       "<div>\n",
       "<style scoped>\n",
       "    .dataframe tbody tr th:only-of-type {\n",
       "        vertical-align: middle;\n",
       "    }\n",
       "\n",
       "    .dataframe tbody tr th {\n",
       "        vertical-align: top;\n",
       "    }\n",
       "\n",
       "    .dataframe thead th {\n",
       "        text-align: right;\n",
       "    }\n",
       "</style>\n",
       "<table border=\"1\" class=\"dataframe\">\n",
       "  <thead>\n",
       "    <tr style=\"text-align: right;\">\n",
       "      <th></th>\n",
       "      <th>imp</th>\n",
       "      <th>vars</th>\n",
       "    </tr>\n",
       "  </thead>\n",
       "  <tbody>\n",
       "    <tr>\n",
       "      <th>130</th>\n",
       "      <td>0.014950</td>\n",
       "      <td>period</td>\n",
       "    </tr>\n",
       "    <tr>\n",
       "      <th>113</th>\n",
       "      <td>0.014534</td>\n",
       "      <td>month</td>\n",
       "    </tr>\n",
       "    <tr>\n",
       "      <th>108</th>\n",
       "      <td>0.013953</td>\n",
       "      <td>love</td>\n",
       "    </tr>\n",
       "    <tr>\n",
       "      <th>70</th>\n",
       "      <td>0.012174</td>\n",
       "      <td>get</td>\n",
       "    </tr>\n",
       "    <tr>\n",
       "      <th>131</th>\n",
       "      <td>0.012169</td>\n",
       "      <td>pill</td>\n",
       "    </tr>\n",
       "    <tr>\n",
       "      <th>38</th>\n",
       "      <td>0.011778</td>\n",
       "      <td>day</td>\n",
       "    </tr>\n",
       "    <tr>\n",
       "      <th>97</th>\n",
       "      <td>0.011748</td>\n",
       "      <td>ive</td>\n",
       "    </tr>\n",
       "    <tr>\n",
       "      <th>90</th>\n",
       "      <td>0.011508</td>\n",
       "      <td>im</td>\n",
       "    </tr>\n",
       "    <tr>\n",
       "      <th>187</th>\n",
       "      <td>0.011487</td>\n",
       "      <td>week</td>\n",
       "    </tr>\n",
       "    <tr>\n",
       "      <th>168</th>\n",
       "      <td>0.010243</td>\n",
       "      <td>take</td>\n",
       "    </tr>\n",
       "    <tr>\n",
       "      <th>198</th>\n",
       "      <td>0.010181</td>\n",
       "      <td>year</td>\n",
       "    </tr>\n",
       "    <tr>\n",
       "      <th>66</th>\n",
       "      <td>0.009547</td>\n",
       "      <td>first</td>\n",
       "    </tr>\n",
       "    <tr>\n",
       "      <th>161</th>\n",
       "      <td>0.009306</td>\n",
       "      <td>start</td>\n",
       "    </tr>\n",
       "    <tr>\n",
       "      <th>74</th>\n",
       "      <td>0.009283</td>\n",
       "      <td>got</td>\n",
       "    </tr>\n",
       "    <tr>\n",
       "      <th>35</th>\n",
       "      <td>0.009201</td>\n",
       "      <td>cramp</td>\n",
       "    </tr>\n",
       "    <tr>\n",
       "      <th>20</th>\n",
       "      <td>0.009186</td>\n",
       "      <td>bleed</td>\n",
       "    </tr>\n",
       "    <tr>\n",
       "      <th>178</th>\n",
       "      <td>0.008812</td>\n",
       "      <td>time</td>\n",
       "    </tr>\n",
       "    <tr>\n",
       "      <th>17</th>\n",
       "      <td>0.008557</td>\n",
       "      <td>birth</td>\n",
       "    </tr>\n",
       "    <tr>\n",
       "      <th>32</th>\n",
       "      <td>0.008390</td>\n",
       "      <td>control</td>\n",
       "    </tr>\n",
       "    <tr>\n",
       "      <th>103</th>\n",
       "      <td>0.008377</td>\n",
       "      <td>like</td>\n",
       "    </tr>\n",
       "    <tr>\n",
       "      <th>68</th>\n",
       "      <td>0.008277</td>\n",
       "      <td>gain</td>\n",
       "    </tr>\n",
       "    <tr>\n",
       "      <th>94</th>\n",
       "      <td>0.008118</td>\n",
       "      <td>insert</td>\n",
       "    </tr>\n",
       "    <tr>\n",
       "      <th>18</th>\n",
       "      <td>0.008086</td>\n",
       "      <td>birth control</td>\n",
       "    </tr>\n",
       "    <tr>\n",
       "      <th>157</th>\n",
       "      <td>0.008047</td>\n",
       "      <td>sinc</td>\n",
       "    </tr>\n",
       "    <tr>\n",
       "      <th>188</th>\n",
       "      <td>0.008012</td>\n",
       "      <td>weight</td>\n",
       "    </tr>\n",
       "    <tr>\n",
       "      <th>129</th>\n",
       "      <td>0.007913</td>\n",
       "      <td>pain</td>\n",
       "    </tr>\n",
       "    <tr>\n",
       "      <th>1</th>\n",
       "      <td>0.007631</td>\n",
       "      <td>acn</td>\n",
       "    </tr>\n",
       "    <tr>\n",
       "      <th>197</th>\n",
       "      <td>0.007506</td>\n",
       "      <td>would</td>\n",
       "    </tr>\n",
       "    <tr>\n",
       "      <th>41</th>\n",
       "      <td>0.007502</td>\n",
       "      <td>depress</td>\n",
       "    </tr>\n",
       "    <tr>\n",
       "      <th>160</th>\n",
       "      <td>0.007462</td>\n",
       "      <td>spot</td>\n",
       "    </tr>\n",
       "    <tr>\n",
       "      <th>...</th>\n",
       "      <td>...</td>\n",
       "      <td>...</td>\n",
       "    </tr>\n",
       "    <tr>\n",
       "      <th>7</th>\n",
       "      <td>0.002962</td>\n",
       "      <td>anoth</td>\n",
       "    </tr>\n",
       "    <tr>\n",
       "      <th>196</th>\n",
       "      <td>0.002956</td>\n",
       "      <td>worth</td>\n",
       "    </tr>\n",
       "    <tr>\n",
       "      <th>2</th>\n",
       "      <td>0.002952</td>\n",
       "      <td>actual</td>\n",
       "    </tr>\n",
       "    <tr>\n",
       "      <th>167</th>\n",
       "      <td>0.002948</td>\n",
       "      <td>symptom</td>\n",
       "    </tr>\n",
       "    <tr>\n",
       "      <th>51</th>\n",
       "      <td>0.002930</td>\n",
       "      <td>end</td>\n",
       "    </tr>\n",
       "    <tr>\n",
       "      <th>34</th>\n",
       "      <td>0.002926</td>\n",
       "      <td>coupl</td>\n",
       "    </tr>\n",
       "    <tr>\n",
       "      <th>30</th>\n",
       "      <td>0.002923</td>\n",
       "      <td>complet</td>\n",
       "    </tr>\n",
       "    <tr>\n",
       "      <th>65</th>\n",
       "      <td>0.002906</td>\n",
       "      <td>fine</td>\n",
       "    </tr>\n",
       "    <tr>\n",
       "      <th>19</th>\n",
       "      <td>0.002874</td>\n",
       "      <td>bit</td>\n",
       "    </tr>\n",
       "    <tr>\n",
       "      <th>39</th>\n",
       "      <td>0.002844</td>\n",
       "      <td>decid</td>\n",
       "    </tr>\n",
       "    <tr>\n",
       "      <th>56</th>\n",
       "      <td>0.002837</td>\n",
       "      <td>everyth</td>\n",
       "    </tr>\n",
       "    <tr>\n",
       "      <th>63</th>\n",
       "      <td>0.002828</td>\n",
       "      <td>feel like</td>\n",
       "    </tr>\n",
       "    <tr>\n",
       "      <th>36</th>\n",
       "      <td>0.002827</td>\n",
       "      <td>crazi</td>\n",
       "    </tr>\n",
       "    <tr>\n",
       "      <th>172</th>\n",
       "      <td>0.002811</td>\n",
       "      <td>that</td>\n",
       "    </tr>\n",
       "    <tr>\n",
       "      <th>47</th>\n",
       "      <td>0.002787</td>\n",
       "      <td>due</td>\n",
       "    </tr>\n",
       "    <tr>\n",
       "      <th>138</th>\n",
       "      <td>0.002781</td>\n",
       "      <td>read</td>\n",
       "    </tr>\n",
       "    <tr>\n",
       "      <th>146</th>\n",
       "      <td>0.002774</td>\n",
       "      <td>said</td>\n",
       "    </tr>\n",
       "    <tr>\n",
       "      <th>60</th>\n",
       "      <td>0.002744</td>\n",
       "      <td>face</td>\n",
       "    </tr>\n",
       "    <tr>\n",
       "      <th>193</th>\n",
       "      <td>0.002739</td>\n",
       "      <td>worri</td>\n",
       "    </tr>\n",
       "    <tr>\n",
       "      <th>186</th>\n",
       "      <td>0.002724</td>\n",
       "      <td>way</td>\n",
       "    </tr>\n",
       "    <tr>\n",
       "      <th>111</th>\n",
       "      <td>0.002701</td>\n",
       "      <td>may</td>\n",
       "    </tr>\n",
       "    <tr>\n",
       "      <th>89</th>\n",
       "      <td>0.002690</td>\n",
       "      <td>hurt</td>\n",
       "    </tr>\n",
       "    <tr>\n",
       "      <th>87</th>\n",
       "      <td>0.002658</td>\n",
       "      <td>hour</td>\n",
       "    </tr>\n",
       "    <tr>\n",
       "      <th>159</th>\n",
       "      <td>0.002646</td>\n",
       "      <td>someth</td>\n",
       "    </tr>\n",
       "    <tr>\n",
       "      <th>0</th>\n",
       "      <td>0.002518</td>\n",
       "      <td>absolut</td>\n",
       "    </tr>\n",
       "    <tr>\n",
       "      <th>179</th>\n",
       "      <td>0.002479</td>\n",
       "      <td>told</td>\n",
       "    </tr>\n",
       "    <tr>\n",
       "      <th>145</th>\n",
       "      <td>0.002437</td>\n",
       "      <td>right</td>\n",
       "    </tr>\n",
       "    <tr>\n",
       "      <th>55</th>\n",
       "      <td>0.002412</td>\n",
       "      <td>everyon</td>\n",
       "    </tr>\n",
       "    <tr>\n",
       "      <th>119</th>\n",
       "      <td>0.002392</td>\n",
       "      <td>negat</td>\n",
       "    </tr>\n",
       "    <tr>\n",
       "      <th>126</th>\n",
       "      <td>0.002329</td>\n",
       "      <td>old</td>\n",
       "    </tr>\n",
       "  </tbody>\n",
       "</table>\n",
       "<p>199 rows × 2 columns</p>\n",
       "</div>"
      ],
      "text/plain": [
       "          imp           vars\n",
       "130  0.014950         period\n",
       "113  0.014534          month\n",
       "108  0.013953           love\n",
       "70   0.012174            get\n",
       "131  0.012169           pill\n",
       "38   0.011778            day\n",
       "97   0.011748            ive\n",
       "90   0.011508             im\n",
       "187  0.011487           week\n",
       "168  0.010243           take\n",
       "198  0.010181           year\n",
       "66   0.009547          first\n",
       "161  0.009306          start\n",
       "74   0.009283            got\n",
       "35   0.009201          cramp\n",
       "20   0.009186          bleed\n",
       "178  0.008812           time\n",
       "17   0.008557          birth\n",
       "32   0.008390        control\n",
       "103  0.008377           like\n",
       "68   0.008277           gain\n",
       "94   0.008118         insert\n",
       "18   0.008086  birth control\n",
       "157  0.008047           sinc\n",
       "188  0.008012         weight\n",
       "129  0.007913           pain\n",
       "1    0.007631            acn\n",
       "197  0.007506          would\n",
       "41   0.007502        depress\n",
       "160  0.007462           spot\n",
       "..        ...            ...\n",
       "7    0.002962          anoth\n",
       "196  0.002956          worth\n",
       "2    0.002952         actual\n",
       "167  0.002948        symptom\n",
       "51   0.002930            end\n",
       "34   0.002926          coupl\n",
       "30   0.002923        complet\n",
       "65   0.002906           fine\n",
       "19   0.002874            bit\n",
       "39   0.002844          decid\n",
       "56   0.002837        everyth\n",
       "63   0.002828      feel like\n",
       "36   0.002827          crazi\n",
       "172  0.002811           that\n",
       "47   0.002787            due\n",
       "138  0.002781           read\n",
       "146  0.002774           said\n",
       "60   0.002744           face\n",
       "193  0.002739          worri\n",
       "186  0.002724            way\n",
       "111  0.002701            may\n",
       "89   0.002690           hurt\n",
       "87   0.002658           hour\n",
       "159  0.002646         someth\n",
       "0    0.002518        absolut\n",
       "179  0.002479           told\n",
       "145  0.002437          right\n",
       "55   0.002412        everyon\n",
       "119  0.002392          negat\n",
       "126  0.002329            old\n",
       "\n",
       "[199 rows x 2 columns]"
      ]
     },
     "execution_count": 138,
     "metadata": {},
     "output_type": "execute_result"
    }
   ],
   "source": [
    "a.sort_values(by = 'imp' , ascending = False)"
   ]
  },
  {
   "cell_type": "markdown",
   "metadata": {},
   "source": [
    "The 80% is the prediction by Random Forest by its default hyper-parameters. We now fine tune the model with best parameters so we can see the change, hopefully an increase, in the prediction."
   ]
  },
  {
   "cell_type": "code",
   "execution_count": 139,
   "metadata": {},
   "outputs": [
    {
     "name": "stdout",
     "output_type": "stream",
     "text": [
      "{'max_features': 'log2', 'n_estimators': 300}\n"
     ]
    }
   ],
   "source": [
    "#gridsearch and hyperparameter tuning (on the TRAIN set) #THIS CELL IS 24K GOLD! \n",
    "param_grid = {'n_estimators': [100, 200, 300, 500], 'max_features': ['auto', None, 'log2']}\n",
    "clf_RF = GridSearchCV(RandomForestClassifier(random_state=42), param_grid, cv=5, scoring='accuracy')\n",
    "clf_RF.fit(xtrain, ytrain)\n",
    "print(clf_RF.best_params_)"
   ]
  },
  {
   "cell_type": "code",
   "execution_count": 141,
   "metadata": {},
   "outputs": [],
   "source": [
    "clf_RF = RandomForestClassifier(n_estimators=300, max_features='log2', random_state=42)\n",
    "clf_RF.fit(xtrain, ytrain)\n",
    "clf_RF_predictions = clf_RF.predict(xtest)"
   ]
  },
  {
   "cell_type": "code",
   "execution_count": 142,
   "metadata": {},
   "outputs": [
    {
     "name": "stdout",
     "output_type": "stream",
     "text": [
      "[[1364    4    0    0    0    0    0    4    8   57]\n",
      " [ 113  537    0    0    0    0    0    6    8   24]\n",
      " [ 139    4  476    0    6    0    0    6   16   45]\n",
      " [  59    0    2  372    2    0    0    6   20   21]\n",
      " [  91    0    2    0  520    0    0   11   31   63]\n",
      " [  29    0    2    0    0  360    0    9   15   47]\n",
      " [  44    0    0    0    5    0  495   12   40   87]\n",
      " [  43    0    2    0    2    0    0  781   62  139]\n",
      " [  27    2    0    0    0    0    0   22 1171  268]\n",
      " [  54    0    0    0    0    0    0    7   49 1818]]\n",
      "              precision    recall  f1-score   support\n",
      "\n",
      "         1.0       0.69      0.95      0.80      1437\n",
      "         2.0       0.98      0.78      0.87       688\n",
      "         3.0       0.98      0.69      0.81       692\n",
      "         4.0       1.00      0.77      0.87       482\n",
      "         5.0       0.97      0.72      0.83       718\n",
      "         6.0       1.00      0.78      0.88       462\n",
      "         7.0       1.00      0.72      0.84       683\n",
      "         8.0       0.90      0.76      0.83      1029\n",
      "         9.0       0.82      0.79      0.80      1490\n",
      "        10.0       0.71      0.94      0.81      1928\n",
      "\n",
      "   micro avg       0.82      0.82      0.82      9609\n",
      "   macro avg       0.91      0.79      0.83      9609\n",
      "weighted avg       0.85      0.82      0.82      9609\n",
      "\n",
      "0.821521490269539\n"
     ]
    }
   ],
   "source": [
    "print(confusion_matrix(ytest,clf_RF_predictions))  \n",
    "print(classification_report(ytest,clf_RF_predictions))  \n",
    "print(accuracy_score(ytest, clf_RF_predictions))"
   ]
  },
  {
   "cell_type": "markdown",
   "metadata": {},
   "source": [
    "Surpisingly and gladly the performance of Random Forest on the (1,2) gram was tremendously improved. Here, we see an 82% accuracy on the prediction on the actual rating of between 1 to 10 of a review, which is very impressive."
   ]
  },
  {
   "cell_type": "code",
   "execution_count": 143,
   "metadata": {},
   "outputs": [
    {
     "data": {
      "text/plain": [
       "0.821521490269539"
      ]
     },
     "execution_count": 143,
     "metadata": {},
     "output_type": "execute_result"
    }
   ],
   "source": [
    "from sklearn.datasets import make_classification\n",
    "clf_RF.score(xtest, ytest, sample_weight=None)"
   ]
  },
  {
   "cell_type": "markdown",
   "metadata": {},
   "source": [
    "### Checking outside the corpus review rating\n",
    "In order to verify our machine learning performance, we choose a review from outside the entire data set so see the prediction of the review by our algorithm. The review we chose is: \"i loved this birth control. i used to have so much bloating with my previous pills and this one is honestly the best. my sex drive is better and I don't have side effects of wieght gain.\" This review of the birth control review is a 10-star. Let's see what our machine predicts through Random Forest."
   ]
  },
  {
   "cell_type": "code",
   "execution_count": 144,
   "metadata": {},
   "outputs": [],
   "source": [
    "normalize_corpus_outside = normalize_corpus([\"i loved this birth control. i used to have so much bloating with my previous pills and this one is honestly the best. my sex drive is better and I don't have side effects of wieght gain.\"] ) \n",
    "# pre process, I do the count vectorizer, model.predict (on the verized form)"
   ]
  },
  {
   "cell_type": "code",
   "execution_count": 145,
   "metadata": {},
   "outputs": [],
   "source": [
    "x = vectorizer.transform(normalize_corpus_outside)"
   ]
  },
  {
   "cell_type": "code",
   "execution_count": 146,
   "metadata": {},
   "outputs": [
    {
     "name": "stdout",
     "output_type": "stream",
     "text": [
      "The prediction on the rating for this review is: [10.]\n"
     ]
    }
   ],
   "source": [
    "clf_RF.predict(x)\n",
    "print(\"The prediction on the rating for this review is: \" + str(clf_RF.predict(x)))"
   ]
  },
  {
   "cell_type": "markdown",
   "metadata": {},
   "source": [
    "In the following cells, we have normalized the corpus for other conditions, such as depression, pain and anxiety. We have followed all the steps that we did for the Birth Control and used Random Forest as our feature predicting model."
   ]
  },
  {
   "cell_type": "markdown",
   "metadata": {},
   "source": [
    "#### Depression"
   ]
  },
  {
   "cell_type": "code",
   "execution_count": 147,
   "metadata": {},
   "outputs": [],
   "source": [
    "norm_corpus_D = normalize_corpus(df2[df2['condition'] == 'Depression'].review)\n"
   ]
  },
  {
   "cell_type": "code",
   "execution_count": 148,
   "metadata": {},
   "outputs": [
    {
     "data": {
      "text/plain": [
       "[('depress', 9308),\n",
       " ('take', 8613),\n",
       " ('feel', 8433),\n",
       " ('mg', 7995),\n",
       " ('day', 6832),\n",
       " ('effect', 6674),\n",
       " ('year', 5806),\n",
       " ('week', 5664),\n",
       " ('side', 5424),\n",
       " ('work', 5353),\n",
       " ('start', 5261),\n",
       " ('month', 4714),\n",
       " ('anxieti', 4674),\n",
       " ('im', 4345),\n",
       " ('like', 4249),\n",
       " ('help', 4242),\n",
       " ('medic', 3905),\n",
       " ('life', 3884),\n",
       " ('time', 3825),\n",
       " ('tri', 3736),\n",
       " ('ive', 3729),\n",
       " ('get', 3585),\n",
       " ('first', 3486),\n",
       " ('felt', 3143),\n",
       " ('better', 3143),\n",
       " ('sleep', 2807),\n",
       " ('go', 2745),\n",
       " ('doctor', 2734),\n",
       " ('medicin', 2708),\n",
       " ('back', 2593),\n",
       " ('much', 2483),\n",
       " ('would', 2421),\n",
       " ('also', 2418),\n",
       " ('one', 2203),\n",
       " ('realli', 2192),\n",
       " ('drug', 2190),\n",
       " ('good', 2128),\n",
       " ('dose', 2090),\n",
       " ('still', 2037),\n",
       " ('weight', 1999)]"
      ]
     },
     "execution_count": 148,
     "metadata": {},
     "output_type": "execute_result"
    }
   ],
   "source": [
    "get_top_n_words(normalize_corpus(df2[df2['condition'] == 'Depression'].review), n=40)  #None\n"
   ]
  },
  {
   "cell_type": "code",
   "execution_count": 149,
   "metadata": {},
   "outputs": [
    {
     "name": "stdout",
     "output_type": "stream",
     "text": [
      "\n",
      "Transformed text vector is \n",
      " [[0 1 0 ... 0 1 0]\n",
      " [0 0 0 ... 0 1 0]\n",
      " [0 0 0 ... 0 0 1]\n",
      " ...\n",
      " [0 0 0 ... 0 1 0]\n",
      " [0 0 0 ... 0 0 1]\n",
      " [0 0 0 ... 0 0 0]]\n",
      "Words for each feature:\n",
      "['abl', 'actual', 'ago', 'almost', 'also', 'alway', 'antidepress', 'anxieti', 'anyth', 'appetit', 'attack', 'away', 'back', 'bad', 'bed', 'best', 'better', 'cant', 'caus', 'celexa', 'chang', 'come', 'complet', 'could', 'couldnt', 'coupl', 'cri', 'cymbalta', 'day', 'depress', 'depress anxieti', 'didnt', 'differ', 'disord', 'doctor', 'dont', 'dose', 'drive', 'drug', 'due', 'eat', 'effect', 'effexor', 'energi', 'even', 'ever', 'everi', 'everyth', 'experi', 'experienc', 'extrem', 'far', 'feel', 'feel like', 'felt', 'final', 'first', 'first week', 'found', 'gain', 'gave', 'get', 'give', 'go', 'gone', 'good', 'got', 'great', 'happi', 'headach', 'help', 'high', 'hope', 'horribl', 'hour', 'howev', 'im', 'improv', 'increas', 'insomnia', 'issu', 'ive', 'know', 'last', 'less', 'lexapro', 'life', 'like', 'littl', 'long', 'lost', 'lot', 'love', 'made', 'major', 'make', 'mani', 'med', 'medic', 'medicin', 'mg', 'month', 'mood', 'morn', 'much', 'much better', 'nausea', 'need', 'never', 'night', 'normal', 'noth', 'notic', 'old', 'one', 'pain', 'panic', 'past', 'peopl', 'person', 'pill', 'posit', 'prescrib', 'pristiq', 'problem', 'prozac', 'put', 'quit', 'realli', 'recommend', 'say', 'see', 'seem', 'sever', 'sex', 'side', 'side effect', 'sinc', 'sleep', 'someth', 'start', 'start mg', 'start take', 'still', 'stop', 'suffer', 'suicid', 'switch', 'symptom', 'take', 'take mg', 'taken', 'thing', 'think', 'though', 'thought', 'time', 'tire', 'took', 'tri', 'two', 'use', 'want', 'way', 'week', 'weight', 'weight gain', 'well', 'wellbutrin', 'went', 'withdraw', 'within', 'without', 'wonder', 'work', 'wors', 'would', 'year', 'zoloft']\n"
     ]
    }
   ],
   "source": [
    "# So now, let's change the ngram to (1,2)\n",
    "vectorizer = CountVectorizer(ngram_range=(1,2), min_df=0.05, max_df=1.0, max_features=500)\n",
    "\n",
    "# call `fit` to build the vocabulary\n",
    "vectorizer.fit(norm_corpus_D)\n",
    "\n",
    "# call `transform` to convert text to a bag of words\n",
    "x = vectorizer.transform(norm_corpus_D)\n",
    "\n",
    "# CountVectorizer uses a sparse array to save memory, but it's easier in this assignment to \n",
    "# convert back to a \"normal\" numpy array\n",
    "x = x.toarray()  # this is for visualization purposes \n",
    "\n",
    "print()\n",
    "print(\"Transformed text vector is \\n\", x)\n",
    "\n",
    "# `get_feature_names` tracks which word is associated with each column of the transformed x\n",
    "print\n",
    "print(\"Words for each feature:\")\n",
    "print(vectorizer.get_feature_names())  # visualization"
   ]
  },
  {
   "cell_type": "code",
   "execution_count": 150,
   "metadata": {},
   "outputs": [],
   "source": [
    "y = df2[df2['condition'] == 'Depression'].rating  # df2['rating']\n",
    "xtrain, xtest, ytrain, ytest = train_test_split(x, y)  #(default=0.25)"
   ]
  },
  {
   "cell_type": "code",
   "execution_count": 151,
   "metadata": {},
   "outputs": [
    {
     "name": "stderr",
     "output_type": "stream",
     "text": [
      "/anaconda3/lib/python3.7/site-packages/sklearn/ensemble/forest.py:246: FutureWarning: The default value of n_estimators will change from 10 in version 0.20 to 100 in 0.22.\n",
      "  \"10 in version 0.20 to 100 in 0.22.\", FutureWarning)\n"
     ]
    }
   ],
   "source": [
    "#regressor target variables rating is \n",
    "# Train the model with Random Foprest Classifier     \n",
    "clf_RF = RandomForestClassifier()  \n",
    "#n_jobs=2 number of cores the computer uses, n_estimators = 500 (number of trees)  startt 50 \n",
    "clf_RF.fit(xtrain, ytrain)  \n",
    "# predict and evaluate performance\n",
    "clf_RF_predictions = clf_RF.predict(xtest)"
   ]
  },
  {
   "cell_type": "code",
   "execution_count": 152,
   "metadata": {},
   "outputs": [
    {
     "name": "stdout",
     "output_type": "stream",
     "text": [
      "[0.00320825 0.00353157 0.00550825 0.00404115 0.00787409 0.00315969\n",
      " 0.00552871 0.01016308 0.00328143 0.00295938 0.00346933 0.00429296\n",
      " 0.00761333 0.00640773 0.00294667 0.00403797 0.00811344 0.00377463\n",
      " 0.00482529 0.00399353 0.00485384 0.00385214 0.00350496 0.00535979\n",
      " 0.00375374 0.00357105 0.00372374 0.00438217 0.01271823 0.01516489\n",
      " 0.00378175 0.00679153 0.00581603 0.00335648 0.00818984 0.00588541\n",
      " 0.0067578  0.00282778 0.00731825 0.00329491 0.00358829 0.01015777\n",
      " 0.00507944 0.00497759 0.00524787 0.00416254 0.00375646 0.00309191\n",
      " 0.00443866 0.0056765  0.00386601 0.00412688 0.01542167 0.00425138\n",
      " 0.00816894 0.00350974 0.00941165 0.00266755 0.00344199 0.00587069\n",
      " 0.0032272  0.01073272 0.00450044 0.00774135 0.00265879 0.00657136\n",
      " 0.00469564 0.0060423  0.00449563 0.00468013 0.01046668 0.00267784\n",
      " 0.00569262 0.00357218 0.00337355 0.00542969 0.01075679 0.00471874\n",
      " 0.0058467  0.00447719 0.00271438 0.00969234 0.00293731 0.00398593\n",
      " 0.00429276 0.00575463 0.01330042 0.00991396 0.00509555 0.00360509\n",
      " 0.00338135 0.00599041 0.00349794 0.00626625 0.00353521 0.00563544\n",
      " 0.00473682 0.00402099 0.01121258 0.0099674  0.01377489 0.0116043\n",
      " 0.00640014 0.00359645 0.00740425 0.00280124 0.0058408  0.00418231\n",
      " 0.00474261 0.00627856 0.00417816 0.00355677 0.00642204 0.00282341\n",
      " 0.00712596 0.00372868 0.00352219 0.00315327 0.00378229 0.00231381\n",
      " 0.00334592 0.00319546 0.00521329 0.00451914 0.00433871 0.00486847\n",
      " 0.00571044 0.00311511 0.00792631 0.00333283 0.00431733 0.00536812\n",
      " 0.00595275 0.00572464 0.00320984 0.00661484 0.00720824 0.00502278\n",
      " 0.00940075 0.00327794 0.01148023 0.00301215 0.00356459 0.00680742\n",
      " 0.00736104 0.00419097 0.00387174 0.00385581 0.00463689 0.01545175\n",
      " 0.00390441 0.00442882 0.00616562 0.00565568 0.00260688 0.00663975\n",
      " 0.01009638 0.00478755 0.00590061 0.01006277 0.00543849 0.00548047\n",
      " 0.00365959 0.00354888 0.01117948 0.00545515 0.00252418 0.00641487\n",
      " 0.00553084 0.00540572 0.00360449 0.00287985 0.00299653 0.0035235\n",
      " 0.01290834 0.00676319 0.00679287 0.01097111 0.00510367]\n"
     ]
    }
   ],
   "source": [
    "print(clf_RF.feature_importances_)"
   ]
  },
  {
   "cell_type": "code",
   "execution_count": 153,
   "metadata": {},
   "outputs": [
    {
     "name": "stdout",
     "output_type": "stream",
     "text": [
      "{'bootstrap': True, 'class_weight': None, 'criterion': 'gini', 'max_depth': None, 'max_features': 'auto', 'max_leaf_nodes': None, 'min_impurity_decrease': 0.0, 'min_impurity_split': None, 'min_samples_leaf': 1, 'min_samples_split': 2, 'min_weight_fraction_leaf': 0.0, 'n_estimators': 10, 'n_jobs': None, 'oob_score': False, 'random_state': None, 'verbose': 0, 'warm_start': False}\n"
     ]
    }
   ],
   "source": [
    "print(clf_RF.get_params())"
   ]
  },
  {
   "cell_type": "code",
   "execution_count": 154,
   "metadata": {},
   "outputs": [
    {
     "name": "stdout",
     "output_type": "stream",
     "text": [
      "{'max_features': 'auto', 'n_estimators': 300}\n"
     ]
    }
   ],
   "source": [
    "#gridsearch and hyperparameter tuning (on the TRAIN set) #THIS CELL IS 24K GOLD! \n",
    "param_grid = {'n_estimators': [100, 200, 300, 500], 'max_features': ['auto', None, 'log2']}\n",
    "clf_RF = GridSearchCV(RandomForestClassifier(random_state=42), param_grid, cv=5, scoring='accuracy')\n",
    "clf_RF.fit(xtrain, ytrain)\n",
    "print(clf_RF.best_params_)"
   ]
  },
  {
   "cell_type": "code",
   "execution_count": 155,
   "metadata": {},
   "outputs": [],
   "source": [
    "clf_RF = RandomForestClassifier(n_estimators=300, max_features='auto', random_state=42)\n",
    "clf_RF.fit(xtrain, ytrain)\n",
    "clf_RF_predictions = clf_RF.predict(xtest)"
   ]
  },
  {
   "cell_type": "code",
   "execution_count": 156,
   "metadata": {},
   "outputs": [
    {
     "name": "stdout",
     "output_type": "stream",
     "text": [
      "[[266   1   0   0   1   0   0   4   9  54]\n",
      " [ 13  87   1   0   0   0   0   2  10  17]\n",
      " [  9   0  86   0   1   0   0   2   4  21]\n",
      " [  6   0   0  51   0   0   0   5  10  16]\n",
      " [  4   0   0   0  90   1   1   3   8  23]\n",
      " [  4   0   0   0   0  86   0   4  15  23]\n",
      " [  9   2   0   0   0   0 147  14  22  33]\n",
      " [ 18   0   0   0   0   0   0 253  46 101]\n",
      " [ 14   2   0   0   0   1   0  10 393 177]\n",
      " [ 15   2   0   0   0   0   0  10  50 784]]\n",
      "              precision    recall  f1-score   support\n",
      "\n",
      "         1.0       0.74      0.79      0.77       335\n",
      "         2.0       0.93      0.67      0.78       130\n",
      "         3.0       0.99      0.70      0.82       123\n",
      "         4.0       1.00      0.58      0.73        88\n",
      "         5.0       0.98      0.69      0.81       130\n",
      "         6.0       0.98      0.65      0.78       132\n",
      "         7.0       0.99      0.65      0.78       227\n",
      "         8.0       0.82      0.61      0.70       418\n",
      "         9.0       0.69      0.66      0.68       597\n",
      "        10.0       0.63      0.91      0.74       861\n",
      "\n",
      "   micro avg       0.74      0.74      0.74      3041\n",
      "   macro avg       0.88      0.69      0.76      3041\n",
      "weighted avg       0.78      0.74      0.74      3041\n",
      "\n",
      "0.7375863202893785\n"
     ]
    }
   ],
   "source": [
    "print(confusion_matrix(ytest,clf_RF_predictions))  \n",
    "print(classification_report(ytest,clf_RF_predictions))  \n",
    "print(accuracy_score(ytest, clf_RF_predictions))"
   ]
  },
  {
   "cell_type": "markdown",
   "metadata": {},
   "source": [
    "\n",
    "As we see, the prediction is at 74%, which is 8% lower than the prediction for reviews on the birth contrl. We need to note that the review count for Depression is less than a third, 0.32, of the review counts for birth control so the machine learning techniques won't have sufficient data to train and hence predict."
   ]
  },
  {
   "cell_type": "code",
   "execution_count": 157,
   "metadata": {},
   "outputs": [
    {
     "data": {
      "text/plain": [
       "12164"
      ]
     },
     "execution_count": 157,
     "metadata": {},
     "output_type": "execute_result"
    }
   ],
   "source": [
    "df2[df2['condition'] == 'Depression'].review.count()\n"
   ]
  },
  {
   "cell_type": "markdown",
   "metadata": {},
   "source": [
    "Here, we attempt to tackle the prediction by using (2,2) gram but as we will see in the next few cells, the prediction rate is not as high as the (1,2) gram that we performed."
   ]
  },
  {
   "cell_type": "code",
   "execution_count": 158,
   "metadata": {},
   "outputs": [
    {
     "name": "stdout",
     "output_type": "stream",
     "text": [
      "\n",
      "Transformed text vector is \n",
      " [[0 0 0 ... 0 0 1]\n",
      " [0 0 0 ... 0 0 0]\n",
      " [0 0 0 ... 0 0 0]\n",
      " ...\n",
      " [0 0 0 ... 0 0 0]\n",
      " [0 0 0 ... 0 0 0]\n",
      " [0 0 0 ... 0 0 0]]\n",
      "Words for each feature:\n",
      "['depress anxieti', 'feel like', 'first week', 'much better', 'side effect', 'start mg', 'start take', 'take mg', 'weight gain']\n"
     ]
    }
   ],
   "source": [
    "# (2,2) gram\n",
    "vectorizer = CountVectorizer(ngram_range=(2,2), min_df=0.05, max_df=1.0, max_features=500)\n",
    "# call `fit` to build the vocabulary\n",
    "vectorizer.fit(norm_corpus_D)   #fit is enough and then vectorizer.transform(normalized_outside_corpus)\n",
    "# call `transform` to convert text to a bag of words\n",
    "x = vectorizer.transform(norm_corpus_D)\n",
    "# CountVectorizer uses a sparse array to save memory, but it's easier in this assignment to \n",
    "# convert back to a \"normal\" numpy array\n",
    "x = x.toarray()  # this is for visualization purposes \n",
    "print()\n",
    "print(\"Transformed text vector is \\n\", x)\n",
    "# `get_feature_names` tracks which word is associated with each column of the transformed x\n",
    "print\n",
    "print(\"Words for each feature:\")\n",
    "print(vectorizer.get_feature_names())  # visualization \n",
    "y = df2[df2['condition'] == 'Depression'].rating  # df2['rating']\n",
    "xtrain, xtest, ytrain, ytest = train_test_split(x, y)  #(default=0.25)"
   ]
  },
  {
   "cell_type": "code",
   "execution_count": 159,
   "metadata": {},
   "outputs": [
    {
     "name": "stderr",
     "output_type": "stream",
     "text": [
      "/anaconda3/lib/python3.7/site-packages/sklearn/ensemble/forest.py:246: FutureWarning: The default value of n_estimators will change from 10 in version 0.20 to 100 in 0.22.\n",
      "  \"10 in version 0.20 to 100 in 0.22.\", FutureWarning)\n"
     ]
    }
   ],
   "source": [
    "#regressor target variables rating is \n",
    "# Train the model with Random Foprest Classifier     \n",
    "clf_RF = RandomForestClassifier()  \n",
    "#n_jobs=2 number of cores the computer uses, n_estimators = 500 (number of trees)  startt 50 \n",
    "clf_RF.fit(xtrain, ytrain)  \n",
    "# predict and evaluate performance\n",
    "clf_RF_predictions = clf_RF.predict(xtest)"
   ]
  },
  {
   "cell_type": "code",
   "execution_count": 160,
   "metadata": {},
   "outputs": [
    {
     "name": "stdout",
     "output_type": "stream",
     "text": [
      "[0.10748858 0.13730512 0.07852777 0.07029675 0.19763487 0.08273349\n",
      " 0.15089934 0.09105938 0.08405471]\n"
     ]
    }
   ],
   "source": [
    "print(clf_RF.feature_importances_)\n"
   ]
  },
  {
   "cell_type": "code",
   "execution_count": 161,
   "metadata": {},
   "outputs": [
    {
     "name": "stdout",
     "output_type": "stream",
     "text": [
      "{'bootstrap': True, 'class_weight': None, 'criterion': 'gini', 'max_depth': None, 'max_features': 'auto', 'max_leaf_nodes': None, 'min_impurity_decrease': 0.0, 'min_impurity_split': None, 'min_samples_leaf': 1, 'min_samples_split': 2, 'min_weight_fraction_leaf': 0.0, 'n_estimators': 10, 'n_jobs': None, 'oob_score': False, 'random_state': None, 'verbose': 0, 'warm_start': False}\n"
     ]
    }
   ],
   "source": [
    "print(clf_RF.get_params())"
   ]
  },
  {
   "cell_type": "code",
   "execution_count": 162,
   "metadata": {},
   "outputs": [
    {
     "name": "stdout",
     "output_type": "stream",
     "text": [
      "{'max_features': 'auto', 'n_estimators': 200}\n"
     ]
    }
   ],
   "source": [
    "#gridsearch and hyperparameter tuning (on the TRAIN set) #THIS CELL IS 24K GOLD! \n",
    "param_grid = {'n_estimators': [50, 100, 200, 300, 500], 'max_features': ['auto', None, 'log2']}\n",
    "clf_RF = GridSearchCV(RandomForestClassifier(random_state=42), param_grid, cv=5, scoring='accuracy')\n",
    "clf_RF.fit(xtrain, ytrain)\n",
    "print(clf_RF.best_params_)"
   ]
  },
  {
   "cell_type": "code",
   "execution_count": 163,
   "metadata": {},
   "outputs": [],
   "source": [
    "clf_RF = RandomForestClassifier(n_estimators=200, max_features='auto', random_state=42)\n",
    "clf_RF.fit(xtrain, ytrain)\n",
    "clf_RF_predictions = clf_RF.predict(xtest)"
   ]
  },
  {
   "cell_type": "code",
   "execution_count": 164,
   "metadata": {},
   "outputs": [
    {
     "name": "stdout",
     "output_type": "stream",
     "text": [
      "[[  3   0   0   0   0   0   1   5  23 302]\n",
      " [  1   4   0   0   0   0   0   6  10 101]\n",
      " [  0   0   3   0   0   0   2   3  12 101]\n",
      " [  0   0   1   2   0   0   1   8  11  77]\n",
      " [  2   0   0   0   3   0   0   5  16 123]\n",
      " [  1   0   0   0   0   4   0   4  13 117]\n",
      " [  0   0   0   0   0   1   8   5  21 203]\n",
      " [  0   0   0   0   0   0   6  33  40 328]\n",
      " [  3   0   0   0   1   0   0  21  90 482]\n",
      " [  7   1   1   0   0   5   6  20  83 711]]\n",
      "              precision    recall  f1-score   support\n",
      "\n",
      "         1.0       0.18      0.01      0.02       334\n",
      "         2.0       0.80      0.03      0.06       122\n",
      "         3.0       0.60      0.02      0.05       121\n",
      "         4.0       1.00      0.02      0.04       100\n",
      "         5.0       0.75      0.02      0.04       149\n",
      "         6.0       0.40      0.03      0.05       139\n",
      "         7.0       0.33      0.03      0.06       238\n",
      "         8.0       0.30      0.08      0.13       407\n",
      "         9.0       0.28      0.15      0.20       597\n",
      "        10.0       0.28      0.85      0.42       834\n",
      "\n",
      "   micro avg       0.28      0.28      0.28      3041\n",
      "   macro avg       0.49      0.13      0.11      3041\n",
      "weighted avg       0.36      0.28      0.19      3041\n",
      "\n",
      "0.28313054916146\n"
     ]
    }
   ],
   "source": [
    "print(confusion_matrix(ytest,clf_RF_predictions))  \n",
    "print(classification_report(ytest,clf_RF_predictions))  \n",
    "print(accuracy_score(ytest, clf_RF_predictions))"
   ]
  },
  {
   "cell_type": "markdown",
   "metadata": {},
   "source": [
    "\n",
    "It's time for evaluating the prediction on reviews on pain."
   ]
  },
  {
   "cell_type": "markdown",
   "metadata": {},
   "source": [
    "### Pain"
   ]
  },
  {
   "cell_type": "code",
   "execution_count": 165,
   "metadata": {},
   "outputs": [],
   "source": [
    "norm_corpus_P = normalize_corpus(df2[df2['condition'] == 'Pain'].review)\n"
   ]
  },
  {
   "cell_type": "code",
   "execution_count": 166,
   "metadata": {},
   "outputs": [
    {
     "data": {
      "text/plain": [
       "[('pain', 13862),\n",
       " ('take', 5484),\n",
       " ('work', 4136),\n",
       " ('day', 3902),\n",
       " ('mg', 3545),\n",
       " ('back', 2829),\n",
       " ('year', 2763),\n",
       " ('effect', 2486),\n",
       " ('help', 2341),\n",
       " ('time', 2181),\n",
       " ('medicin', 2140),\n",
       " ('doctor', 2102),\n",
       " ('medic', 1990),\n",
       " ('get', 1960),\n",
       " ('use', 1842),\n",
       " ('sever', 1804),\n",
       " ('side', 1801),\n",
       " ('hour', 1687),\n",
       " ('relief', 1557),\n",
       " ('tri', 1507),\n",
       " ('prescrib', 1507),\n",
       " ('feel', 1490),\n",
       " ('like', 1410),\n",
       " ('im', 1384),\n",
       " ('well', 1363),\n",
       " ('surgeri', 1316),\n",
       " ('ive', 1256),\n",
       " ('one', 1245),\n",
       " ('life', 1240),\n",
       " ('start', 1216),\n",
       " ('month', 1209),\n",
       " ('would', 1199),\n",
       " ('everi', 1171),\n",
       " ('also', 1147),\n",
       " ('patch', 1130),\n",
       " ('great', 1124),\n",
       " ('go', 1063),\n",
       " ('much', 1063),\n",
       " ('need', 1058),\n",
       " ('better', 1023)]"
      ]
     },
     "execution_count": 166,
     "metadata": {},
     "output_type": "execute_result"
    }
   ],
   "source": [
    "get_top_n_words(normalize_corpus(df2[df2['condition'] == 'Pain'].review), n=40)  #None\n"
   ]
  },
  {
   "cell_type": "code",
   "execution_count": 167,
   "metadata": {},
   "outputs": [
    {
     "name": "stdout",
     "output_type": "stream",
     "text": [
      "\n",
      "Transformed text vector is \n",
      " [[0 0 0 ... 0 0 1]\n",
      " [0 0 0 ... 0 1 0]\n",
      " [0 0 0 ... 0 0 0]\n",
      " ...\n",
      " [0 1 0 ... 0 0 4]\n",
      " [0 0 0 ... 0 1 1]\n",
      " [0 0 0 ... 0 0 1]]\n",
      "Words for each feature:\n",
      "['abl', 'ago', 'almost', 'also', 'away', 'back', 'back pain', 'bad', 'best', 'better', 'caus', 'chronic', 'chronic pain', 'could', 'daili', 'day', 'didnt', 'differ', 'disc', 'doctor', 'dont', 'dose', 'drug', 'due', 'effect', 'er', 'even', 'everi', 'feel', 'felt', 'first', 'found', 'gave', 'get', 'give', 'given', 'go', 'good', 'got', 'great', 'headach', 'help', 'hour', 'im', 'ive', 'knee', 'last', 'leg', 'life', 'like', 'littl', 'long', 'lot', 'lower', 'made', 'make', 'manag', 'mani', 'med', 'medic', 'medicin', 'mg', 'migrain', 'month', 'much', 'neck', 'need', 'nerv', 'never', 'night', 'norco', 'noth', 'one', 'oxycontin', 'pain', 'pain relief', 'patch', 'percocet', 'pill', 'prescrib', 'problem', 'put', 'realli', 'relief', 'reliev', 'say', 'seem', 'sever', 'side', 'side effect', 'sinc', 'sleep', 'start', 'still', 'stop', 'suffer', 'surgeri', 'take', 'take mg', 'taken', 'thing', 'time', 'took', 'tramadol', 'tri', 'two', 'use', 'vicodin', 'week', 'well', 'went', 'without', 'wonder', 'work', 'work well', 'would', 'year']\n"
     ]
    }
   ],
   "source": [
    "# So now, let's change the ngram to (1,2)\n",
    "vectorizer = CountVectorizer(ngram_range=(1,2), min_df=0.05, max_df=1.0, max_features=500)\n",
    "\n",
    "# call `fit` to build the vocabulary\n",
    "vectorizer.fit(norm_corpus_P)\n",
    "\n",
    "# call `transform` to convert text to a bag of words\n",
    "x = vectorizer.transform(norm_corpus_P)\n",
    "\n",
    "# CountVectorizer uses a sparse array to save memory, but it's easier in this assignment to \n",
    "# convert back to a \"normal\" numpy array\n",
    "x = x.toarray()  # this is for visualization purposes \n",
    "\n",
    "print()\n",
    "print(\"Transformed text vector is \\n\", x)\n",
    "\n",
    "# `get_feature_names` tracks which word is associated with each column of the transformed x\n",
    "print\n",
    "print(\"Words for each feature:\")\n",
    "print(vectorizer.get_feature_names())  # visualization"
   ]
  },
  {
   "cell_type": "code",
   "execution_count": 168,
   "metadata": {},
   "outputs": [],
   "source": [
    "y = df2[df2['condition'] == 'Pain'].rating  # df2['rating']\n",
    "xtrain, xtest, ytrain, ytest = train_test_split(x, y)  #(default=0.25)"
   ]
  },
  {
   "cell_type": "code",
   "execution_count": 169,
   "metadata": {},
   "outputs": [
    {
     "name": "stderr",
     "output_type": "stream",
     "text": [
      "/anaconda3/lib/python3.7/site-packages/sklearn/ensemble/forest.py:246: FutureWarning: The default value of n_estimators will change from 10 in version 0.20 to 100 in 0.22.\n",
      "  \"10 in version 0.20 to 100 in 0.22.\", FutureWarning)\n"
     ]
    }
   ],
   "source": [
    "#regressor target variables rating is \n",
    "# Train the model with Random Foprest Classifier     \n",
    "clf_RF = RandomForestClassifier()  \n",
    "#n_jobs=2 number of cores the computer uses, n_estimators = 500 (number of trees)  startt 50 \n",
    "clf_RF.fit(xtrain, ytrain)  \n",
    "# predict and evaluate performance\n",
    "clf_RF_predictions = clf_RF.predict(xtest)"
   ]
  },
  {
   "cell_type": "code",
   "execution_count": 170,
   "metadata": {},
   "outputs": [
    {
     "name": "stdout",
     "output_type": "stream",
     "text": [
      "[0.00575684 0.00635658 0.00572577 0.00959923 0.00638869 0.01350447\n",
      " 0.00714373 0.0072956  0.0059611  0.0093422  0.00834947 0.00686277\n",
      " 0.00335992 0.00480274 0.00693948 0.01853184 0.0076098  0.00536951\n",
      " 0.00726462 0.01239869 0.00720788 0.00856248 0.00899664 0.00609406\n",
      " 0.01425771 0.00759561 0.00825862 0.00690593 0.01146648 0.00529987\n",
      " 0.00806086 0.00758671 0.00652908 0.01245224 0.00671913 0.00837643\n",
      " 0.00921825 0.00812972 0.00607592 0.00716398 0.00645288 0.01721316\n",
      " 0.0125676  0.00995629 0.01029278 0.00736968 0.00773734 0.00573878\n",
      " 0.00806643 0.01120918 0.00654174 0.00620244 0.00595029 0.0056137\n",
      " 0.00677286 0.00941099 0.00598091 0.00511014 0.00626921 0.01450469\n",
      " 0.01377278 0.01532815 0.00708162 0.00847204 0.01131753 0.00561604\n",
      " 0.00737201 0.00692249 0.00526285 0.0060114  0.00645314 0.00670335\n",
      " 0.00881968 0.00529532 0.03315336 0.00535704 0.00880737 0.00799056\n",
      " 0.00657021 0.01230328 0.00634556 0.00672271 0.00774777 0.01085429\n",
      " 0.00745348 0.00429191 0.00788586 0.01418997 0.01037668 0.00930684\n",
      " 0.00567246 0.00809538 0.00752843 0.00942326 0.00644806 0.00676283\n",
      " 0.00918974 0.02177694 0.00355596 0.00586893 0.00610189 0.012531\n",
      " 0.00820051 0.00668035 0.01066734 0.00690268 0.0137768  0.00486509\n",
      " 0.00748166 0.00748921 0.00470392 0.00811218 0.00550626 0.01969931\n",
      " 0.00411293 0.00895839 0.01362151]\n"
     ]
    }
   ],
   "source": [
    "print(clf_RF.feature_importances_)"
   ]
  },
  {
   "cell_type": "code",
   "execution_count": 171,
   "metadata": {},
   "outputs": [
    {
     "name": "stdout",
     "output_type": "stream",
     "text": [
      "{'bootstrap': True, 'class_weight': None, 'criterion': 'gini', 'max_depth': None, 'max_features': 'auto', 'max_leaf_nodes': None, 'min_impurity_decrease': 0.0, 'min_impurity_split': None, 'min_samples_leaf': 1, 'min_samples_split': 2, 'min_weight_fraction_leaf': 0.0, 'n_estimators': 10, 'n_jobs': None, 'oob_score': False, 'random_state': None, 'verbose': 0, 'warm_start': False}\n"
     ]
    }
   ],
   "source": [
    "print(clf_RF.get_params())"
   ]
  },
  {
   "cell_type": "code",
   "execution_count": 172,
   "metadata": {},
   "outputs": [
    {
     "name": "stdout",
     "output_type": "stream",
     "text": [
      "{'max_features': 'log2', 'n_estimators': 200}\n"
     ]
    }
   ],
   "source": [
    "#gridsearch and hyperparameter tuning (on the TRAIN set) #THIS CELL IS 24K GOLD! \n",
    "param_grid = {'n_estimators': [50, 100, 200, 300, 500], 'max_features': ['auto', None, 'log2']}\n",
    "clf_RF = GridSearchCV(RandomForestClassifier(random_state=42), param_grid, cv=5, scoring='accuracy')\n",
    "clf_RF.fit(xtrain, ytrain)\n",
    "print(clf_RF.best_params_)"
   ]
  },
  {
   "cell_type": "code",
   "execution_count": 173,
   "metadata": {},
   "outputs": [],
   "source": [
    "clf_RF = RandomForestClassifier(n_estimators=200, max_features='log2', random_state=42)\n",
    "clf_RF.fit(xtrain, ytrain)\n",
    "clf_RF_predictions = clf_RF.predict(xtest)"
   ]
  },
  {
   "cell_type": "code",
   "execution_count": 174,
   "metadata": {},
   "outputs": [
    {
     "name": "stdout",
     "output_type": "stream",
     "text": [
      "[[139   1   2   0   0   2   1   3  11  46]\n",
      " [  4  31   0   0   0   1   0   1   1  26]\n",
      " [  6   1  34   0   0   0   0   2   4  19]\n",
      " [  0   1   0  23   0   0   0   1   2  12]\n",
      " [  0   0   0   0  37   0   0   0   5  14]\n",
      " [  2   0   0   0   0  29   1   3  11   9]\n",
      " [  3   2   0   0   0   0  53  11   7  48]\n",
      " [  6   0   0   0   0   0   1 174  17  93]\n",
      " [  4   2   0   0   1   2   1  11 277 138]\n",
      " [  7   3   0   0   0   3   0  16  34 663]]\n",
      "              precision    recall  f1-score   support\n",
      "\n",
      "         1.0       0.81      0.68      0.74       205\n",
      "         2.0       0.76      0.48      0.59        64\n",
      "         3.0       0.94      0.52      0.67        66\n",
      "         4.0       1.00      0.59      0.74        39\n",
      "         5.0       0.97      0.66      0.79        56\n",
      "         6.0       0.78      0.53      0.63        55\n",
      "         7.0       0.93      0.43      0.59       124\n",
      "         8.0       0.78      0.60      0.68       291\n",
      "         9.0       0.75      0.64      0.69       436\n",
      "        10.0       0.62      0.91      0.74       726\n",
      "\n",
      "   micro avg       0.71      0.71      0.71      2062\n",
      "   macro avg       0.84      0.60      0.68      2062\n",
      "weighted avg       0.74      0.71      0.70      2062\n",
      "\n",
      "0.7080504364694471\n"
     ]
    }
   ],
   "source": [
    "print(confusion_matrix(ytest,clf_RF_predictions))  \n",
    "print(classification_report(ytest,clf_RF_predictions))  \n",
    "print(accuracy_score(ytest, clf_RF_predictions))"
   ]
  },
  {
   "cell_type": "markdown",
   "metadata": {},
   "source": [
    "Prediction on the reviews on pain is even lower and we believe this is due to the fact that the model does not have sufficient amount of data to be able to predict."
   ]
  },
  {
   "cell_type": "markdown",
   "metadata": {},
   "source": [
    "##### The following is a loop in which we can get predictions of all 4 conditions by utilizing Random Forest model.¶\n"
   ]
  },
  {
   "cell_type": "code",
   "execution_count": 175,
   "metadata": {},
   "outputs": [
    {
     "name": "stdout",
     "output_type": "stream",
     "text": [
      "Normalization complete: \n",
      "Vectorization complete: \n",
      "creating train test data: \n",
      "Training model: \n"
     ]
    },
    {
     "name": "stderr",
     "output_type": "stream",
     "text": [
      "/anaconda3/lib/python3.7/site-packages/sklearn/ensemble/forest.py:246: FutureWarning: The default value of n_estimators will change from 10 in version 0.20 to 100 in 0.22.\n",
      "  \"10 in version 0.20 to 100 in 0.22.\", FutureWarning)\n"
     ]
    },
    {
     "name": "stdout",
     "output_type": "stream",
     "text": [
      "finished: Birth Control\n",
      "[[1344   30   25   15   11    6    6    9   33   47]\n",
      " [  94  509   17    6    9    2    2   10   19   26]\n",
      " [  84   20  506    6    6    4    4   11   10   28]\n",
      " [  52   18   10  389    2    0    7    4   16   28]\n",
      " [  83   17   18   14  521    5    4    3   23   30]\n",
      " [  30    5   16    9    9  354    8   15   18   30]\n",
      " [  32   16    6    4   15    6  412   13   26   39]\n",
      " [  39   22   15   11   29    7   26  768   67   89]\n",
      " [  45   14    8   13   15    6   11   36 1079  150]\n",
      " [  57   18   14    8    8   10   14   47  117 1660]]\n",
      "              precision    recall  f1-score   support\n",
      "\n",
      "         1.0       0.72      0.88      0.79      1526\n",
      "         2.0       0.76      0.73      0.75       694\n",
      "         3.0       0.80      0.75      0.77       679\n",
      "         4.0       0.82      0.74      0.78       526\n",
      "         5.0       0.83      0.73      0.78       718\n",
      "         6.0       0.89      0.72      0.79       494\n",
      "         7.0       0.83      0.72      0.78       569\n",
      "         8.0       0.84      0.72      0.77      1073\n",
      "         9.0       0.77      0.78      0.77      1377\n",
      "        10.0       0.78      0.85      0.81      1953\n",
      "\n",
      "   micro avg       0.78      0.78      0.78      9609\n",
      "   macro avg       0.80      0.76      0.78      9609\n",
      "weighted avg       0.79      0.78      0.78      9609\n",
      "\n",
      "0.7848891664064939\n",
      "Normalization complete: \n",
      "Vectorization complete: \n",
      "creating train test data: \n",
      "Training model: \n"
     ]
    },
    {
     "name": "stderr",
     "output_type": "stream",
     "text": [
      "/anaconda3/lib/python3.7/site-packages/sklearn/ensemble/forest.py:246: FutureWarning: The default value of n_estimators will change from 10 in version 0.20 to 100 in 0.22.\n",
      "  \"10 in version 0.20 to 100 in 0.22.\", FutureWarning)\n"
     ]
    },
    {
     "name": "stdout",
     "output_type": "stream",
     "text": [
      "finished: Depression\n",
      "[[255   3   2   3   2   4   6   9  20  24]\n",
      " [ 19  86   0   0   0   1   1   8   9   9]\n",
      " [ 13   0  63   0   0   5   3   4  13  19]\n",
      " [ 12   2   2  54   0   0   0   9   6   8]\n",
      " [ 10   3   1   1  75   2   4   6  12  23]\n",
      " [ 13   1   0   0   2  81   4  18   8  19]\n",
      " [ 12   0   1   3   1   3 149  13  23  27]\n",
      " [ 18   5   2   4   5   0   5 272  42  57]\n",
      " [ 27   2   2   5   6   5   6  31 418 110]\n",
      " [ 20   5   1   4   7   6  14  46  94 633]]\n",
      "              precision    recall  f1-score   support\n",
      "\n",
      "         1.0       0.64      0.78      0.70       328\n",
      "         2.0       0.80      0.65      0.72       133\n",
      "         3.0       0.85      0.53      0.65       120\n",
      "         4.0       0.73      0.58      0.65        93\n",
      "         5.0       0.77      0.55      0.64       137\n",
      "         6.0       0.76      0.55      0.64       146\n",
      "         7.0       0.78      0.64      0.70       232\n",
      "         8.0       0.65      0.66      0.66       410\n",
      "         9.0       0.65      0.68      0.67       612\n",
      "        10.0       0.68      0.76      0.72       830\n",
      "\n",
      "   micro avg       0.69      0.69      0.69      3041\n",
      "   macro avg       0.73      0.64      0.67      3041\n",
      "weighted avg       0.69      0.69      0.68      3041\n",
      "\n",
      "0.6859585662610983\n",
      "Normalization complete: \n",
      "Vectorization complete: \n",
      "creating train test data: \n",
      "Training model: \n"
     ]
    },
    {
     "name": "stderr",
     "output_type": "stream",
     "text": [
      "/anaconda3/lib/python3.7/site-packages/sklearn/ensemble/forest.py:246: FutureWarning: The default value of n_estimators will change from 10 in version 0.20 to 100 in 0.22.\n",
      "  \"10 in version 0.20 to 100 in 0.22.\", FutureWarning)\n"
     ]
    },
    {
     "name": "stdout",
     "output_type": "stream",
     "text": [
      "finished: Pain\n",
      "[[129   0   0   0   2   4   1  16  21  44]\n",
      " [  1  31   0   0   0   0   2   3   7  12]\n",
      " [  8   0  33   0   0   0   1   5   6  23]\n",
      " [  2   0   0  21   0   0   0   1   3  10]\n",
      " [  5   0   0   1  41   0   0   5   6  16]\n",
      " [  6   1   0   0   0  41   3   2   5   9]\n",
      " [  7   1   0   0   0   1  68  11  17  17]\n",
      " [ 10   2   0   1   2   0   2 187  38  60]\n",
      " [ 12   3   0   1   0   0   3  35 270 105]\n",
      " [ 21   4   1   1   5   3   6  43  66 532]]\n",
      "              precision    recall  f1-score   support\n",
      "\n",
      "         1.0       0.64      0.59      0.62       217\n",
      "         2.0       0.74      0.55      0.63        56\n",
      "         3.0       0.97      0.43      0.60        76\n",
      "         4.0       0.84      0.57      0.68        37\n",
      "         5.0       0.82      0.55      0.66        74\n",
      "         6.0       0.84      0.61      0.71        67\n",
      "         7.0       0.79      0.56      0.65       122\n",
      "         8.0       0.61      0.62      0.61       302\n",
      "         9.0       0.62      0.63      0.62       429\n",
      "        10.0       0.64      0.78      0.70       682\n",
      "\n",
      "   micro avg       0.66      0.66      0.66      2062\n",
      "   macro avg       0.75      0.59      0.65      2062\n",
      "weighted avg       0.67      0.66      0.65      2062\n",
      "\n",
      "0.6561590688651794\n",
      "Normalization complete: \n",
      "Vectorization complete: \n",
      "creating train test data: \n",
      "Training model: \n"
     ]
    },
    {
     "name": "stderr",
     "output_type": "stream",
     "text": [
      "/anaconda3/lib/python3.7/site-packages/sklearn/ensemble/forest.py:246: FutureWarning: The default value of n_estimators will change from 10 in version 0.20 to 100 in 0.22.\n",
      "  \"10 in version 0.20 to 100 in 0.22.\", FutureWarning)\n"
     ]
    },
    {
     "name": "stdout",
     "output_type": "stream",
     "text": [
      "finished: Anxiety\n",
      "[[117   3   0   1   2   0   0   7  13  36]\n",
      " [ 15  32   0   0   0   0   2   1   0  17]\n",
      " [  4   0  29   0   0   0   0   0   4  11]\n",
      " [  5   1   1  20   1   1   0   4   8   4]\n",
      " [  4   1   1   0  29   0   2   4   5  18]\n",
      " [  2   2   0   0   0  28   0   2   2  25]\n",
      " [  9   0   1   0   2   0  60   3  11  24]\n",
      " [  5   0   2   1   2   0   6 139  31  52]\n",
      " [ 17   5   1   1   3   0   2  24 246 117]\n",
      " [ 23   2   0   2   3   1   1  21  53 619]]\n",
      "              precision    recall  f1-score   support\n",
      "\n",
      "         1.0       0.58      0.65      0.62       179\n",
      "         2.0       0.70      0.48      0.57        67\n",
      "         3.0       0.83      0.60      0.70        48\n",
      "         4.0       0.80      0.44      0.57        45\n",
      "         5.0       0.69      0.45      0.55        64\n",
      "         6.0       0.93      0.46      0.62        61\n",
      "         7.0       0.82      0.55      0.66       110\n",
      "         8.0       0.68      0.58      0.63       238\n",
      "         9.0       0.66      0.59      0.62       416\n",
      "        10.0       0.67      0.85      0.75       725\n",
      "\n",
      "   micro avg       0.68      0.68      0.68      1953\n",
      "   macro avg       0.74      0.57      0.63      1953\n",
      "weighted avg       0.69      0.68      0.67      1953\n",
      "\n",
      "0.6753712237583205\n"
     ]
    }
   ],
   "source": [
    "models = {}\n",
    "accuracies = {}\n",
    "list_of_conditions = ['Birth Control', 'Depression', 'Pain', 'Anxiety']\n",
    "for condition in list_of_conditions:\n",
    "    norm_corpus = normalize_corpus(df2[df2['condition'] == condition].review)\n",
    "    print(\"Normalization complete: \")\n",
    "    vectorizer_loop = CountVectorizer(ngram_range=(1,2), min_df=0.05, max_df=1.0, max_features=500)\n",
    "    #x = vectorizer(normalize_corpus)\n",
    "    x = vectorizer_loop.fit_transform(norm_corpus)\n",
    "    print(\"Vectorization complete: \")\n",
    "    clf_RF_loop = RandomForestClassifier()\n",
    "    #x = vectorizer.transform(normalize_corpus)\n",
    "    y = df2[df2['condition']==condition]['rating']\n",
    "    print(\"creating train test data: \")\n",
    "    xtrain, xtest, ytrain, ytest = train_test_split(x, y)  #(default=0.25) 4 objects are created and returend and we assign the 4 objects\n",
    "    # left side is an object \n",
    "    print(\"Training model: \")\n",
    "    model = clf_RF_loop.fit(xtrain,ytrain) #clf_RF.fit  train_model \n",
    "    models[condition]=model\n",
    "    clf_RF_loop_predictions = clf_RF_loop.predict(xtest)\n",
    "    accuracies[condition] =  confusion_matrix(ytest,clf_RF_loop_predictions)\n",
    "    print(\"finished: \" + condition)\n",
    "    print(confusion_matrix(ytest,clf_RF_loop_predictions))  \n",
    "    print(classification_report(ytest,clf_RF_loop_predictions))  \n",
    "    print(accuracy_score(ytest, clf_RF_loop_predictions))"
   ]
  },
  {
   "cell_type": "markdown",
   "metadata": {},
   "source": [
    "#### Extreme Gradient Boosted Model with tuned hyperparameters\n",
    "\n",
    "###### Why Use XGBoost?\n",
    "In this section, we attempt to use another predicting model, called XGBoost to see if it's worth it (time and memory-wise as well as predicting power-wise). The two reasons to use XGBoost are also the two goals of the project:\n",
    "\n",
    "+ Execution Speed.\n",
    "+ Model Performance."
   ]
  },
  {
   "cell_type": "code",
   "execution_count": 176,
   "metadata": {},
   "outputs": [
    {
     "name": "stdout",
     "output_type": "stream",
     "text": [
      "Collecting xgboost\n",
      "\u001b[?25l  Downloading https://files.pythonhosted.org/packages/96/84/4e2cae6247f397f83d8adc5c2a2a0c5d7d790a14a4c7400ff6574586f589/xgboost-0.90.tar.gz (676kB)\n",
      "\u001b[K    100% |████████████████████████████████| 686kB 7.7MB/s ta 0:00:011\n",
      "\u001b[?25hRequirement already satisfied: numpy in /anaconda3/lib/python3.7/site-packages (from xgboost) (1.16.2)\n",
      "Requirement already satisfied: scipy in /anaconda3/lib/python3.7/site-packages (from xgboost) (1.2.1)\n",
      "Building wheels for collected packages: xgboost\n",
      "  Building wheel for xgboost (setup.py) ... \u001b[?25ldone\n",
      "\u001b[?25h  Stored in directory: /Users/nazanin.komeilizadeh/Library/Caches/pip/wheels/e9/48/4d/de4187b5270dff71d3697c5a7857a1e2d9a0c63a28b3462eeb\n",
      "Successfully built xgboost\n",
      "Installing collected packages: xgboost\n",
      "Successfully installed xgboost-0.90\n"
     ]
    }
   ],
   "source": [
    "!pip install xgboost\n"
   ]
  },
  {
   "cell_type": "code",
   "execution_count": 177,
   "metadata": {},
   "outputs": [],
   "source": [
    "import os\n",
    "\n",
    "mingw_path = r'C:\\mingw-w64\\mingw64\\bin'\n",
    "os.environ['PATH'] = mingw_path + ';' + os.environ['PATH']\n",
    "\n",
    "import xgboost as xgb"
   ]
  },
  {
   "cell_type": "code",
   "execution_count": 178,
   "metadata": {},
   "outputs": [
    {
     "data": {
      "text/plain": [
       "XGBClassifier(base_score=0.5, booster='gbtree', colsample_bylevel=1,\n",
       "       colsample_bynode=1, colsample_bytree=1, gamma=0, learning_rate=0.1,\n",
       "       max_delta_step=0, max_depth=3, min_child_weight=1, missing=None,\n",
       "       n_estimators=100, n_jobs=1, nthread=None,\n",
       "       objective='multi:softprob', random_state=0, reg_alpha=0,\n",
       "       reg_lambda=1, scale_pos_weight=1, seed=42, silent=None, subsample=1,\n",
       "       verbosity=1)"
      ]
     },
     "execution_count": 178,
     "metadata": {},
     "output_type": "execute_result"
    }
   ],
   "source": [
    "clf_xgb = xgb.XGBClassifier(seed=42)\n",
    "clf_xgb.fit(xtrain, ytrain)"
   ]
  },
  {
   "cell_type": "code",
   "execution_count": 179,
   "metadata": {},
   "outputs": [
    {
     "name": "stdout",
     "output_type": "stream",
     "text": [
      "[10. 10. 10. ... 10. 10. 10.]\n"
     ]
    }
   ],
   "source": [
    "clf_xgb_predictions = clf_xgb.predict(xtest)\n",
    "print(clf_xgb_predictions)"
   ]
  },
  {
   "cell_type": "code",
   "execution_count": 180,
   "metadata": {},
   "outputs": [
    {
     "data": {
      "text/plain": [
       "array([[0.15053408, 0.07005362, 0.04889477, ..., 0.12536784, 0.20963417,\n",
       "        0.24097049],\n",
       "       [0.02743042, 0.02056032, 0.01598592, ..., 0.09471668, 0.19517104,\n",
       "        0.585479  ],\n",
       "       [0.11687531, 0.01970715, 0.01161758, ..., 0.07906128, 0.14118722,\n",
       "        0.592941  ],\n",
       "       ...,\n",
       "       [0.1182007 , 0.04581704, 0.02724914, ..., 0.12694083, 0.1881659 ,\n",
       "        0.33322603],\n",
       "       [0.07645617, 0.01778677, 0.07771673, ..., 0.06214614, 0.13577679,\n",
       "        0.53190595],\n",
       "       [0.11528826, 0.04648902, 0.0243679 , ..., 0.10114133, 0.19245423,\n",
       "        0.3785882 ]], dtype=float32)"
      ]
     },
     "execution_count": 180,
     "metadata": {},
     "output_type": "execute_result"
    }
   ],
   "source": [
    "pred_xgb = clf_xgb.predict_proba(xtest)\n",
    "pred_xgb"
   ]
  },
  {
   "cell_type": "code",
   "execution_count": 181,
   "metadata": {},
   "outputs": [
    {
     "data": {
      "text/plain": [
       "0.4321556579621096"
      ]
     },
     "execution_count": 181,
     "metadata": {},
     "output_type": "execute_result"
    }
   ],
   "source": [
    "clf_xgb.score(xtest, ytest)"
   ]
  },
  {
   "cell_type": "markdown",
   "metadata": {},
   "source": [
    "The result from Extreme Gradient Boosting has been a bit disappointing to say the least! However, we are glad that we gave that model a try to see its performance."
   ]
  },
  {
   "cell_type": "markdown",
   "metadata": {},
   "source": [
    "### Conclusion and Closing Remarks\n",
    "We used the data set given by drugs.com and aimed to predict rating on reviews on reviews of various conditions in the data set. On the wrangling and visualization of the data, we listed the first 10 drug categories and also the top 10 conditions presented in the data set. We then plotted the histogram of the review counts and we found out that the review feature is bi-modal (heavy count on the higher review score of 9 and 10 as well as lower review score of 1). The histogram of the logarithm of useful counts of a review (number of people who found a review useful) turned out to be normally distributed. Throughout the visualization process, we plotted the bar charts of the drug names as well as that of the conditions of the drugs. Moreover, we plotted the first 10 most used Birth Control drugs since the condition of Birth Control was the highest condition name for the drug use, followed by Depression, Pain and Anxiety. On the statistical inference phase, we tested the original test and train sets on the condition of birth control, depression, pain and anxiety to see the proportions of these conditions in the two data sets they were split into. We also tested the mean of the drug rating of the entire data set as well as train and test data sets and saw that there was no difference in any of the ratios in any of the sets, hence, we failed to reject the null hypothesis. Basically, it turned out that all the conditions were evenly distributed and the means of the entire data set as well as the train and test data sets are also the same. Hence, we failed to reject the null hypothesis based on the fact that the mean drug review rating for the total data set and test sets is the same. On the Machine Learning phase, we started looking at the text documents of the review column for the top four conditions. We processed and tokenized corpus of reviews to build features for predictive models and trained machine learning models to predict drug rating based on reviews and relevant metadata. The machine learning models we chose were Naive Bayes, Random Forest and Extreme Gradient Boosting and the best performance by far was by Random Forest with a predicting score as high as 82%."
   ]
  },
  {
   "cell_type": "code",
   "execution_count": null,
   "metadata": {},
   "outputs": [],
   "source": []
  }
 ],
 "metadata": {
  "kernelspec": {
   "display_name": "Python 3",
   "language": "python",
   "name": "python3"
  },
  "language_info": {
   "codemirror_mode": {
    "name": "ipython",
    "version": 3
   },
   "file_extension": ".py",
   "mimetype": "text/x-python",
   "name": "python",
   "nbconvert_exporter": "python",
   "pygments_lexer": "ipython3",
   "version": "3.7.3"
  }
 },
 "nbformat": 4,
 "nbformat_minor": 2
}
