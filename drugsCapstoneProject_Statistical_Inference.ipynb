{
 "cells": [
  {
   "cell_type": "markdown",
   "metadata": {},
   "source": [
    "##  Statistical Inference \n",
    "\n",
    "After the data visualization phase of the project, due to the fact that the data given by the data source was split into test and train by default, we perform statistical inferences to see how the mean and standard deviation of the ratios of the top 4 conditions (Birth Control, Depression, Pain and Anxiety) in the test and train sets differ and whether the test and train sets are stratified in any of the mentioned conditions. We achieve this by using Null vs Alternative hypothesis, meaning that we perform the hypothesis testing on proportion of Birth Control, Depression, Pain and Anxiety in the test and train sets as well as the entire merged data set. For hypothesis testing, we also do a comparison of the mean drug rating between the test and train sets (df1 and df). This item is particularly important because if the conditions are exactly balanced, the people that made the datasets might have stratified over condition. Stratifying guarantees that those classes will be balanced, but makes it more likely that other variables (e.g. review score) not used for stratification will be imbalanced. \n",
    "\n"
   ]
  },
  {
   "cell_type": "code",
   "execution_count": 1,
   "metadata": {},
   "outputs": [
    {
     "name": "stderr",
     "output_type": "stream",
     "text": [
      "[nltk_data] Downloading package stopwords to\n",
      "[nltk_data]     C:\\Users\\Nazanin\\AppData\\Roaming\\nltk_data...\n",
      "[nltk_data]   Package stopwords is already up-to-date!\n"
     ]
    }
   ],
   "source": [
    "import pandas as pd\n",
    "import seaborn as sns\n",
    "import numpy as np\n",
    "import matplotlib.pyplot as plt\n",
    "import scipy.stats as stats\n",
    "import sklearn\n",
    "import scipy as sp\n",
    "import nltk\n",
    "import re \n",
    "from nltk.corpus import stopwords\n",
    "from nltk.tokenize import word_tokenize, sent_tokenize\n",
    "import math \n",
    "import matplotlib.pyplot as plt\n",
    "pd.options.display.max_colwidth = 200\n",
    "%matplotlib inline\n",
    "#import contractions\n",
    "from bs4 import BeautifulSoup\n",
    "import unicodedata\n",
    "import nltk \n",
    "nltk.download('stopwords')\n",
    "from numpy.random import seed\n",
    "from numpy.random import randn\n",
    "from statsmodels.graphics.gofplots import qqplot\n",
    "#from matplotlib import pyplot\n",
    "import pylab\n",
    "from statsmodels.distributions.empirical_distribution import ECDF\n",
    "from scipy.stats import norm \n",
    "from scipy import stats \n",
    "from statsmodels.stats.weightstats import ztest\n",
    "from matplotlib import rcParams"
   ]
  },
  {
   "cell_type": "code",
   "execution_count": 2,
   "metadata": {},
   "outputs": [],
   "source": [
    "df = pd.read_csv(r'C:\\Users\\Nazanin\\Downloads\\drugsCom_raw\\drugsComTest_raw.csv', sep=\"\\t\")\n",
    "df1 = pd.read_csv(r'C:\\Users\\Nazanin\\Downloads\\drugsCom_raw\\drugsComTrain_raw.csv', sep=\"\\t\")\n",
    "#display(df, df1)"
   ]
  },
  {
   "cell_type": "code",
   "execution_count": 3,
   "metadata": {},
   "outputs": [
    {
     "data": {
      "text/plain": [
       "['Unnamed: 0',\n",
       " 'drugName',\n",
       " 'condition',\n",
       " 'review',\n",
       " 'rating',\n",
       " 'date',\n",
       " 'usefulCount']"
      ]
     },
     "execution_count": 3,
     "metadata": {},
     "output_type": "execute_result"
    }
   ],
   "source": [
    "df2 = df.append(df1)\n",
    "list(df2)"
   ]
  },
  {
   "cell_type": "code",
   "execution_count": 4,
   "metadata": {},
   "outputs": [
    {
     "data": {
      "text/html": [
       "<div>\n",
       "<style scoped>\n",
       "    .dataframe tbody tr th:only-of-type {\n",
       "        vertical-align: middle;\n",
       "    }\n",
       "\n",
       "    .dataframe tbody tr th {\n",
       "        vertical-align: top;\n",
       "    }\n",
       "\n",
       "    .dataframe thead th {\n",
       "        text-align: right;\n",
       "    }\n",
       "</style>\n",
       "<table border=\"1\" class=\"dataframe\">\n",
       "  <thead>\n",
       "    <tr style=\"text-align: right;\">\n",
       "      <th></th>\n",
       "      <th>Unnamed: 0</th>\n",
       "      <th>drugName</th>\n",
       "      <th>condition</th>\n",
       "      <th>review</th>\n",
       "      <th>rating</th>\n",
       "      <th>date</th>\n",
       "      <th>usefulCount</th>\n",
       "    </tr>\n",
       "  </thead>\n",
       "  <tbody>\n",
       "    <tr>\n",
       "      <th>0</th>\n",
       "      <td>163740</td>\n",
       "      <td>Mirtazapine</td>\n",
       "      <td>Depression</td>\n",
       "      <td>\"I&amp;#039;ve tried a few antidepressants over the years (citalopram, fluoxetine, amitriptyline), but none of those helped with my depression, insomnia &amp;amp; anxiety. My doctor suggested and changed ...</td>\n",
       "      <td>10.0</td>\n",
       "      <td>February 28, 2012</td>\n",
       "      <td>22</td>\n",
       "    </tr>\n",
       "    <tr>\n",
       "      <th>1</th>\n",
       "      <td>206473</td>\n",
       "      <td>Mesalamine</td>\n",
       "      <td>Crohn's Disease, Maintenance</td>\n",
       "      <td>\"My son has Crohn&amp;#039;s disease and has done very well on the Asacol.  He has no complaints and shows no side effects.  He has taken as many as nine tablets per day at one time.  I&amp;#039;ve been v...</td>\n",
       "      <td>8.0</td>\n",
       "      <td>May 17, 2009</td>\n",
       "      <td>17</td>\n",
       "    </tr>\n",
       "    <tr>\n",
       "      <th>2</th>\n",
       "      <td>159672</td>\n",
       "      <td>Bactrim</td>\n",
       "      <td>Urinary Tract Infection</td>\n",
       "      <td>\"Quick reduction of symptoms\"</td>\n",
       "      <td>9.0</td>\n",
       "      <td>September 29, 2017</td>\n",
       "      <td>3</td>\n",
       "    </tr>\n",
       "    <tr>\n",
       "      <th>3</th>\n",
       "      <td>39293</td>\n",
       "      <td>Contrave</td>\n",
       "      <td>Weight Loss</td>\n",
       "      <td>\"Contrave combines drugs that were used for alcohol, smoking, and opioid cessation. People lose weight on it because it also helps control over-eating. I have no doubt that most obesity is caused ...</td>\n",
       "      <td>9.0</td>\n",
       "      <td>March 5, 2017</td>\n",
       "      <td>35</td>\n",
       "    </tr>\n",
       "    <tr>\n",
       "      <th>4</th>\n",
       "      <td>97768</td>\n",
       "      <td>Cyclafem 1 / 35</td>\n",
       "      <td>Birth Control</td>\n",
       "      <td>\"I have been on this birth control for one cycle. After reading some of the reviews on this type and similar birth controls I was a bit apprehensive to start. Im giving this birth control a 9 out ...</td>\n",
       "      <td>9.0</td>\n",
       "      <td>October 22, 2015</td>\n",
       "      <td>4</td>\n",
       "    </tr>\n",
       "  </tbody>\n",
       "</table>\n",
       "</div>"
      ],
      "text/plain": [
       "   Unnamed: 0         drugName                     condition  \\\n",
       "0      163740      Mirtazapine                    Depression   \n",
       "1      206473       Mesalamine  Crohn's Disease, Maintenance   \n",
       "2      159672          Bactrim       Urinary Tract Infection   \n",
       "3       39293         Contrave                   Weight Loss   \n",
       "4       97768  Cyclafem 1 / 35                 Birth Control   \n",
       "\n",
       "                                                                                                                                                                                                    review  \\\n",
       "0  \"I&#039;ve tried a few antidepressants over the years (citalopram, fluoxetine, amitriptyline), but none of those helped with my depression, insomnia &amp; anxiety. My doctor suggested and changed ...   \n",
       "1  \"My son has Crohn&#039;s disease and has done very well on the Asacol.  He has no complaints and shows no side effects.  He has taken as many as nine tablets per day at one time.  I&#039;ve been v...   \n",
       "2                                                                                                                                                                            \"Quick reduction of symptoms\"   \n",
       "3  \"Contrave combines drugs that were used for alcohol, smoking, and opioid cessation. People lose weight on it because it also helps control over-eating. I have no doubt that most obesity is caused ...   \n",
       "4  \"I have been on this birth control for one cycle. After reading some of the reviews on this type and similar birth controls I was a bit apprehensive to start. Im giving this birth control a 9 out ...   \n",
       "\n",
       "   rating                date  usefulCount  \n",
       "0    10.0   February 28, 2012           22  \n",
       "1     8.0        May 17, 2009           17  \n",
       "2     9.0  September 29, 2017            3  \n",
       "3     9.0       March 5, 2017           35  \n",
       "4     9.0    October 22, 2015            4  "
      ]
     },
     "execution_count": 4,
     "metadata": {},
     "output_type": "execute_result"
    }
   ],
   "source": [
    "df2.reset_index(drop=True).head()"
   ]
  },
  {
   "cell_type": "markdown",
   "metadata": {},
   "source": [
    "### Statistical Inferences\n",
    "\n",
    "For hypothesis testing:\n",
    "+ Now, we are doing hypothesis tests on proportion of birth control, depression, pain and anxiety.\n",
    "+ We do a comparison (and test) of the mean drug rating between the test and train sets (df1 and df). This item is particularly important because if the conditions are exactly balanced, the people that made the datasets might have stratified over condition. Stratifying guarantees that those classes will be balanced, but makes it more likely that other variables (e.g. review score) not used for stratification will be imbalanced"
   ]
  },
  {
   "cell_type": "code",
   "execution_count": 11,
   "metadata": {},
   "outputs": [
    {
     "data": {
      "text/plain": [
       "215063"
      ]
     },
     "execution_count": 11,
     "metadata": {},
     "output_type": "execute_result"
    }
   ],
   "source": [
    "df2t = len(df2.condition)\n",
    "df2t"
   ]
  },
  {
   "cell_type": "code",
   "execution_count": 27,
   "metadata": {},
   "outputs": [
    {
     "data": {
      "text/plain": [
       "0     10.0\n",
       "1      8.0\n",
       "2      9.0\n",
       "3      9.0\n",
       "4      9.0\n",
       "5      4.0\n",
       "6      6.0\n",
       "7      9.0\n",
       "8      7.0\n",
       "9      2.0\n",
       "10     1.0\n",
       "11     6.0\n",
       "12     1.0\n",
       "13    10.0\n",
       "14     2.0\n",
       "15     9.0\n",
       "16    10.0\n",
       "17     3.0\n",
       "18     6.0\n",
       "19    10.0\n",
       "Name: rating, dtype: float64"
      ]
     },
     "execution_count": 27,
     "metadata": {},
     "output_type": "execute_result"
    }
   ],
   "source": [
    "df2.rating[:20]"
   ]
  },
  {
   "cell_type": "code",
   "execution_count": 6,
   "metadata": {},
   "outputs": [],
   "source": [
    "cbc = len(df2[df2['condition'] == 'Birth Control'] )\n",
    "#df2[df2['condition']=='Birth Control'] "
   ]
  },
  {
   "cell_type": "code",
   "execution_count": 7,
   "metadata": {},
   "outputs": [],
   "source": [
    "cd = len(df2[df2['condition'] == 'Depression'] )"
   ]
  },
  {
   "cell_type": "code",
   "execution_count": 8,
   "metadata": {},
   "outputs": [],
   "source": [
    "cp = len(df2[df2['condition'] == 'Pain'] )"
   ]
  },
  {
   "cell_type": "code",
   "execution_count": 9,
   "metadata": {},
   "outputs": [],
   "source": [
    "ca = len(df2[df2['condition'] == 'Anxiety'] )"
   ]
  },
  {
   "cell_type": "code",
   "execution_count": 13,
   "metadata": {},
   "outputs": [
    {
     "name": "stdout",
     "output_type": "stream",
     "text": [
      "ratio of Birth Control in the entire data set is: 0.1787197239878547\n",
      "ratio of Depression in the entire data set is: 0.05656017074066669\n",
      "ratio of Pain in the entire data set is: 0.03833760339993397\n",
      "ratio of Anxiety in the entire data set is: 0.036324239873897414\n"
     ]
    }
   ],
   "source": [
    "print('ratio of Birth Control in the entire data set is: ' + str(cbc/df2t))\n",
    "print('ratio of Depression in the entire data set is: ' + str(cd/df2t))\n",
    "print('ratio of Pain in the entire data set is: ' + str(cp/df2t))\n",
    "print('ratio of Anxiety in the entire data set is: ' + str(ca/df2t))\n"
   ]
  },
  {
   "cell_type": "code",
   "execution_count": 14,
   "metadata": {},
   "outputs": [
    {
     "name": "stdout",
     "output_type": "stream",
     "text": [
      "ratio of Birth Control in the train data set is: 0.1784782110020645\n",
      "ratio of Depression in the train data set is: 0.05622547226544821\n",
      "ratio of Pain in the train data set is: 0.03809742276669746\n",
      "ratio of Anxiety in the train data set is: 0.03660328462401657\n"
     ]
    }
   ],
   "source": [
    "df1t = len(df1.condition)   #df1 is the train\n",
    "cbc1 = len(df1[df1['condition'] == 'Birth Control'] )\n",
    "cd1 = len(df1[df1['condition'] == 'Depression'] )\n",
    "cp1 = len(df1[df1['condition'] == 'Pain'] )\n",
    "ca1 = len(df1[df1['condition'] == 'Anxiety'] )\n",
    "\n",
    "print('ratio of Birth Control in the train data set is: ' + str(cbc1/df1t))\n",
    "print('ratio of Depression in the train data set is: ' + str(cd1/df1t))\n",
    "print('ratio of Pain in the train data set is: ' + str(cp1/df1t))\n",
    "print('ratio of Anxiety in the train data set is: ' + str(ca1/df1t))"
   ]
  },
  {
   "cell_type": "code",
   "execution_count": 15,
   "metadata": {},
   "outputs": [
    {
     "name": "stdout",
     "output_type": "stream",
     "text": [
      "ratio of Birth Control in the test data set is: 0.17944425845329762\n",
      "ratio of Depression in the test data set is: 0.0575642599412268\n",
      "ratio of Pain in the test data set is: 0.039058140832496376\n",
      "ratio of Anxiety in the test data set is: 0.03548711081352528\n"
     ]
    }
   ],
   "source": [
    "dft = len(df.condition)   #df is the test \n",
    "cbc0 = len(df[df['condition'] == 'Birth Control'] )\n",
    "cd0 = len(df[df['condition'] == 'Depression'] )\n",
    "cp0 = len(df[df['condition'] == 'Pain'])\n",
    "ca0 = len(df[df['condition'] == 'Anxiety'])\n",
    "\n",
    "print('ratio of Birth Control in the test data set is: ' + str(cbc0/dft))\n",
    "print('ratio of Depression in the test data set is: ' + str(cd0/dft))\n",
    "print('ratio of Pain in the test data set is: ' + str(cp0/dft))\n",
    "print('ratio of Anxiety in the test data set is: ' + str(ca0/dft))"
   ]
  },
  {
   "cell_type": "code",
   "execution_count": 16,
   "metadata": {},
   "outputs": [
    {
     "name": "stdout",
     "output_type": "stream",
     "text": [
      "difference of the rations between Birth Control on the test and train data set  is: 0.0009660474512331041\n",
      "difference of the rations between Depression on the test and train data set  is: 0.0013387876757785869\n",
      "difference of the rations between Pain on the test and train data set  is: 0.0009607180657989142\n",
      "difference of the rations between Anxiety on the test and train data set  is: -0.0011161738104912902\n"
     ]
    }
   ],
   "source": [
    "delta_bc =  cbc0/dft - cbc1/df1t\n",
    "print('difference of the rations between Birth Control on the test and train data set  is: ' + str(delta_bc))\n",
    "delta_d =  cd0/dft - cd1/df1t\n",
    "print('difference of the rations between Depression on the test and train data set  is: ' + str(delta_d))\n",
    "delta_p =  cp0/dft - cp1/df1t\n",
    "print('difference of the rations between Pain on the test and train data set  is: ' + str(delta_p))\n",
    "delta_a =  ca0/dft - ca1/df1t\n",
    "print('difference of the rations between Anxiety on the test and train data set  is: ' + str(delta_a))"
   ]
  },
  {
   "cell_type": "markdown",
   "metadata": {},
   "source": [
    "#### Hypothesis test:   #df1 is the train set and df is the test set \n",
    "+ H_0 : mean drug rating for the total and the test data set is the same \n",
    "+ H_a : mean drug rating for the total and the test data set is not the same "
   ]
  },
  {
   "cell_type": "code",
   "execution_count": 17,
   "metadata": {},
   "outputs": [
    {
     "name": "stdout",
     "output_type": "stream",
     "text": [
      "Mean of drug rating on the entire data set is: 6.990007579174474\n",
      "Mean of drug rating on the train data set is: 6.994376832799122\n",
      "Mean of drug rating on the test data set is: 6.97689989956478\n"
     ]
    }
   ],
   "source": [
    "np.mean(df2.rating)\n",
    "print('Mean of drug rating on the entire data set is: ' + str(np.mean(df2.rating)))\n",
    "\n",
    "np.mean(df1.rating)\n",
    "print('Mean of drug rating on the train data set is: ' + str(np.mean(df1.rating)))\n",
    "\n",
    "np.mean(df.rating)\n",
    "print('Mean of drug rating on the test data set is: ' + str(np.mean(df.rating)))"
   ]
  },
  {
   "cell_type": "code",
   "execution_count": 18,
   "metadata": {},
   "outputs": [
    {
     "name": "stdout",
     "output_type": "stream",
     "text": [
      "Standard deviation of drug rating on the entire data set is: 3.2755468822457248\n",
      "Standard deviation of drug rating on the train data set is: 3.2723190652035488\n",
      "Standard deviation of drug rating on the test data set is: 3.285176379204773\n"
     ]
    }
   ],
   "source": [
    "np.std(df2.rating)\n",
    "print('Standard deviation of drug rating on the entire data set is: ' + str(np.std(df2.rating)))\n",
    "\n",
    "np.std(df1.rating)\n",
    "print('Standard deviation of drug rating on the train data set is: ' + str(np.std(df1.rating)))\n",
    "\n",
    "np.std(df.rating)\n",
    "print('Standard deviation of drug rating on the test data set is: ' + str(np.std(df.rating)))"
   ]
  },
  {
   "cell_type": "code",
   "execution_count": 19,
   "metadata": {},
   "outputs": [],
   "source": [
    "def permutation_sample(d1, d2):  \n",
    "    d = np.concatenate((d1, d2))\n",
    "    perm_d = np.random.permutation(d)\n",
    "    return perm_d[:len(d1)], perm_d[len(d1):]"
   ]
  },
  {
   "cell_type": "code",
   "execution_count": 20,
   "metadata": {},
   "outputs": [],
   "source": [
    "def draw_perm_reps(data_1, data_2, func, size=1):\n",
    "    \"\"\"Generate multiple permutation replicates.\"\"\"\n",
    "\n",
    "    # Initialize array of replicates: perm_replicates\n",
    "    perm_replicates = np.empty(size)\n",
    "\n",
    "    for i in range(size):\n",
    "        # Generate permutation sample\n",
    "        perm_sample_1, perm_sample_2 = permutation_sample(data_1, data_2)\n",
    "\n",
    "        # Compute the test statistic\n",
    "        perm_replicates[i] = func(perm_sample_1, perm_sample_2)\n",
    "\n",
    "    return perm_replicates"
   ]
  },
  {
   "cell_type": "code",
   "execution_count": 21,
   "metadata": {},
   "outputs": [
    {
     "name": "stdout",
     "output_type": "stream",
     "text": [
      "p-value = 0.1418\n"
     ]
    }
   ],
   "source": [
    "def diff_of_means(data_1, data_2):\n",
    "    \"\"\"Difference in means of two arrays.\"\"\"\n",
    "\n",
    "    # The difference of means of data_1, data_2: diff\n",
    "    diff = np.mean(data_1) - np.mean(data_2)\n",
    "\n",
    "    return diff\n",
    "\n",
    "# Compute difference of mean impact force from experiment: empirical_diff_means\n",
    "empirical_diff_means = diff_of_means(df1.rating, df.rating)\n",
    "\n",
    "# Draw 10,000 permutation replicates: perm_replicates\n",
    "perm_replicates = draw_perm_reps(df1.rating, df.rating, diff_of_means, size=10000)\n",
    "\n",
    "# Compute p-value: p\n",
    "p = np.sum(perm_replicates >= empirical_diff_means) / len(perm_replicates)\n",
    "\n",
    "# Print the result\n",
    "print('p-value =', p)\n"
   ]
  },
  {
   "cell_type": "code",
   "execution_count": 24,
   "metadata": {},
   "outputs": [
    {
     "name": "stdout",
     "output_type": "stream",
     "text": [
      "[-0.03973465  0.04244951]\n"
     ]
    }
   ],
   "source": [
    "conf_int_bs_repl = np.percentile(perm_replicates, [0.5, 99.5]) \n",
    "print(conf_int_bs_repl)\n"
   ]
  },
  {
   "cell_type": "code",
   "execution_count": 25,
   "metadata": {},
   "outputs": [
    {
     "name": "stdout",
     "output_type": "stream",
     "text": [
      "Fail to reject H_0\n"
     ]
    }
   ],
   "source": [
    "if p < 0.01: \n",
    "    print('We reject H_0')\n",
    "else:\n",
    "        print('Fail to reject H_0')"
   ]
  },
  {
   "cell_type": "markdown",
   "metadata": {},
   "source": [
    "After implementing the statistical inference tests by utilizing Null and Alternative hypotheses, we come to the conclusion that we can’t reject the Null hypothesis, meaning that the ratios of the top 4 conditions in the train and test sets as well as in the entire set is the same. Moreover, the mean of the rating of the reviews in the 3 sets of test, train and the entire data set are the same. \n",
    "\n",
    "We are going to perform Machine Learning on the prediction of rating for the reviews of different conditions. This is computed in the next Jupyter notebook. "
   ]
  }
 ],
 "metadata": {
  "kernelspec": {
   "display_name": "Python 3",
   "language": "python",
   "name": "python3"
  },
  "language_info": {
   "codemirror_mode": {
    "name": "ipython",
    "version": 3
   },
   "file_extension": ".py",
   "mimetype": "text/x-python",
   "name": "python",
   "nbconvert_exporter": "python",
   "pygments_lexer": "ipython3",
   "version": "3.7.1"
  }
 },
 "nbformat": 4,
 "nbformat_minor": 2
}
